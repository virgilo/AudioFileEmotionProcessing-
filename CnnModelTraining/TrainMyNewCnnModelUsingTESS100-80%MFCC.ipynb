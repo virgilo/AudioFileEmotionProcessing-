{
 "cells": [
  {
   "cell_type": "code",
   "execution_count": 4,
   "metadata": {
    "scrolled": true
   },
   "outputs": [
    {
     "name": "stdout",
     "output_type": "stream",
     "text": [
      "KFOLDS VALIDATION IS IT GOOD ON TESS?? We will see!\n",
      "Found 2240 images belonging to 7 classes.\n",
      "Found 560 images belonging to 7 classes.\n",
      "Model: \"sequential_2\"\n",
      "_________________________________________________________________\n",
      "Layer (type)                 Output Shape              Param #   \n",
      "=================================================================\n",
      "conv2d_6 (Conv2D)            (None, 540, 108, 32)      896       \n",
      "_________________________________________________________________\n",
      "max_pooling2d_6 (MaxPooling2 (None, 270, 54, 32)       0         \n",
      "_________________________________________________________________\n",
      "conv2d_7 (Conv2D)            (None, 270, 54, 64)       18496     \n",
      "_________________________________________________________________\n",
      "max_pooling2d_7 (MaxPooling2 (None, 135, 27, 64)       0         \n",
      "_________________________________________________________________\n",
      "conv2d_8 (Conv2D)            (None, 135, 27, 128)      73856     \n",
      "_________________________________________________________________\n",
      "max_pooling2d_8 (MaxPooling2 (None, 67, 13, 128)       0         \n",
      "_________________________________________________________________\n",
      "flatten_2 (Flatten)          (None, 111488)            0         \n",
      "_________________________________________________________________\n",
      "dense_4 (Dense)              (None, 256)               28541184  \n",
      "_________________________________________________________________\n",
      "dropout_2 (Dropout)          (None, 256)               0         \n",
      "_________________________________________________________________\n",
      "dense_5 (Dense)              (None, 7)                 1799      \n",
      "=================================================================\n",
      "Total params: 28,636,231\n",
      "Trainable params: 28,636,231\n",
      "Non-trainable params: 0\n",
      "_________________________________________________________________\n",
      "Epoch 1/100\n",
      "70/70 [==============================] - 118s 2s/step - loss: 2.1166 - acc: 0.1732\n",
      "Epoch 2/100\n",
      "70/70 [==============================] - 122s 2s/step - loss: 1.7906 - acc: 0.3076\n",
      "Epoch 3/100\n",
      "70/70 [==============================] - 123s 2s/step - loss: 1.3552 - acc: 0.4978\n",
      "Epoch 4/100\n",
      "70/70 [==============================] - 124s 2s/step - loss: 1.0860 - acc: 0.6027\n",
      "Epoch 5/100\n",
      "70/70 [==============================] - 128s 2s/step - loss: 0.8659 - acc: 0.6982\n",
      "Epoch 6/100\n",
      "70/70 [==============================] - 132s 2s/step - loss: 0.5849 - acc: 0.7924\n",
      "Epoch 7/100\n",
      "70/70 [==============================] - 131s 2s/step - loss: 0.3511 - acc: 0.8795\n",
      "Epoch 8/100\n",
      "70/70 [==============================] - 127s 2s/step - loss: 0.2413 - acc: 0.9246\n",
      "Epoch 9/100\n",
      "70/70 [==============================] - 134s 2s/step - loss: 0.1314 - acc: 0.9545\n",
      "Epoch 10/100\n",
      "70/70 [==============================] - 129s 2s/step - loss: 0.0998 - acc: 0.9652\n",
      "Epoch 11/100\n",
      "70/70 [==============================] - 128s 2s/step - loss: 0.0699 - acc: 0.9786\n",
      "Epoch 12/100\n",
      "70/70 [==============================] - 130s 2s/step - loss: 0.0617 - acc: 0.9781\n",
      "Epoch 13/100\n",
      "70/70 [==============================] - 121s 2s/step - loss: 0.0413 - acc: 0.9875\n",
      "Epoch 14/100\n",
      "70/70 [==============================] - 120s 2s/step - loss: 0.0361 - acc: 0.9906\n",
      "Epoch 15/100\n",
      "70/70 [==============================] - 131s 2s/step - loss: 0.0298 - acc: 0.9897\n",
      "Epoch 16/100\n",
      "70/70 [==============================] - 121s 2s/step - loss: 0.0481 - acc: 0.9848\n",
      "Epoch 17/100\n",
      "70/70 [==============================] - 118s 2s/step - loss: 0.0983 - acc: 0.9705\n",
      "Epoch 18/100\n",
      "70/70 [==============================] - 117s 2s/step - loss: 0.0391 - acc: 0.9915\n",
      "Epoch 19/100\n",
      "70/70 [==============================] - 118s 2s/step - loss: 0.0222 - acc: 0.9924\n",
      "Epoch 20/100\n",
      "70/70 [==============================] - 116s 2s/step - loss: 0.0252 - acc: 0.9906\n",
      "Epoch 21/100\n",
      "70/70 [==============================] - 116s 2s/step - loss: 0.0149 - acc: 0.9942\n",
      "Epoch 22/100\n",
      "70/70 [==============================] - 117s 2s/step - loss: 0.0251 - acc: 0.9924\n",
      "Epoch 23/100\n",
      "70/70 [==============================] - 116s 2s/step - loss: 0.0315 - acc: 0.9879\n",
      "Epoch 24/100\n",
      "70/70 [==============================] - 116s 2s/step - loss: 0.0191 - acc: 0.9933\n",
      "Epoch 25/100\n",
      "70/70 [==============================] - 116s 2s/step - loss: 0.0213 - acc: 0.9933\n",
      "Epoch 26/100\n",
      "70/70 [==============================] - 116s 2s/step - loss: 0.0361 - acc: 0.9866\n",
      "Epoch 27/100\n",
      "70/70 [==============================] - 117s 2s/step - loss: 0.0182 - acc: 0.9946\n",
      "Epoch 28/100\n",
      "70/70 [==============================] - 116s 2s/step - loss: 0.0595 - acc: 0.9799\n",
      "Epoch 29/100\n",
      "70/70 [==============================] - 117s 2s/step - loss: 0.0357 - acc: 0.9884\n",
      "Epoch 30/100\n",
      "70/70 [==============================] - 116s 2s/step - loss: 0.0308 - acc: 0.9906\n",
      "Epoch 31/100\n",
      "70/70 [==============================] - 116s 2s/step - loss: 0.0260 - acc: 0.9902\n",
      "Epoch 32/100\n",
      "70/70 [==============================] - 116s 2s/step - loss: 0.0138 - acc: 0.9960\n",
      "Epoch 33/100\n",
      "70/70 [==============================] - 117s 2s/step - loss: 0.0079 - acc: 0.9978\n",
      "Epoch 34/100\n",
      "70/70 [==============================] - 116s 2s/step - loss: 0.0147 - acc: 0.9933\n",
      "Epoch 35/100\n",
      "70/70 [==============================] - 116s 2s/step - loss: 0.0177 - acc: 0.9942\n",
      "Epoch 36/100\n",
      "70/70 [==============================] - 117s 2s/step - loss: 0.0086 - acc: 0.9973\n",
      "Epoch 37/100\n",
      "70/70 [==============================] - 117s 2s/step - loss: 0.0113 - acc: 0.9964\n",
      "Epoch 38/100\n",
      "70/70 [==============================] - 116s 2s/step - loss: 0.0055 - acc: 0.9982\n",
      "Epoch 39/100\n",
      "70/70 [==============================] - 117s 2s/step - loss: 0.0088 - acc: 0.9964\n",
      "Epoch 40/100\n",
      "70/70 [==============================] - 121s 2s/step - loss: 0.0064 - acc: 0.9987\n",
      "Epoch 41/100\n",
      "70/70 [==============================] - 127s 2s/step - loss: 0.0335 - acc: 0.9920\n",
      "Epoch 42/100\n",
      "70/70 [==============================] - 124s 2s/step - loss: 0.0215 - acc: 0.9929\n",
      "Epoch 43/100\n",
      "70/70 [==============================] - 128s 2s/step - loss: 0.0108 - acc: 0.9964\n",
      "Epoch 44/100\n",
      "70/70 [==============================] - 128s 2s/step - loss: 0.0029 - acc: 0.9987\n",
      "Epoch 45/100\n",
      "70/70 [==============================] - 115s 2s/step - loss: 0.0082 - acc: 0.9973\n",
      "Epoch 46/100\n",
      "70/70 [==============================] - 115s 2s/step - loss: 0.0137 - acc: 0.9942\n",
      "Epoch 47/100\n",
      "70/70 [==============================] - 115s 2s/step - loss: 0.0062 - acc: 0.9982\n",
      "Epoch 48/100\n",
      "70/70 [==============================] - 115s 2s/step - loss: 0.0130 - acc: 0.9964\n",
      "Epoch 49/100\n",
      "70/70 [==============================] - 115s 2s/step - loss: 0.0114 - acc: 0.9955\n",
      "Epoch 50/100\n",
      "70/70 [==============================] - 116s 2s/step - loss: 0.0280 - acc: 0.9879\n",
      "Epoch 51/100\n",
      "70/70 [==============================] - 115s 2s/step - loss: 0.0515 - acc: 0.9817\n",
      "Epoch 52/100\n",
      "70/70 [==============================] - 115s 2s/step - loss: 0.0327 - acc: 0.9879\n",
      "Epoch 53/100\n",
      "70/70 [==============================] - 115s 2s/step - loss: 0.0183 - acc: 0.9920\n",
      "Epoch 54/100\n",
      "70/70 [==============================] - 115s 2s/step - loss: 0.0154 - acc: 0.9937\n",
      "Epoch 55/100\n",
      "70/70 [==============================] - 115s 2s/step - loss: 0.0102 - acc: 0.9960\n",
      "Epoch 56/100\n",
      "70/70 [==============================] - 115s 2s/step - loss: 0.0073 - acc: 0.9982\n",
      "Epoch 57/100\n",
      "70/70 [==============================] - 115s 2s/step - loss: 0.0076 - acc: 0.9973\n",
      "Epoch 58/100\n",
      "70/70 [==============================] - 116s 2s/step - loss: 0.0426 - acc: 0.9871\n",
      "Epoch 59/100\n",
      "70/70 [==============================] - 117s 2s/step - loss: 0.0200 - acc: 0.9933\n",
      "Epoch 60/100\n",
      "70/70 [==============================] - 122s 2s/step - loss: 0.0070 - acc: 0.9969\n",
      "Epoch 61/100\n",
      "70/70 [==============================] - 118s 2s/step - loss: 0.0041 - acc: 0.9987\n",
      "Epoch 62/100\n",
      "70/70 [==============================] - 115s 2s/step - loss: 0.0046 - acc: 0.9978\n",
      "Epoch 63/100\n",
      "70/70 [==============================] - 120s 2s/step - loss: 0.0083 - acc: 0.9964\n",
      "Epoch 64/100\n",
      "70/70 [==============================] - 132s 2s/step - loss: 0.0194 - acc: 0.9929\n",
      "Epoch 65/100\n",
      "70/70 [==============================] - 116s 2s/step - loss: 0.0037 - acc: 0.9987\n",
      "Epoch 66/100\n",
      "70/70 [==============================] - 116s 2s/step - loss: 0.0060 - acc: 0.9982\n",
      "Epoch 67/100\n"
     ]
    },
    {
     "name": "stdout",
     "output_type": "stream",
     "text": [
      "70/70 [==============================] - 116s 2s/step - loss: 0.0045 - acc: 0.9982\n",
      "Epoch 68/100\n",
      "70/70 [==============================] - 116s 2s/step - loss: 0.0039 - acc: 0.9987\n",
      "Epoch 69/100\n",
      "70/70 [==============================] - 116s 2s/step - loss: 0.0076 - acc: 0.9969\n",
      "Epoch 70/100\n",
      "70/70 [==============================] - 116s 2s/step - loss: 0.0109 - acc: 0.9955\n",
      "Epoch 71/100\n",
      "70/70 [==============================] - 115s 2s/step - loss: 0.0140 - acc: 0.9946\n",
      "Epoch 72/100\n",
      "70/70 [==============================] - 115s 2s/step - loss: 0.0042 - acc: 0.9982\n",
      "Epoch 73/100\n",
      "70/70 [==============================] - 115s 2s/step - loss: 0.0101 - acc: 0.9960\n",
      "Epoch 74/100\n",
      "70/70 [==============================] - 115s 2s/step - loss: 0.0257 - acc: 0.9920\n",
      "Epoch 75/100\n",
      "70/70 [==============================] - 115s 2s/step - loss: 0.0365 - acc: 0.9888\n",
      "Epoch 76/100\n",
      "70/70 [==============================] - 115s 2s/step - loss: 0.0173 - acc: 0.9929\n",
      "Epoch 77/100\n",
      "70/70 [==============================] - 115s 2s/step - loss: 0.0149 - acc: 0.9933\n",
      "Epoch 78/100\n",
      "70/70 [==============================] - 116s 2s/step - loss: 0.0052 - acc: 0.9978\n",
      "Epoch 79/100\n",
      "70/70 [==============================] - 115s 2s/step - loss: 0.0016 - acc: 0.9996\n",
      "Epoch 80/100\n",
      "70/70 [==============================] - 116s 2s/step - loss: 0.0035 - acc: 0.9991\n",
      "Epoch 81/100\n",
      "70/70 [==============================] - 117s 2s/step - loss: 0.0020 - acc: 0.9996\n",
      "Epoch 82/100\n",
      "70/70 [==============================] - 116s 2s/step - loss: 0.0026 - acc: 0.9996\n",
      "Epoch 83/100\n",
      "70/70 [==============================] - 116s 2s/step - loss: 0.0080 - acc: 0.9987\n",
      "Epoch 84/100\n",
      "70/70 [==============================] - 116s 2s/step - loss: 0.0039 - acc: 0.9987\n",
      "Epoch 85/100\n",
      "70/70 [==============================] - 116s 2s/step - loss: 0.0069 - acc: 0.9973\n",
      "Epoch 86/100\n",
      "70/70 [==============================] - 115s 2s/step - loss: 0.0069 - acc: 0.9964\n",
      "Epoch 87/100\n",
      "70/70 [==============================] - 117s 2s/step - loss: 0.0057 - acc: 0.9982\n",
      "Epoch 88/100\n",
      "70/70 [==============================] - 118s 2s/step - loss: 0.0252 - acc: 0.9946\n",
      "Epoch 89/100\n",
      "70/70 [==============================] - 116s 2s/step - loss: 0.0293 - acc: 0.9924\n",
      "Epoch 90/100\n",
      "70/70 [==============================] - 117s 2s/step - loss: 0.0186 - acc: 0.9933\n",
      "Epoch 91/100\n",
      "70/70 [==============================] - 123s 2s/step - loss: 0.0166 - acc: 0.9942\n",
      "Epoch 92/100\n",
      "70/70 [==============================] - 117s 2s/step - loss: 0.0111 - acc: 0.9960\n",
      "Epoch 93/100\n",
      "70/70 [==============================] - 119s 2s/step - loss: 0.0043 - acc: 0.9978\n",
      "Epoch 94/100\n",
      "70/70 [==============================] - 117s 2s/step - loss: 0.0060 - acc: 0.9969\n",
      "Epoch 95/100\n",
      "70/70 [==============================] - 118s 2s/step - loss: 0.0051 - acc: 0.9978\n",
      "Epoch 96/100\n",
      "70/70 [==============================] - 117s 2s/step - loss: 0.0031 - acc: 0.9991\n",
      "Epoch 97/100\n",
      "70/70 [==============================] - 124s 2s/step - loss: 0.0012 - acc: 0.9996\n",
      "Epoch 98/100\n",
      "70/70 [==============================] - 116s 2s/step - loss: 0.0064 - acc: 0.9969\n",
      "Epoch 99/100\n",
      "70/70 [==============================] - 115s 2s/step - loss: 0.0013 - acc: 1.0000\n",
      "Epoch 100/100\n",
      "70/70 [==============================] - 116s 2s/step - loss: 0.0012 - acc: 0.9996\n"
     ]
    },
    {
     "data": {
      "image/png": "[encoded data removed]",
      "text/plain": [
       "<Figure size 432x288 with 1 Axes>"
      ]
     },
     "metadata": {
      "needs_background": "light"
     },
     "output_type": "display_data"
    },
    {
     "data": {
      "image/png": "[encoded data removed]",
      "text/plain": [
       "<Figure size 432x288 with 1 Axes>"
      ]
     },
     "metadata": {
      "needs_background": "light"
     },
     "output_type": "display_data"
    },
    {
     "name": "stdout",
     "output_type": "stream",
     "text": [
      "18/18 [==============================] - 8s 468ms/step - loss: 0.0461 - acc: 0.9893\n",
      "n Test_Accuracy:- 0.9892857\n",
      "              precision    recall  f1-score   support\n",
      "\n",
      "           0       1.00      1.00      1.00        80\n",
      "           1       1.00      1.00      1.00        82\n",
      "           2       1.00      1.00      1.00        82\n",
      "           3       1.00      1.00      1.00        79\n",
      "           4       1.00      1.00      1.00        81\n",
      "           5       1.00      1.00      1.00        79\n",
      "           6       1.00      1.00      1.00        77\n",
      "\n",
      "    accuracy                           1.00       560\n",
      "   macro avg       1.00      1.00      1.00       560\n",
      "weighted avg       1.00      1.00      1.00       560\n",
      "\n",
      "confusion matrix\n",
      "[[80  0  0  0  0  0  0]\n",
      " [ 0 82  0  0  0  0  0]\n",
      " [ 0  0 82  0  0  0  0]\n",
      " [ 0  0  0 79  0  0  0]\n",
      " [ 0  0  0  0 81  0  0]\n",
      " [ 0  0  0  0  0 79  0]\n",
      " [ 0  0  0  0  0  0 77]]\n"
     ]
    },
    {
     "data": {
      "image/png": "[encoded data removed]",
      "text/plain": [
       "<Figure size 576x360 with 2 Axes>"
      ]
     },
     "metadata": {
      "needs_background": "light"
     },
     "output_type": "display_data"
    }
   ],
   "source": [
    "import numpy as np\n",
    "import matplotlib.pyplot as plt\n",
    "%matplotlib inline\n",
    "from tensorflow.keras.preprocessing.image import ImageDataGenerator\n",
    "import tensorflow as tf\n",
    "from sklearn.metrics import confusion_matrix\n",
    "import seaborn as sns\n",
    "from keras.preprocessing import image\n",
    "from tensorflow.keras.models import load_model\n",
    "from keras.layers import BatchNormalization\n",
    "from sklearn.metrics import classification_report\n",
    "import sklearn.metrics\n",
    "print('KFOLDS VALIDATION IS IT GOOD ON TESS?? We will see!')\n",
    "from tensorflow.keras.constraints import unit_norm\n",
    "from tensorflow.keras import layers\n",
    "from tensorflow.keras import regularizers\n",
    "\n",
    "RavdessBySpectrogram_PATH=\"C:/Users/INSIDE BINARIES/Documents/LABO_PYTHON/DATASET/TESS_by_MFCC/\"\n",
    "path_dir = RavdessBySpectrogram_PATH\n",
    "\n",
    "datagen = ImageDataGenerator(\n",
    "                    rescale=1./255,\n",
    "                    validation_split = 0.2)\n",
    "train_generator = datagen.flow_from_directory(\n",
    "    path_dir,\n",
    "    target_size=(1080,216),\n",
    "    shuffle=True,\n",
    "    subset='training'\n",
    ")\n",
    "validation_generator = datagen.flow_from_directory(\n",
    "    path_dir,\n",
    "    target_size=(1080,216),\n",
    "    subset='validation'\n",
    ")\n",
    "\n",
    "IMAGE_HEIGHT=216\n",
    "IMAGE_WIDTH=1080\n",
    "N_CHANNELS=3\n",
    "N_CLASSES=7\n",
    "# Create CNN model\n",
    "model = tf.keras.models.Sequential()\n",
    "model.add(tf.keras.layers.Input(shape=(IMAGE_WIDTH, IMAGE_HEIGHT, N_CHANNELS)))\n",
    "model.add(tf.keras.layers.Conv2D(32, 3, strides=2, padding='same', activation='relu'))\n",
    "#model.add(tf.keras.layers.BatchNormalization())\n",
    "model.add(tf.keras.layers.MaxPooling2D(pool_size=(2, 2)))\n",
    "#model.add(tf.keras.layers.BatchNormalization())\n",
    "model.add(tf.keras.layers.Conv2D(64, 3, padding='same', activation='relu'))\n",
    "#model.add(tf.keras.layers.BatchNormalization())\n",
    "model.add(tf.keras.layers.MaxPooling2D(pool_size=(2, 2)))\n",
    "#model.add(tf.keras.layers.BatchNormalization())\n",
    "model.add(tf.keras.layers.Conv2D(128, 3, padding='same', activation='relu'))\n",
    "#model.add(tf.keras.layers.BatchNormalization())\n",
    "model.add(tf.keras.layers.MaxPooling2D(pool_size=(2, 2)))\n",
    "#model.add(tf.keras.layers.BatchNormalization())\n",
    "model.add(tf.keras.layers.Flatten())\n",
    "model.add(tf.keras.layers.Dense(256, activation='relu'))\n",
    "#model.add(tf.keras.layers.BatchNormalization())\n",
    "model.add(tf.keras.layers.Dropout(0.5))\n",
    "model.add(tf.keras.layers.Dense(N_CLASSES, activation='softmax'))\n",
    "\n",
    "# Compile model\n",
    "#model.compile(\n",
    "#    loss='sparse_categorical_crossentropy',\n",
    "#   optimizer=tf.keras.optimizers.RMSprop(),\n",
    "#    metrics=['accuracy'],\n",
    "#)\n",
    "\n",
    "# Train model for 10 epochs, capture the history\n",
    "#history_cnn = model.fit(train_generator, epochs=10, validation_data=validation_generator)\n",
    "\n",
    "\n",
    "##FINISH MODIFICATION\n",
    "model.summary()\n",
    "model.compile(loss='categorical_crossentropy', optimizer='adam', metrics=['accuracy'])\n",
    "history_cnn = model.fit(train_generator,batch_size=32,epochs=100)\n",
    "model.save('80k_NewCNNmodelUsingTESS_IUGET.h5')\n",
    "yhat = model.predict(train_generator)\n",
    "\n",
    "\n",
    "import matplotlib.pyplot as plt\n",
    "\n",
    "loss_curve = history_cnn.history[\"loss\"]\n",
    "acc_curve = history_cnn.history[\"acc\"]\n",
    "\n",
    "#loss_val_curve = history.history[\"val_loss\"]\n",
    "#acc_val_curve = history.history[\"val_accuracy\"]\n",
    "\n",
    "plt.plot(loss_curve, label=\"cnn_loss\",  marker=11)\n",
    "\n",
    "plt.legend(loc=\"upper left\")\n",
    "plt.title(\"loss\")\n",
    "plt.savefig('acc_loss.png')\n",
    "plt.show()\n",
    "\n",
    "plt.plot(acc_curve, label=\"cnn_acc\",  marker=11)\n",
    "\n",
    "plt.legend(loc=\"upper left\")\n",
    "plt.title(\"Accuracy\")\n",
    "plt.savefig('acc_cnn.png')\n",
    "plt.show()\n",
    "\n",
    "accuracy = model.evaluate(validation_generator)\n",
    "print('n', 'Test_Accuracy:-', accuracy[1])\n",
    "pred = model.predict(validation_generator)\n",
    "y_pred = np.argmax(pred, axis=1)\n",
    "y_true = np.argmax(pred, axis=1)\n",
    "print(classification_report(y_true, y_pred, labels=[0,1, 2,3,4,5,6]))  #Car sur RAVDESS il ya 8 emotions\n",
    "print('confusion matrix')\n",
    "print(confusion_matrix(y_true, y_pred))\n",
    "    #confusion matrix\n",
    "f, ax = plt.subplots(figsize=(8,5))\n",
    "sns.heatmap(confusion_matrix(y_true, y_pred), annot=True, fmt=\".0f\", ax=ax)\n",
    "plt.xlabel(\"y_pred\")\n",
    "plt.ylabel(\"y_true\")\n",
    "plt.show()"
   ]
  },
  {
   "cell_type": "code",
   "execution_count": null,
   "metadata": {},
   "outputs": [],
   "source": []
  },
  {
   "cell_type": "code",
   "execution_count": null,
   "metadata": {},
   "outputs": [],
   "source": []
  },
  {
   "cell_type": "code",
   "execution_count": null,
   "metadata": {},
   "outputs": [],
   "source": [
    "#Fonction pour Encoder un fichier Audio en Spectrogramme"
   ]
  },
  {
   "cell_type": "code",
   "execution_count": null,
   "metadata": {},
   "outputs": [],
   "source": []
  },
  {
   "cell_type": "code",
   "execution_count": 5,
   "metadata": {},
   "outputs": [],
   "source": [
    "#Fonction qui prend en entrée un spectrogramme et donne en sortie une émotion\n",
    "import tensorflow as tf\n",
    "#Dictionnaires d'émotions\n",
    "Emotions_Dictionary={0:'Neutral',1:'Happy',2:'Sad',3:'Angry',4:'Fearful',5:'Disgust',6:'pSurpise'}\n",
    "def EmotionsPredictionFormSpectrogrammee(SpectrogramUtteranceFolder):\n",
    "    #Charger les SpectroGramme des prises de paroles (classés par ordre chrnologique_alphanumérique dans le repertoire)\n",
    "    path_dir = SpectrogramUtteranceFolder\n",
    "    PrisesDeParole_datagen = ImageDataGenerator(\n",
    "                    rescale=1./255)\n",
    "    PrisesDeParole_generator = datagen.flow_from_directory(\n",
    "    path_dir,\n",
    "    target_size=(350,350),\n",
    "    shuffle=False)\n",
    "    \n",
    "    #charger le model pré entrainé\n",
    "    Pretrained_Model_PATH='C:/Users/fijitsu/Documents/A-LABORATORY-PYTHON/PretrainedCnnModel/model_4.h5'\n",
    "    #MyPretrained_Model = tf.keras.models.load_model('MyPretrainedModel')\n",
    "    MyPretrained_Model=model\n",
    "    \n",
    "    #Prediction des emotions\n",
    "    pred = MyPretrained_Model.predict(PrisesDeParole_generator)\n",
    "    y_pred = np.argmax(pred, axis=1)\n",
    "    #Display result\n",
    "    print(y_pred)\n",
    "    return y_pred\n",
    "\n",
    "    "
   ]
  },
  {
   "cell_type": "code",
   "execution_count": 53,
   "metadata": {},
   "outputs": [
    {
     "name": "stdout",
     "output_type": "stream",
     "text": [
      "Found 800 images belonging to 2 classes.\n",
      "[0 0 0 0 0 0 0 0 0 0 0 0 0 0 0 0 0 0 0 0 0 0 0 0 0 0 0 0 0 0 0 0 0 0 0 0 0\n",
      " 0 0 0 0 0 0 0 0 0 0 0 0 0 0 0 0 0 0 0 0 0 0 0 0 0 0 0 0 0 0 0 0 0 0 0 0 0\n",
      " 0 0 0 0 0 0 0 0 0 0 0 0 0 0 0 0 0 0 0 0 0 0 0 0 0 0 0 0 0 0 0 0 0 0 0 0 0\n",
      " 0 0 0 0 0 0 0 0 0 0 0 0 0 0 0 0 0 0 0 0 0 0 0 0 0 0 0 0 0 0 0 0 0 0 0 0 0\n",
      " 0 0 0 0 0 0 0 0 0 0 0 0 0 0 0 0 0 0 0 0 0 0 0 0 0 0 0 0 0 0 0 0 0 0 0 0 0\n",
      " 0 0 0 0 0 0 0 0 0 0 0 0 0 0 0 0 0 0 0 0 0 0 0 0 0 0 0 0 0 0 0 0 0 0 0 0 0\n",
      " 0 0 0 0 0 0 0 0 0 0 0 0 0 0 0 0 0 0 0 0 0 0 0 0 0 0 0 0 0 0 0 0 0 0 0 0 0\n",
      " 0 0 0 0 0 0 0 0 0 0 0 0 0 0 0 0 0 0 0 0 0 0 0 0 0 0 0 0 0 0 0 0 0 0 0 0 0\n",
      " 0 0 0 0 0 0 0 0 0 0 0 0 0 0 0 0 0 0 0 0 0 0 0 0 0 0 0 0 0 0 0 0 0 0 0 0 0\n",
      " 0 0 0 0 0 0 0 0 0 0 0 0 0 0 0 0 0 0 0 0 0 0 0 0 0 0 0 0 0 0 0 0 0 0 0 0 0\n",
      " 0 0 0 0 0 0 0 0 0 0 0 0 0 0 0 0 0 0 0 0 0 0 0 0 0 0 0 0 0 0 1 1 1 1 1 1 1\n",
      " 1 1 1 1 1 1 1 1 1 1 1 1 1 1 1 1 6 1 1 1 1 1 1 1 1 1 1 1 1 1 1 1 1 1 1 1 1\n",
      " 1 1 1 1 1 1 1 1 1 1 1 1 1 1 1 1 1 1 1 1 1 1 1 1 1 1 1 1 1 1 1 1 1 1 1 1 1\n",
      " 1 1 1 1 1 1 1 1 1 1 1 1 1 1 1 1 1 1 1 1 1 1 1 1 1 1 1 1 1 1 1 1 1 1 1 1 1\n",
      " 1 1 1 1 1 1 1 1 1 1 1 1 1 1 1 1 1 1 1 1 1 1 1 1 1 1 1 1 1 1 1 1 1 1 1 1 1\n",
      " 1 1 1 1 1 1 1 1 1 1 1 1 1 1 1 1 1 1 1 1 1 1 1 1 1 1 1 1 1 1 1 1 1 1 1 1 1\n",
      " 1 1 1 1 1 1 1 1 1 1 1 1 1 1 1 1 1 1 1 1 1 1 1 1 1 1 1 1 1 1 1 1 1 1 1 1 1\n",
      " 1 1 1 1 1 1 1 1 1 1 1 1 1 1 1 1 1 1 1 1 1 1 1 1 1 1 1 1 1 1 1 1 1 1 1 1 1\n",
      " 1 1 1 1 1 1 1 1 1 1 1 1 1 1 1 1 1 1 1 1 1 1 1 1 1 1 1 1 1 1 1 1 1 1 1 1 1\n",
      " 1 1 1 1 1 1 1 1 1 1 1 1 1 1 1 1 1 1 1 1 1 1 1 1 1 1 1 1 1 1 1 1 1 1 1 1 1\n",
      " 1 1 1 1 1 1 1 1 1 1 1 1 1 1 1 1 1 1 1 1 1 1 1 1 1 1 1 1 1 1 1 1 1 1 1 1 1\n",
      " 1 1 1 1 1 1 1 1 1 1 1 1 1 1 1 1 1 1 1 1 1 1 1]\n",
      "les émotions contenus dans les prises de parole: ['Neutral', 'Neutral', 'Neutral', 'Neutral', 'Neutral', 'Neutral', 'Neutral', 'Neutral', 'Neutral', 'Neutral', 'Neutral', 'Neutral', 'Neutral', 'Neutral', 'Neutral', 'Neutral', 'Neutral', 'Neutral', 'Neutral', 'Neutral', 'Neutral', 'Neutral', 'Neutral', 'Neutral', 'Neutral', 'Neutral', 'Neutral', 'Neutral', 'Neutral', 'Neutral', 'Neutral', 'Neutral', 'Neutral', 'Neutral', 'Neutral', 'Neutral', 'Neutral', 'Neutral', 'Neutral', 'Neutral', 'Neutral', 'Neutral', 'Neutral', 'Neutral', 'Neutral', 'Neutral', 'Neutral', 'Neutral', 'Neutral', 'Neutral', 'Neutral', 'Neutral', 'Neutral', 'Neutral', 'Neutral', 'Neutral', 'Neutral', 'Neutral', 'Neutral', 'Neutral', 'Neutral', 'Neutral', 'Neutral', 'Neutral', 'Neutral', 'Neutral', 'Neutral', 'Neutral', 'Neutral', 'Neutral', 'Neutral', 'Neutral', 'Neutral', 'Neutral', 'Neutral', 'Neutral', 'Neutral', 'Neutral', 'Neutral', 'Neutral', 'Neutral', 'Neutral', 'Neutral', 'Neutral', 'Neutral', 'Neutral', 'Neutral', 'Neutral', 'Neutral', 'Neutral', 'Neutral', 'Neutral', 'Neutral', 'Neutral', 'Neutral', 'Neutral', 'Neutral', 'Neutral', 'Neutral', 'Neutral', 'Neutral', 'Neutral', 'Neutral', 'Neutral', 'Neutral', 'Neutral', 'Neutral', 'Neutral', 'Neutral', 'Neutral', 'Neutral', 'Neutral', 'Neutral', 'Neutral', 'Neutral', 'Neutral', 'Neutral', 'Neutral', 'Neutral', 'Neutral', 'Neutral', 'Neutral', 'Neutral', 'Neutral', 'Neutral', 'Neutral', 'Neutral', 'Neutral', 'Neutral', 'Neutral', 'Neutral', 'Neutral', 'Neutral', 'Neutral', 'Neutral', 'Neutral', 'Neutral', 'Neutral', 'Neutral', 'Neutral', 'Neutral', 'Neutral', 'Neutral', 'Neutral', 'Neutral', 'Neutral', 'Neutral', 'Neutral', 'Neutral', 'Neutral', 'Neutral', 'Neutral', 'Neutral', 'Neutral', 'Neutral', 'Neutral', 'Neutral', 'Neutral', 'Neutral', 'Neutral', 'Neutral', 'Neutral', 'Neutral', 'Neutral', 'Neutral', 'Neutral', 'Neutral', 'Neutral', 'Neutral', 'Neutral', 'Neutral', 'Neutral', 'Neutral', 'Neutral', 'Neutral', 'Neutral', 'Neutral', 'Neutral', 'Neutral', 'Neutral', 'Neutral', 'Neutral', 'Neutral', 'Neutral', 'Neutral', 'Neutral', 'Neutral', 'Neutral', 'Neutral', 'Neutral', 'Neutral', 'Neutral', 'Neutral', 'Neutral', 'Neutral', 'Neutral', 'Neutral', 'Neutral', 'Neutral', 'Neutral', 'Neutral', 'Neutral', 'Neutral', 'Neutral', 'Neutral', 'Neutral', 'Neutral', 'Neutral', 'Neutral', 'Neutral', 'Neutral', 'Neutral', 'Neutral', 'Neutral', 'Neutral', 'Neutral', 'Neutral', 'Neutral', 'Neutral', 'Neutral', 'Neutral', 'Neutral', 'Neutral', 'Neutral', 'Neutral', 'Neutral', 'Neutral', 'Neutral', 'Neutral', 'Neutral', 'Neutral', 'Neutral', 'Neutral', 'Neutral', 'Neutral', 'Neutral', 'Neutral', 'Neutral', 'Neutral', 'Neutral', 'Neutral', 'Neutral', 'Neutral', 'Neutral', 'Neutral', 'Neutral', 'Neutral', 'Neutral', 'Neutral', 'Neutral', 'Neutral', 'Neutral', 'Neutral', 'Neutral', 'Neutral', 'Neutral', 'Neutral', 'Neutral', 'Neutral', 'Neutral', 'Neutral', 'Neutral', 'Neutral', 'Neutral', 'Neutral', 'Neutral', 'Neutral', 'Neutral', 'Neutral', 'Neutral', 'Neutral', 'Neutral', 'Neutral', 'Neutral', 'Neutral', 'Neutral', 'Neutral', 'Neutral', 'Neutral', 'Neutral', 'Neutral', 'Neutral', 'Neutral', 'Neutral', 'Neutral', 'Neutral', 'Neutral', 'Neutral', 'Neutral', 'Neutral', 'Neutral', 'Neutral', 'Neutral', 'Neutral', 'Neutral', 'Neutral', 'Neutral', 'Neutral', 'Neutral', 'Neutral', 'Neutral', 'Neutral', 'Neutral', 'Neutral', 'Neutral', 'Neutral', 'Neutral', 'Neutral', 'Neutral', 'Neutral', 'Neutral', 'Neutral', 'Neutral', 'Neutral', 'Neutral', 'Neutral', 'Neutral', 'Neutral', 'Neutral', 'Neutral', 'Neutral', 'Neutral', 'Neutral', 'Neutral', 'Neutral', 'Neutral', 'Neutral', 'Neutral', 'Neutral', 'Neutral', 'Neutral', 'Neutral', 'Neutral', 'Neutral', 'Neutral', 'Neutral', 'Neutral', 'Neutral', 'Neutral', 'Neutral', 'Neutral', 'Neutral', 'Neutral', 'Neutral', 'Neutral', 'Neutral', 'Neutral', 'Neutral', 'Neutral', 'Neutral', 'Neutral', 'Neutral', 'Neutral', 'Neutral', 'Neutral', 'Neutral', 'Neutral', 'Neutral', 'Neutral', 'Neutral', 'Neutral', 'Neutral', 'Neutral', 'Neutral', 'Neutral', 'Neutral', 'Neutral', 'Neutral', 'Neutral', 'Neutral', 'Neutral', 'Neutral', 'Neutral', 'Neutral', 'Neutral', 'Neutral', 'Neutral', 'Neutral', 'Neutral', 'Neutral', 'Neutral', 'Neutral', 'Neutral', 'Neutral', 'Neutral', 'Neutral', 'Neutral', 'Neutral', 'Neutral', 'Neutral', 'Neutral', 'Neutral', 'Neutral', 'Neutral', 'Neutral', 'Neutral', 'Neutral', 'Neutral', 'Neutral', 'Neutral', 'Happy', 'Happy', 'Happy', 'Happy', 'Happy', 'Happy', 'Happy', 'Happy', 'Happy', 'Happy', 'Happy', 'Happy', 'Happy', 'Happy', 'Happy', 'Happy', 'Happy', 'Happy', 'Happy', 'Happy', 'Happy', 'Happy', 'Happy', 'pSurpise', 'Happy', 'Happy', 'Happy', 'Happy', 'Happy', 'Happy', 'Happy', 'Happy', 'Happy', 'Happy', 'Happy', 'Happy', 'Happy', 'Happy', 'Happy', 'Happy', 'Happy', 'Happy', 'Happy', 'Happy', 'Happy', 'Happy', 'Happy', 'Happy', 'Happy', 'Happy', 'Happy', 'Happy', 'Happy', 'Happy', 'Happy', 'Happy', 'Happy', 'Happy', 'Happy', 'Happy', 'Happy', 'Happy', 'Happy', 'Happy', 'Happy', 'Happy', 'Happy', 'Happy', 'Happy', 'Happy', 'Happy', 'Happy', 'Happy', 'Happy', 'Happy', 'Happy', 'Happy', 'Happy', 'Happy', 'Happy', 'Happy', 'Happy', 'Happy', 'Happy', 'Happy', 'Happy', 'Happy', 'Happy', 'Happy', 'Happy', 'Happy', 'Happy', 'Happy', 'Happy', 'Happy', 'Happy', 'Happy', 'Happy', 'Happy', 'Happy', 'Happy', 'Happy', 'Happy', 'Happy', 'Happy', 'Happy', 'Happy', 'Happy', 'Happy', 'Happy', 'Happy', 'Happy', 'Happy', 'Happy', 'Happy', 'Happy', 'Happy', 'Happy', 'Happy', 'Happy', 'Happy', 'Happy', 'Happy', 'Happy', 'Happy', 'Happy', 'Happy', 'Happy', 'Happy', 'Happy', 'Happy', 'Happy', 'Happy', 'Happy', 'Happy', 'Happy', 'Happy', 'Happy', 'Happy', 'Happy', 'Happy', 'Happy', 'Happy', 'Happy', 'Happy', 'Happy', 'Happy', 'Happy', 'Happy', 'Happy', 'Happy', 'Happy', 'Happy', 'Happy', 'Happy', 'Happy', 'Happy', 'Happy', 'Happy', 'Happy', 'Happy', 'Happy', 'Happy', 'Happy', 'Happy', 'Happy', 'Happy', 'Happy', 'Happy', 'Happy', 'Happy', 'Happy', 'Happy', 'Happy', 'Happy', 'Happy', 'Happy', 'Happy', 'Happy', 'Happy', 'Happy', 'Happy', 'Happy', 'Happy', 'Happy', 'Happy', 'Happy', 'Happy', 'Happy', 'Happy', 'Happy', 'Happy', 'Happy', 'Happy', 'Happy', 'Happy', 'Happy', 'Happy', 'Happy', 'Happy', 'Happy', 'Happy', 'Happy', 'Happy', 'Happy', 'Happy', 'Happy', 'Happy', 'Happy', 'Happy', 'Happy', 'Happy', 'Happy', 'Happy', 'Happy', 'Happy', 'Happy', 'Happy', 'Happy', 'Happy', 'Happy', 'Happy', 'Happy', 'Happy', 'Happy', 'Happy', 'Happy', 'Happy', 'Happy', 'Happy', 'Happy', 'Happy', 'Happy', 'Happy', 'Happy', 'Happy', 'Happy', 'Happy', 'Happy', 'Happy', 'Happy', 'Happy', 'Happy', 'Happy', 'Happy', 'Happy', 'Happy', 'Happy', 'Happy', 'Happy', 'Happy', 'Happy', 'Happy', 'Happy', 'Happy', 'Happy', 'Happy', 'Happy', 'Happy', 'Happy', 'Happy', 'Happy', 'Happy', 'Happy', 'Happy', 'Happy', 'Happy', 'Happy', 'Happy', 'Happy', 'Happy', 'Happy', 'Happy', 'Happy', 'Happy', 'Happy', 'Happy', 'Happy', 'Happy', 'Happy', 'Happy', 'Happy', 'Happy', 'Happy', 'Happy', 'Happy', 'Happy', 'Happy', 'Happy', 'Happy', 'Happy', 'Happy', 'Happy', 'Happy', 'Happy', 'Happy', 'Happy', 'Happy', 'Happy', 'Happy', 'Happy', 'Happy', 'Happy', 'Happy', 'Happy', 'Happy', 'Happy', 'Happy', 'Happy', 'Happy', 'Happy', 'Happy', 'Happy', 'Happy', 'Happy', 'Happy', 'Happy', 'Happy', 'Happy', 'Happy', 'Happy', 'Happy', 'Happy', 'Happy', 'Happy', 'Happy', 'Happy', 'Happy', 'Happy', 'Happy', 'Happy', 'Happy', 'Happy', 'Happy', 'Happy', 'Happy', 'Happy', 'Happy', 'Happy', 'Happy', 'Happy', 'Happy', 'Happy', 'Happy', 'Happy', 'Happy', 'Happy', 'Happy', 'Happy', 'Happy', 'Happy', 'Happy', 'Happy', 'Happy', 'Happy', 'Happy', 'Happy', 'Happy', 'Happy', 'Happy', 'Happy', 'Happy', 'Happy', 'Happy', 'Happy', 'Happy', 'Happy', 'Happy', 'Happy', 'Happy', 'Happy', 'Happy', 'Happy', 'Happy', 'Happy', 'Happy', 'Happy', 'Happy', 'Happy', 'Happy', 'Happy', 'Happy', 'Happy', 'Happy', 'Happy', 'Happy', 'Happy', 'Happy', 'Happy', 'Happy', 'Happy', 'Happy', 'Happy', 'Happy', 'Happy', 'Happy', 'Happy', 'Happy', 'Happy', 'Happy']\n"
     ]
    }
   ],
   "source": [
    "##Testons voir\n",
    "##SpectrogramUtteranceFolder='./SpectrogrammeLocuteurX/'\n",
    "\n",
    "#SpectrogramUtteranceFolder=RavdessBySpectrogram_PATH+''\n",
    "SpectrogramUtteranceFolder=\"C:/Users/fijitsu/Documents/A-LABORATORY-PYTHON/DATABASEInThe_STATEofTheART/PredictionDesSpectrogram/\"\n",
    "PredictedEmotions_labels=EmotionsPredictionFormSpectrogrammee(SpectrogramUtteranceFolder)\n",
    "print('les émotions contenus dans les prises de parole:',[Emotions_Dictionary[ii] for ii in PredictedEmotions_labels])\n"
   ]
  },
  {
   "cell_type": "code",
   "execution_count": null,
   "metadata": {},
   "outputs": [],
   "source": []
  },
  {
   "cell_type": "code",
   "execution_count": 51,
   "metadata": {},
   "outputs": [
    {
     "name": "stdout",
     "output_type": "stream",
     "text": [
      "Validation of the Trained TESS New CNN model on RAVDESS dataset:\n",
      "Disgust_Detection_rate_RAVDESS= 2.6041666666666665 %\n",
      "Neutral_Detection_rate_RAVDESS= 30.208333333333332 %\n",
      "Surprise_Detection_rate_RAVDESS it predict = 9.895833333333334 % \n",
      "Anger_Detection_rate_RAVDESS= 37.5 %\n",
      "Sad_Detection_rate_RAVDESS= 0.0 %\n",
      "Happy_Detection_rate_RAVDESS= 23.4375 %\n",
      "Fear_Detection_rate_RAVDESS= 11.979166666666666 %\n",
      "<class 'numpy.ndarray'>\n"
     ]
    }
   ],
   "source": [
    "\n",
    "print('Validation of the Trained TESS New CNN model on RAVDESS dataset:')\n",
    "#Happy_Detection_rate_RAVDESS=((PredictedEmotions_labels==0).sum())*100/len(PredictedEmotions_labels)\n",
    "#print('Fear_Detection_rate_RAVDESS=',Happy_Detection_rate_RAVDESS,'%')\n",
    "\n",
    "Disgust_Detection_rate_RAVDESS=2.6041666666666665\n",
    "print('Disgust_Detection_rate_RAVDESS=',Disgust_Detection_rate_RAVDESS,'%')\n",
    "Neutral_Detection_rate_RAVDESS=30.208333333333332 \n",
    "print('Neutral_Detection_rate_RAVDESS=',Neutral_Detection_rate_RAVDESS,'%')\n",
    "\n",
    "Surprise_Detection_rate_RAVDESS=9.895833333333334\n",
    "print('Surprise_Detection_rate_RAVDESS it predict =',Surprise_Detection_rate_RAVDESS,'% ')\n",
    "\n",
    "Anger_Detection_rate_RAVDESS=37.5 \n",
    "print('Anger_Detection_rate_RAVDESS=',Anger_Detection_rate_RAVDESS,'%')\n",
    "Sad_Detection_rate_RAVDESS=0.0\n",
    "print('Sad_Detection_rate_RAVDESS=',Sad_Detection_rate_RAVDESS,'%')\n",
    "\n",
    "Happy_Detection_rate_RAVDESS=23.4375\n",
    "print('Happy_Detection_rate_RAVDESS=',Happy_Detection_rate_RAVDESS,'%')\n",
    "Fear_Detection_rate_RAVDESS=11.979166666666666\n",
    "print('Fear_Detection_rate_RAVDESS=',Fear_Detection_rate_RAVDESS,'%')\n",
    "print(type(PredictedEmotions_labels))"
   ]
  },
  {
   "cell_type": "code",
   "execution_count": null,
   "metadata": {},
   "outputs": [],
   "source": []
  },
  {
   "cell_type": "code",
   "execution_count": 53,
   "metadata": {},
   "outputs": [
    {
     "name": "stdout",
     "output_type": "stream",
     "text": [
      "1440\n",
      "181.625\n",
      "180.0\n"
     ]
    }
   ],
   "source": [
    "\n",
    "print(7*24*2*2*2+1*24*2*2)\n",
    "print((187+201+203+192+191+96+191+192)/8)\n",
    "print((7*192+96)/8)"
   ]
  },
  {
   "cell_type": "code",
   "execution_count": 37,
   "metadata": {},
   "outputs": [
    {
     "name": "stdout",
     "output_type": "stream",
     "text": [
      "Validation of the Trained TESS New CNN model on EmoDB dataset:\n",
      "Disgust_Detection_rate_EmoDB= 0.0 %\n",
      "Neutral_Detection_rate_EmoDB= 15.189873417721518 %\n",
      "Boredom_Detection_rate_EmoDB it predict = 45.67901234567901 % of Angry instead\n",
      "Anger_Detection_rate_EmoDB= 11.023622047244094 %\n",
      "Sad_Detection_rate_EmoDB= 6.451612903225806 %\n",
      "Happy_Detection_rate_EmoDB= 0.0 %\n",
      "Fear_Detection_rate_EmoDB= 73.91304347826087 %\n",
      "<class 'numpy.ndarray'>\n"
     ]
    }
   ],
   "source": [
    "print('Validation of the Trained TESS New CNN model on EmoDB dataset:')\n",
    "#Happy_Detection_rate_EmoDB=((PredictedEmotions_labels==1).sum())*100/len(PredictedEmotions_labels)\n",
    "#print('Fear_Detection_rate_EmoDB=',Happy_Detection_rate_EmoDB,'%')\n",
    "\n",
    "Disgust_Detection_rate_EmoDB=0.0 \n",
    "print('Disgust_Detection_rate_EmoDB=',Disgust_Detection_rate_EmoDB,'%')\n",
    "Neutral_Detection_rate_EmoDB=15.189873417721518\n",
    "print('Neutral_Detection_rate_EmoDB=',Neutral_Detection_rate_EmoDB,'%')\n",
    "\n",
    "Boredom_Detection_rate_EmoDB=45.67901234567901\n",
    "print('Boredom_Detection_rate_EmoDB it predict =',Boredom_Detection_rate_EmoDB,'% of Angry instead')\n",
    "\n",
    "Anger_Detection_rate_EmoDB=11.023622047244094 \n",
    "print('Anger_Detection_rate_EmoDB=',Anger_Detection_rate_EmoDB,'%')\n",
    "Sad_Detection_rate_EmoDB=6.451612903225806\n",
    "print('Sad_Detection_rate_EmoDB=',Sad_Detection_rate_EmoDB,'%')\n",
    "\n",
    "Happy_Detection_rate_EmoDB=0.0\n",
    "print('Happy_Detection_rate_EmoDB=',Happy_Detection_rate_EmoDB,'%')\n",
    "Fear_Detection_rate_EmoDB=73.91304347826087\n",
    "print('Fear_Detection_rate_EmoDB=',Fear_Detection_rate_EmoDB,'%')\n",
    "print(type(PredictedEmotions_labels))"
   ]
  },
  {
   "cell_type": "code",
   "execution_count": 52,
   "metadata": {},
   "outputs": [
    {
     "name": "stdout",
     "output_type": "stream",
     "text": [
      "192\n"
     ]
    }
   ],
   "source": [
    "print(24*2*2*2)"
   ]
  },
  {
   "cell_type": "code",
   "execution_count": null,
   "metadata": {},
   "outputs": [],
   "source": []
  },
  {
   "cell_type": "code",
   "execution_count": null,
   "metadata": {},
   "outputs": [],
   "source": []
  },
  {
   "cell_type": "code",
   "execution_count": null,
   "metadata": {},
   "outputs": [],
   "source": []
  },
  {
   "cell_type": "code",
   "execution_count": null,
   "metadata": {},
   "outputs": [],
   "source": []
  },
  {
   "cell_type": "code",
   "execution_count": 15,
   "metadata": {},
   "outputs": [
    {
     "data": {
      "image/png": "[encoded data removed]",
      "text/plain": [
       "<Figure size 432x288 with 1 Axes>"
      ]
     },
     "metadata": {
      "needs_background": "light"
     },
     "output_type": "display_data"
    },
    {
     "data": {
      "image/png": "[encoded data removed]",
      "text/plain": [
       "<Figure size 432x288 with 1 Axes>"
      ]
     },
     "metadata": {
      "needs_background": "light"
     },
     "output_type": "display_data"
    },
    {
     "name": "stdout",
     "output_type": "stream",
     "text": [
      "14/14 [==============================] - 10s 687ms/step - loss: 16.9899 - acc: 0.1218\n",
      "n Test_Accuracy:- 0.12177986\n",
      "              precision    recall  f1-score   support\n",
      "\n",
      "           0       1.00      1.00      1.00         3\n",
      "           1       1.00      1.00      1.00        14\n",
      "           2       0.00      0.00      0.00         0\n",
      "           3       1.00      1.00      1.00        97\n",
      "           4       0.00      0.00      0.00         0\n",
      "           5       1.00      1.00      1.00         1\n",
      "           6       1.00      1.00      1.00       312\n",
      "           7       0.00      0.00      0.00         0\n",
      "\n",
      "   micro avg       1.00      1.00      1.00       427\n",
      "   macro avg       0.62      0.62      0.62       427\n",
      "weighted avg       1.00      1.00      1.00       427\n",
      "\n",
      "confusion matrix\n",
      "[[  3   0   0   0   0]\n",
      " [  0  14   0   0   0]\n",
      " [  0   0  97   0   0]\n",
      " [  0   0   0   1   0]\n",
      " [  0   0   0   0 312]]\n"
     ]
    },
    {
     "data": {
      "image/png": "[encoded data removed]",
      "text/plain": [
       "<Figure size 576x360 with 2 Axes>"
      ]
     },
     "metadata": {
      "needs_background": "light"
     },
     "output_type": "display_data"
    }
   ],
   "source": [
    "model.save('K_CNNmodelUsingRAVDESSDataSet.h5')\n",
    "yhat = model.predict(train_generator)\n",
    "\n",
    "\n",
    "import matplotlib.pyplot as plt\n",
    "\n",
    "loss_curve = history_cnn.history[\"loss\"]\n",
    "acc_curve = history_cnn.history[\"acc\"]\n",
    "\n",
    "#loss_val_curve = history.history[\"val_loss\"]\n",
    "#acc_val_curve = history.history[\"val_accuracy\"]\n",
    "\n",
    "plt.plot(loss_curve, label=\"cnn_loss\",  marker=11)\n",
    "\n",
    "plt.legend(loc=\"upper left\")\n",
    "plt.title(\"loss\")\n",
    "plt.savefig('acc_loss.png')\n",
    "plt.show()\n",
    "\n",
    "plt.plot(acc_curve, label=\"cnn_acc\",  marker=11)\n",
    "\n",
    "plt.legend(loc=\"upper left\")\n",
    "plt.title(\"Accuracy\")\n",
    "plt.savefig('acc_cnn.png')\n",
    "plt.show()\n",
    "\n",
    "accuracy = model.evaluate(validation_generator)\n",
    "print('n', 'Test_Accuracy:-', accuracy[1])\n",
    "pred = model.predict(validation_generator)\n",
    "y_pred = np.argmax(pred, axis=1)\n",
    "y_true = np.argmax(pred, axis=1)\n",
    "print(classification_report(y_true, y_pred, labels=[0,1, 2,3,4,5,6,7]))  #Car sur RAVDESS il ya 8 emotions\n",
    "print('confusion matrix')\n",
    "print(confusion_matrix(y_true, y_pred))\n",
    "    #confusion matrix\n",
    "f, ax = plt.subplots(figsize=(8,5))\n",
    "sns.heatmap(confusion_matrix(y_true, y_pred), annot=True, fmt=\".0f\", ax=ax)\n",
    "plt.xlabel(\"y_pred\")\n",
    "plt.ylabel(\"y_true\")\n",
    "plt.show()"
   ]
  },
  {
   "cell_type": "code",
   "execution_count": 25,
   "metadata": {},
   "outputs": [
    {
     "name": "stdout",
     "output_type": "stream",
     "text": [
      "32/32 [==============================] - 24s 740ms/step - loss: 3.7440 - acc: 0.2616\n",
      "n Test_Accuracy:- 0.2615992\n"
     ]
    }
   ],
   "source": [
    "datagen = ImageDataGenerator(\n",
    "                    rescale=1./255,\n",
    "                    validation_split = 0.3)\n",
    "train_generator = datagen.flow_from_directory(\n",
    "    path_dir,\n",
    "    target_size=(350,350),\n",
    "    shuffle=True,\n",
    "    subset='training'\n",
    ")\n",
    "validation_generator = datagen.flow_from_directory(\n",
    "    path_dir,\n",
    "    target_size=(350,350),\n",
    "    subset='validation'\n",
    ")\n"
   ]
  },
  {
   "cell_type": "code",
   "execution_count": 38,
   "metadata": {},
   "outputs": [
    {
     "name": "stdout",
     "output_type": "stream",
     "text": [
      "32/32 [==============================] - 12s 383ms/step - loss: 0.0026 - acc: 1.0000\n",
      "n Test_Accuracy:- 1.0\n"
     ]
    }
   ],
   "source": [
    "accuracy = model.evaluate(train_generator)\n",
    "print('n', 'Test_Accuracy:-', accuracy[1])\n"
   ]
  },
  {
   "cell_type": "code",
   "execution_count": 52,
   "metadata": {},
   "outputs": [
    {
     "name": "stdout",
     "output_type": "stream",
     "text": [
      "End n\n"
     ]
    }
   ],
   "source": [
    "model.save('NewCNNmodelUsingTESSDataSet.h5')\n",
    "print('End n')"
   ]
  }
 ],
 "metadata": {
  "kernelspec": {
   "display_name": "Python 3",
   "language": "python",
   "name": "python3"
  },
  "language_info": {
   "codemirror_mode": {
    "name": "ipython",
    "version": 3
   },
   "file_extension": ".py",
   "mimetype": "text/x-python",
   "name": "python",
   "nbconvert_exporter": "python",
   "pygments_lexer": "ipython3",
   "version": "3.7.6"
  }
 },
 "nbformat": 4,
 "nbformat_minor": 5
}
