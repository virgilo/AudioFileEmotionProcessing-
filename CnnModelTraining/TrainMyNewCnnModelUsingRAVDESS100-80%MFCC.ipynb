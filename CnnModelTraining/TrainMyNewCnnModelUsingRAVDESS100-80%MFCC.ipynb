{
 "cells": [
  {
   "cell_type": "code",
   "execution_count": 1,
   "metadata": {
    "scrolled": true
   },
   "outputs": [
    {
     "name": "stderr",
     "output_type": "stream",
     "text": [
      "F:\\PROG_INSTALLED\\anaconda\\lib\\site-packages\\tensorflow\\python\\framework\\dtypes.py:516: FutureWarning: Passing (type, 1) or '1type' as a synonym of type is deprecated; in a future version of numpy, it will be understood as (type, (1,)) / '(1,)type'.\n",
      "  _np_qint8 = np.dtype([(\"qint8\", np.int8, 1)])\n",
      "F:\\PROG_INSTALLED\\anaconda\\lib\\site-packages\\tensorflow\\python\\framework\\dtypes.py:517: FutureWarning: Passing (type, 1) or '1type' as a synonym of type is deprecated; in a future version of numpy, it will be understood as (type, (1,)) / '(1,)type'.\n",
      "  _np_quint8 = np.dtype([(\"quint8\", np.uint8, 1)])\n",
      "F:\\PROG_INSTALLED\\anaconda\\lib\\site-packages\\tensorflow\\python\\framework\\dtypes.py:518: FutureWarning: Passing (type, 1) or '1type' as a synonym of type is deprecated; in a future version of numpy, it will be understood as (type, (1,)) / '(1,)type'.\n",
      "  _np_qint16 = np.dtype([(\"qint16\", np.int16, 1)])\n",
      "F:\\PROG_INSTALLED\\anaconda\\lib\\site-packages\\tensorflow\\python\\framework\\dtypes.py:519: FutureWarning: Passing (type, 1) or '1type' as a synonym of type is deprecated; in a future version of numpy, it will be understood as (type, (1,)) / '(1,)type'.\n",
      "  _np_quint16 = np.dtype([(\"quint16\", np.uint16, 1)])\n",
      "F:\\PROG_INSTALLED\\anaconda\\lib\\site-packages\\tensorflow\\python\\framework\\dtypes.py:520: FutureWarning: Passing (type, 1) or '1type' as a synonym of type is deprecated; in a future version of numpy, it will be understood as (type, (1,)) / '(1,)type'.\n",
      "  _np_qint32 = np.dtype([(\"qint32\", np.int32, 1)])\n",
      "F:\\PROG_INSTALLED\\anaconda\\lib\\site-packages\\tensorflow\\python\\framework\\dtypes.py:525: FutureWarning: Passing (type, 1) or '1type' as a synonym of type is deprecated; in a future version of numpy, it will be understood as (type, (1,)) / '(1,)type'.\n",
      "  np_resource = np.dtype([(\"resource\", np.ubyte, 1)])\n",
      "F:\\PROG_INSTALLED\\anaconda\\lib\\site-packages\\tensorboard\\compat\\tensorflow_stub\\dtypes.py:541: FutureWarning: Passing (type, 1) or '1type' as a synonym of type is deprecated; in a future version of numpy, it will be understood as (type, (1,)) / '(1,)type'.\n",
      "  _np_qint8 = np.dtype([(\"qint8\", np.int8, 1)])\n",
      "F:\\PROG_INSTALLED\\anaconda\\lib\\site-packages\\tensorboard\\compat\\tensorflow_stub\\dtypes.py:542: FutureWarning: Passing (type, 1) or '1type' as a synonym of type is deprecated; in a future version of numpy, it will be understood as (type, (1,)) / '(1,)type'.\n",
      "  _np_quint8 = np.dtype([(\"quint8\", np.uint8, 1)])\n",
      "F:\\PROG_INSTALLED\\anaconda\\lib\\site-packages\\tensorboard\\compat\\tensorflow_stub\\dtypes.py:543: FutureWarning: Passing (type, 1) or '1type' as a synonym of type is deprecated; in a future version of numpy, it will be understood as (type, (1,)) / '(1,)type'.\n",
      "  _np_qint16 = np.dtype([(\"qint16\", np.int16, 1)])\n",
      "F:\\PROG_INSTALLED\\anaconda\\lib\\site-packages\\tensorboard\\compat\\tensorflow_stub\\dtypes.py:544: FutureWarning: Passing (type, 1) or '1type' as a synonym of type is deprecated; in a future version of numpy, it will be understood as (type, (1,)) / '(1,)type'.\n",
      "  _np_quint16 = np.dtype([(\"quint16\", np.uint16, 1)])\n",
      "F:\\PROG_INSTALLED\\anaconda\\lib\\site-packages\\tensorboard\\compat\\tensorflow_stub\\dtypes.py:545: FutureWarning: Passing (type, 1) or '1type' as a synonym of type is deprecated; in a future version of numpy, it will be understood as (type, (1,)) / '(1,)type'.\n",
      "  _np_qint32 = np.dtype([(\"qint32\", np.int32, 1)])\n",
      "F:\\PROG_INSTALLED\\anaconda\\lib\\site-packages\\tensorboard\\compat\\tensorflow_stub\\dtypes.py:550: FutureWarning: Passing (type, 1) or '1type' as a synonym of type is deprecated; in a future version of numpy, it will be understood as (type, (1,)) / '(1,)type'.\n",
      "  np_resource = np.dtype([(\"resource\", np.ubyte, 1)])\n",
      "Using TensorFlow backend.\n"
     ]
    },
    {
     "name": "stdout",
     "output_type": "stream",
     "text": [
      "IUGET RAVDESS CNN ON MFCCgrams!\n",
      "Found 1155 images belonging to 8 classes.\n",
      "Found 285 images belonging to 8 classes.\n",
      "WARNING:tensorflow:From F:\\PROG_INSTALLED\\anaconda\\lib\\site-packages\\tensorflow\\python\\ops\\init_ops.py:1251: calling VarianceScaling.__init__ (from tensorflow.python.ops.init_ops) with dtype is deprecated and will be removed in a future version.\n",
      "Instructions for updating:\n",
      "Call initializer instance with the dtype argument instead of passing it to the constructor\n",
      "Model: \"sequential\"\n",
      "_________________________________________________________________\n",
      "Layer (type)                 Output Shape              Param #   \n",
      "=================================================================\n",
      "conv2d (Conv2D)              (None, 540, 108, 32)      896       \n",
      "_________________________________________________________________\n",
      "max_pooling2d (MaxPooling2D) (None, 270, 54, 32)       0         \n",
      "_________________________________________________________________\n",
      "conv2d_1 (Conv2D)            (None, 270, 54, 64)       18496     \n",
      "_________________________________________________________________\n",
      "max_pooling2d_1 (MaxPooling2 (None, 135, 27, 64)       0         \n",
      "_________________________________________________________________\n",
      "conv2d_2 (Conv2D)            (None, 135, 27, 128)      73856     \n",
      "_________________________________________________________________\n",
      "max_pooling2d_2 (MaxPooling2 (None, 67, 13, 128)       0         \n",
      "_________________________________________________________________\n",
      "flatten (Flatten)            (None, 111488)            0         \n",
      "_________________________________________________________________\n",
      "dense (Dense)                (None, 256)               28541184  \n",
      "_________________________________________________________________\n",
      "dropout (Dropout)            (None, 256)               0         \n",
      "_________________________________________________________________\n",
      "dense_1 (Dense)              (None, 8)                 2056      \n",
      "=================================================================\n",
      "Total params: 28,636,488\n",
      "Trainable params: 28,636,488\n",
      "Non-trainable params: 0\n",
      "_________________________________________________________________\n",
      "Epoch 1/100\n",
      "37/37 [==============================] - 67s 2s/step - loss: 2.8020 - acc: 0.1316\n",
      "Epoch 2/100\n",
      "37/37 [==============================] - 63s 2s/step - loss: 2.0753 - acc: 0.1195\n",
      "Epoch 3/100\n",
      "37/37 [==============================] - 64s 2s/step - loss: 2.0726 - acc: 0.1143\n",
      "Epoch 4/100\n",
      "37/37 [==============================] - 63s 2s/step - loss: 2.0713 - acc: 0.1065\n",
      "Epoch 5/100\n",
      "37/37 [==============================] - 62s 2s/step - loss: 2.0638 - acc: 0.1541\n",
      "Epoch 6/100\n",
      "37/37 [==============================] - 64s 2s/step - loss: 2.0620 - acc: 0.1498\n",
      "Epoch 7/100\n",
      "37/37 [==============================] - 62s 2s/step - loss: 2.0198 - acc: 0.2078\n",
      "Epoch 8/100\n",
      "37/37 [==============================] - 66s 2s/step - loss: 1.9487 - acc: 0.2511\n",
      "Epoch 9/100\n",
      "37/37 [==============================] - 66s 2s/step - loss: 1.8033 - acc: 0.2970\n",
      "Epoch 10/100\n",
      "37/37 [==============================] - 65s 2s/step - loss: 1.7513 - acc: 0.3022\n",
      "Epoch 11/100\n",
      "37/37 [==============================] - 65s 2s/step - loss: 1.7178 - acc: 0.3420\n",
      "Epoch 12/100\n",
      "37/37 [==============================] - 66s 2s/step - loss: 1.6618 - acc: 0.3567\n",
      "Epoch 13/100\n",
      "37/37 [==============================] - 65s 2s/step - loss: 1.6476 - acc: 0.3377\n",
      "Epoch 14/100\n",
      "37/37 [==============================] - 65s 2s/step - loss: 1.6464 - acc: 0.3636\n",
      "Epoch 15/100\n",
      "37/37 [==============================] - 65s 2s/step - loss: 1.6482 - acc: 0.3723\n",
      "Epoch 16/100\n",
      "37/37 [==============================] - 65s 2s/step - loss: 1.6165 - acc: 0.3801\n",
      "Epoch 17/100\n",
      "37/37 [==============================] - 65s 2s/step - loss: 1.6113 - acc: 0.3844\n",
      "Epoch 18/100\n",
      "37/37 [==============================] - 65s 2s/step - loss: 1.5525 - acc: 0.3887\n",
      "Epoch 19/100\n",
      "37/37 [==============================] - 64s 2s/step - loss: 1.6100 - acc: 0.3827\n",
      "Epoch 20/100\n",
      "37/37 [==============================] - 64s 2s/step - loss: 1.5418 - acc: 0.4234\n",
      "Epoch 21/100\n",
      "37/37 [==============================] - 65s 2s/step - loss: 1.5702 - acc: 0.3905\n",
      "Epoch 22/100\n",
      "37/37 [==============================] - 64s 2s/step - loss: 1.5604 - acc: 0.4199\n",
      "Epoch 23/100\n",
      "37/37 [==============================] - 64s 2s/step - loss: 1.5149 - acc: 0.4165\n",
      "Epoch 24/100\n",
      "37/37 [==============================] - 64s 2s/step - loss: 1.4960 - acc: 0.4268\n",
      "Epoch 25/100\n",
      "37/37 [==============================] - 65s 2s/step - loss: 1.4938 - acc: 0.4242\n",
      "Epoch 26/100\n",
      "37/37 [==============================] - 65s 2s/step - loss: 1.4788 - acc: 0.4407\n",
      "Epoch 27/100\n",
      "37/37 [==============================] - 65s 2s/step - loss: 1.5055 - acc: 0.4390\n",
      "Epoch 28/100\n",
      "37/37 [==============================] - 64s 2s/step - loss: 1.4928 - acc: 0.4190\n",
      "Epoch 29/100\n",
      "37/37 [==============================] - 64s 2s/step - loss: 1.5764 - acc: 0.3784\n",
      "Epoch 30/100\n",
      "37/37 [==============================] - 64s 2s/step - loss: 1.5018 - acc: 0.4130\n",
      "Epoch 31/100\n",
      "37/37 [==============================] - 64s 2s/step - loss: 1.4657 - acc: 0.4537\n",
      "Epoch 32/100\n",
      "37/37 [==============================] - 65s 2s/step - loss: 1.4801 - acc: 0.4199\n",
      "Epoch 33/100\n",
      "37/37 [==============================] - 65s 2s/step - loss: 1.4205 - acc: 0.4381\n",
      "Epoch 34/100\n",
      "37/37 [==============================] - 65s 2s/step - loss: 1.4564 - acc: 0.4338\n",
      "Epoch 35/100\n",
      "37/37 [==============================] - 64s 2s/step - loss: 1.4215 - acc: 0.4511\n",
      "Epoch 36/100\n",
      "37/37 [==============================] - 64s 2s/step - loss: 1.4002 - acc: 0.4649\n",
      "Epoch 37/100\n",
      "37/37 [==============================] - 64s 2s/step - loss: 1.3302 - acc: 0.4719\n",
      "Epoch 38/100\n",
      "37/37 [==============================] - 64s 2s/step - loss: 1.3260 - acc: 0.4961\n",
      "Epoch 39/100\n",
      "37/37 [==============================] - 64s 2s/step - loss: 1.3184 - acc: 0.5039\n",
      "Epoch 40/100\n",
      "37/37 [==============================] - 64s 2s/step - loss: 1.3468 - acc: 0.4918\n",
      "Epoch 41/100\n",
      "37/37 [==============================] - 65s 2s/step - loss: 1.3835 - acc: 0.4823\n",
      "Epoch 42/100\n",
      "37/37 [==============================] - 64s 2s/step - loss: 1.3413 - acc: 0.4771\n",
      "Epoch 43/100\n",
      "37/37 [==============================] - 64s 2s/step - loss: 1.3024 - acc: 0.5212\n",
      "Epoch 44/100\n",
      "37/37 [==============================] - 64s 2s/step - loss: 1.3535 - acc: 0.4693\n",
      "Epoch 45/100\n",
      "37/37 [==============================] - 64s 2s/step - loss: 1.2894 - acc: 0.5100\n",
      "Epoch 46/100\n",
      "37/37 [==============================] - 64s 2s/step - loss: 1.3436 - acc: 0.4797\n",
      "Epoch 47/100\n",
      "37/37 [==============================] - 64s 2s/step - loss: 1.3001 - acc: 0.4996\n",
      "Epoch 48/100\n",
      "37/37 [==============================] - 64s 2s/step - loss: 1.2993 - acc: 0.5143\n",
      "Epoch 49/100\n",
      "37/37 [==============================] - 64s 2s/step - loss: 1.2026 - acc: 0.5359\n",
      "Epoch 50/100\n",
      "37/37 [==============================] - 64s 2s/step - loss: 1.2206 - acc: 0.5203\n",
      "Epoch 51/100\n",
      "37/37 [==============================] - 64s 2s/step - loss: 1.2109 - acc: 0.5446\n",
      "Epoch 52/100\n",
      "37/37 [==============================] - 64s 2s/step - loss: 1.2583 - acc: 0.5169\n",
      "Epoch 53/100\n",
      "37/37 [==============================] - 64s 2s/step - loss: 1.1848 - acc: 0.5515\n",
      "Epoch 54/100\n",
      "37/37 [==============================] - 64s 2s/step - loss: 1.1265 - acc: 0.5524\n",
      "Epoch 55/100\n",
      "37/37 [==============================] - 64s 2s/step - loss: 1.1818 - acc: 0.5584\n",
      "Epoch 56/100\n",
      "37/37 [==============================] - 64s 2s/step - loss: 1.1585 - acc: 0.5680\n",
      "Epoch 57/100\n",
      "37/37 [==============================] - 64s 2s/step - loss: 1.0711 - acc: 0.5965\n",
      "Epoch 58/100\n",
      "37/37 [==============================] - 64s 2s/step - loss: 1.0798 - acc: 0.6026\n",
      "Epoch 59/100\n",
      "37/37 [==============================] - 64s 2s/step - loss: 1.0581 - acc: 0.5974\n",
      "Epoch 60/100\n",
      "37/37 [==============================] - 64s 2s/step - loss: 0.9991 - acc: 0.6251\n",
      "Epoch 61/100\n",
      "37/37 [==============================] - 64s 2s/step - loss: 0.9952 - acc: 0.5957\n",
      "Epoch 62/100\n",
      "37/37 [==============================] - 64s 2s/step - loss: 0.9982 - acc: 0.6182\n",
      "Epoch 63/100\n",
      "37/37 [==============================] - 65s 2s/step - loss: 0.9730 - acc: 0.6234\n",
      "Epoch 64/100\n"
     ]
    },
    {
     "name": "stdout",
     "output_type": "stream",
     "text": [
      "37/37 [==============================] - 65s 2s/step - loss: 0.9961 - acc: 0.6165\n",
      "Epoch 65/100\n",
      "37/37 [==============================] - 64s 2s/step - loss: 0.9132 - acc: 0.6537\n",
      "Epoch 66/100\n",
      "37/37 [==============================] - 64s 2s/step - loss: 0.9487 - acc: 0.6442\n",
      "Epoch 67/100\n",
      "37/37 [==============================] - 64s 2s/step - loss: 0.9369 - acc: 0.6407\n",
      "Epoch 68/100\n",
      "37/37 [==============================] - 64s 2s/step - loss: 0.8897 - acc: 0.6545\n",
      "Epoch 69/100\n",
      "37/37 [==============================] - 64s 2s/step - loss: 0.9790 - acc: 0.6251\n",
      "Epoch 70/100\n",
      "37/37 [==============================] - 64s 2s/step - loss: 0.9054 - acc: 0.6554\n",
      "Epoch 71/100\n",
      "37/37 [==============================] - 64s 2s/step - loss: 0.8578 - acc: 0.6771\n",
      "Epoch 72/100\n",
      "37/37 [==============================] - 64s 2s/step - loss: 0.9260 - acc: 0.6719\n",
      "Epoch 73/100\n",
      "37/37 [==============================] - 64s 2s/step - loss: 0.9259 - acc: 0.6545\n",
      "Epoch 74/100\n",
      "37/37 [==============================] - 64s 2s/step - loss: 0.8405 - acc: 0.6701\n",
      "Epoch 75/100\n",
      "37/37 [==============================] - 64s 2s/step - loss: 0.8105 - acc: 0.7004\n",
      "Epoch 76/100\n",
      "37/37 [==============================] - 64s 2s/step - loss: 0.7495 - acc: 0.7100\n",
      "Epoch 77/100\n",
      "37/37 [==============================] - 64s 2s/step - loss: 0.7440 - acc: 0.7281\n",
      "Epoch 78/100\n",
      "37/37 [==============================] - 64s 2s/step - loss: 0.7539 - acc: 0.7048\n",
      "Epoch 79/100\n",
      "37/37 [==============================] - 65s 2s/step - loss: 0.6743 - acc: 0.7385\n",
      "Epoch 80/100\n",
      "37/37 [==============================] - 65s 2s/step - loss: 0.6902 - acc: 0.7420\n",
      "Epoch 81/100\n",
      "37/37 [==============================] - 65s 2s/step - loss: 0.7186 - acc: 0.7108\n",
      "Epoch 82/100\n",
      "37/37 [==============================] - 65s 2s/step - loss: 0.7269 - acc: 0.7437\n",
      "Epoch 83/100\n",
      "37/37 [==============================] - 65s 2s/step - loss: 0.6769 - acc: 0.7290\n",
      "Epoch 84/100\n",
      "37/37 [==============================] - 64s 2s/step - loss: 0.6086 - acc: 0.7766\n",
      "Epoch 85/100\n",
      "37/37 [==============================] - 64s 2s/step - loss: 0.6316 - acc: 0.7636\n",
      "Epoch 86/100\n",
      "37/37 [==============================] - 64s 2s/step - loss: 0.6430 - acc: 0.7714\n",
      "Epoch 87/100\n",
      "37/37 [==============================] - 64s 2s/step - loss: 0.5679 - acc: 0.7732\n",
      "Epoch 88/100\n",
      "37/37 [==============================] - 64s 2s/step - loss: 0.5950 - acc: 0.7723\n",
      "Epoch 89/100\n",
      "37/37 [==============================] - 64s 2s/step - loss: 0.6357 - acc: 0.7628\n",
      "Epoch 90/100\n",
      "37/37 [==============================] - 64s 2s/step - loss: 0.5810 - acc: 0.7827\n",
      "Epoch 91/100\n",
      "37/37 [==============================] - 64s 2s/step - loss: 0.5905 - acc: 0.7827\n",
      "Epoch 92/100\n",
      "37/37 [==============================] - 65s 2s/step - loss: 0.5697 - acc: 0.7810\n",
      "Epoch 93/100\n",
      "37/37 [==============================] - 64s 2s/step - loss: 0.5414 - acc: 0.7879\n",
      "Epoch 94/100\n",
      "37/37 [==============================] - 64s 2s/step - loss: 0.5076 - acc: 0.7931\n",
      "Epoch 95/100\n",
      "37/37 [==============================] - 64s 2s/step - loss: 0.5042 - acc: 0.8026\n",
      "Epoch 96/100\n",
      "37/37 [==============================] - 64s 2s/step - loss: 0.5742 - acc: 0.7835\n",
      "Epoch 97/100\n",
      "37/37 [==============================] - 64s 2s/step - loss: 0.4861 - acc: 0.8190\n",
      "Epoch 98/100\n",
      "37/37 [==============================] - 64s 2s/step - loss: 0.4750 - acc: 0.8121\n",
      "Epoch 99/100\n",
      "37/37 [==============================] - 64s 2s/step - loss: 0.4414 - acc: 0.8260\n",
      "Epoch 100/100\n",
      "37/37 [==============================] - 64s 2s/step - loss: 0.4757 - acc: 0.8087\n"
     ]
    },
    {
     "data": {
      "image/png": "[encoded data removed]",
      "text/plain": [
       "<Figure size 432x288 with 1 Axes>"
      ]
     },
     "metadata": {
      "needs_background": "light"
     },
     "output_type": "display_data"
    },
    {
     "data": {
      "image/png": "[encoded data removed]",
      "text/plain": [
       "<Figure size 432x288 with 1 Axes>"
      ]
     },
     "metadata": {
      "needs_background": "light"
     },
     "output_type": "display_data"
    },
    {
     "name": "stdout",
     "output_type": "stream",
     "text": [
      "9/9 [==============================] - 4s 469ms/step - loss: 1.3038 - acc: 0.6561\n",
      "n Test_Accuracy:- 0.6561403\n",
      "              precision    recall  f1-score   support\n",
      "\n",
      "           0       1.00      1.00      1.00        19\n",
      "           1       1.00      1.00      1.00        36\n",
      "           2       1.00      1.00      1.00        37\n",
      "           3       1.00      1.00      1.00        29\n",
      "           4       1.00      1.00      1.00        51\n",
      "           5       1.00      1.00      1.00        47\n",
      "           6       1.00      1.00      1.00        39\n",
      "           7       1.00      1.00      1.00        27\n",
      "\n",
      "    accuracy                           1.00       285\n",
      "   macro avg       1.00      1.00      1.00       285\n",
      "weighted avg       1.00      1.00      1.00       285\n",
      "\n",
      "confusion matrix\n",
      "[[19  0  0  0  0  0  0  0]\n",
      " [ 0 36  0  0  0  0  0  0]\n",
      " [ 0  0 37  0  0  0  0  0]\n",
      " [ 0  0  0 29  0  0  0  0]\n",
      " [ 0  0  0  0 51  0  0  0]\n",
      " [ 0  0  0  0  0 47  0  0]\n",
      " [ 0  0  0  0  0  0 39  0]\n",
      " [ 0  0  0  0  0  0  0 27]]\n"
     ]
    },
    {
     "data": {
      "image/png": "[encoded data removed]",
      "text/plain": [
       "<Figure size 576x360 with 2 Axes>"
      ]
     },
     "metadata": {
      "needs_background": "light"
     },
     "output_type": "display_data"
    }
   ],
   "source": [
    "import numpy as np\n",
    "import matplotlib.pyplot as plt\n",
    "%matplotlib inline\n",
    "from tensorflow.keras.preprocessing.image import ImageDataGenerator\n",
    "import tensorflow as tf\n",
    "from sklearn.metrics import confusion_matrix\n",
    "import seaborn as sns\n",
    "from keras.preprocessing import image\n",
    "from tensorflow.keras.models import load_model\n",
    "from keras.layers import BatchNormalization\n",
    "from sklearn.metrics import classification_report\n",
    "import sklearn.metrics\n",
    "print('IUGET RAVDESS CNN ON MFCCgrams!')\n",
    "from tensorflow.keras.constraints import unit_norm\n",
    "from tensorflow.keras import layers\n",
    "from tensorflow.keras import regularizers\n",
    "\n",
    "#RavdessBySpectrogram_PATH=\"C:/Users/fijitsu/Documents/A-LABORATORY-PYTHON/DATABASEInThe_STATEofTheART/RAVDESS_by_Spectro/\"\n",
    "#path_dir = RavdessBySpectrogram_PATH\n",
    "RavdessByMFCCgram_PATH_IUGET=\"C:/Users/INSIDE BINARIES/Documents/LABO_PYTHON/DATASET/RAVDESS_by_MFCC/\"\n",
    "path_dir = RavdessByMFCCgram_PATH_IUGET\n",
    "\n",
    "datagen = ImageDataGenerator(\n",
    "                    rescale=1./255,\n",
    "                    validation_split = 0.2)\n",
    "train_generator = datagen.flow_from_directory(\n",
    "    path_dir,\n",
    "    target_size=(1080,216),\n",
    "    shuffle=True,\n",
    "    subset='training'\n",
    ")\n",
    "validation_generator = datagen.flow_from_directory(\n",
    "    path_dir,\n",
    "    target_size=(1080,216),\n",
    "    subset='validation'\n",
    ")\n",
    "\n",
    "IMAGE_HEIGHT=216\n",
    "IMAGE_WIDTH=1080\n",
    "N_CHANNELS=3\n",
    "N_CLASSES=8\n",
    "# Create CNN model\n",
    "model = tf.keras.models.Sequential()\n",
    "model.add(tf.keras.layers.Input(shape=(IMAGE_WIDTH, IMAGE_HEIGHT, N_CHANNELS)))\n",
    "model.add(tf.keras.layers.Conv2D(32, 3, strides=2, padding='same', activation='relu'))\n",
    "#model.add(tf.keras.layers.BatchNormalization())\n",
    "model.add(tf.keras.layers.MaxPooling2D(pool_size=(2, 2)))\n",
    "#model.add(tf.keras.layers.BatchNormalization())\n",
    "model.add(tf.keras.layers.Conv2D(64, 3, padding='same', activation='relu'))\n",
    "#model.add(tf.keras.layers.BatchNormalization())\n",
    "model.add(tf.keras.layers.MaxPooling2D(pool_size=(2, 2)))\n",
    "#model.add(tf.keras.layers.BatchNormalization())\n",
    "model.add(tf.keras.layers.Conv2D(128, 3, padding='same', activation='relu'))\n",
    "#model.add(tf.keras.layers.BatchNormalization())\n",
    "model.add(tf.keras.layers.MaxPooling2D(pool_size=(2, 2)))\n",
    "#model.add(tf.keras.layers.BatchNormalization())\n",
    "model.add(tf.keras.layers.Flatten())\n",
    "model.add(tf.keras.layers.Dense(256, activation='relu'))\n",
    "#model.add(tf.keras.layers.BatchNormalization())\n",
    "model.add(tf.keras.layers.Dropout(0.5))\n",
    "model.add(tf.keras.layers.Dense(N_CLASSES, activation='softmax'))\n",
    "\n",
    "# Compile model\n",
    "#model.compile(\n",
    "#    loss='sparse_categorical_crossentropy',\n",
    "#   optimizer=tf.keras.optimizers.RMSprop(),\n",
    "#    metrics=['accuracy'],\n",
    "#)\n",
    "\n",
    "# Train model for 10 epochs, capture the history\n",
    "#history_cnn = model.fit(train_generator, epochs=10, validation_data=validation_generator)\n",
    "\n",
    "\n",
    "##FINISH MODIFICATION\n",
    "model.summary()\n",
    "model.compile(loss='categorical_crossentropy', optimizer='adam', metrics=['accuracy'])\n",
    "history_cnn = model.fit(train_generator,batch_size=32,epochs=100)\n",
    "model.save('80K_CNNmodelUsingRAVDESSDataSet_MFCC_IUGET.h5')\n",
    "yhat = model.predict(train_generator)\n",
    "\n",
    "\n",
    "import matplotlib.pyplot as plt\n",
    "\n",
    "loss_curve = history_cnn.history[\"loss\"]\n",
    "acc_curve = history_cnn.history[\"acc\"]\n",
    "\n",
    "#loss_val_curve = history.history[\"val_loss\"]\n",
    "#acc_val_curve = history.history[\"val_accuracy\"]\n",
    "\n",
    "plt.plot(loss_curve, label=\"cnn_loss\",  marker=11)\n",
    "\n",
    "plt.legend(loc=\"upper left\")\n",
    "plt.title(\"loss\")\n",
    "plt.savefig('acc_loss.png')\n",
    "plt.show()\n",
    "\n",
    "plt.plot(acc_curve, label=\"cnn_acc\",  marker=11)\n",
    "\n",
    "plt.legend(loc=\"upper left\")\n",
    "plt.title(\"Accuracy\")\n",
    "plt.savefig('acc_cnn.png')\n",
    "plt.show()\n",
    "\n",
    "accuracy = model.evaluate(validation_generator)\n",
    "print('n', 'Test_Accuracy:-', accuracy[1])\n",
    "pred = model.predict(validation_generator)\n",
    "y_pred = np.argmax(pred, axis=1)\n",
    "y_true = np.argmax(pred, axis=1)\n",
    "print(classification_report(y_true, y_pred, labels=[0,1, 2,3,4,5,6,7]))  #Car sur RAVDESS il ya 8 emotions\n",
    "print('confusion matrix')\n",
    "print(confusion_matrix(y_true, y_pred))\n",
    "    #confusion matrix\n",
    "f, ax = plt.subplots(figsize=(8,5))\n",
    "sns.heatmap(confusion_matrix(y_true, y_pred), annot=True, fmt=\".0f\", ax=ax)\n",
    "plt.xlabel(\"y_pred\")\n",
    "plt.ylabel(\"y_true\")\n",
    "plt.show()"
   ]
  },
  {
   "cell_type": "code",
   "execution_count": null,
   "metadata": {},
   "outputs": [],
   "source": []
  },
  {
   "cell_type": "code",
   "execution_count": null,
   "metadata": {},
   "outputs": [],
   "source": []
  },
  {
   "cell_type": "code",
   "execution_count": null,
   "metadata": {},
   "outputs": [],
   "source": [
    "#Fonction pour Encoder un fichier Audio en Spectrogramme"
   ]
  },
  {
   "cell_type": "code",
   "execution_count": null,
   "metadata": {},
   "outputs": [],
   "source": []
  },
  {
   "cell_type": "code",
   "execution_count": 25,
   "metadata": {},
   "outputs": [],
   "source": [
    "#Fonction qui prend en entrée un spectrogramme et donne en sortie une émotion\n",
    "import tensorflow as tf\n",
    "#Dictionnaires d'émotions\n",
    "Emotions_Dictionary={0:'Neutral',1:'Calm',2:'Happy',3:'Sad',4:'Angry',5:'Fearful',6:'Disgust',7:'Surpise'}\n",
    "def EmotionsPredictionFormSpectrogrammee(SpectrogramUtteranceFolder):\n",
    "    #Charger les SpectroGramme des prises de paroles (classés par ordre chrnologique_alphanumérique dans le repertoire)\n",
    "    path_dir = SpectrogramUtteranceFolder\n",
    "    PrisesDeParole_datagen = ImageDataGenerator(\n",
    "                    rescale=1./255)\n",
    "    PrisesDeParole_generator = PrisesDeParole_datagen.flow_from_directory(\n",
    "    path_dir,\n",
    "    target_size=(1080,216),\n",
    "    shuffle=False)\n",
    "    \n",
    "    #charger le model pré entrainé\n",
    "    #Pretrained_Model_PATH='C:/Users/fijitsu/Documents/A-LABORATORY-PYTHON/PretrainedCnnModel/model_4.h5'\n",
    "    #MyPretrained_Model = tf.keras.models.load_model('MyPretrainedModel')\n",
    "    MyPretrained_Model=model\n",
    "    \n",
    "    #Prediction des emotions\n",
    "    pred = MyPretrained_Model.predict(PrisesDeParole_generator)\n",
    "    y_pred = np.argmax(pred, axis=1)\n",
    "    #Display result\n",
    "    print(y_pred)\n",
    "    return y_pred\n",
    "\n",
    "    "
   ]
  },
  {
   "cell_type": "code",
   "execution_count": 29,
   "metadata": {},
   "outputs": [
    {
     "name": "stdout",
     "output_type": "stream",
     "text": [
      "Found 400 images belonging to 1 classes.\n",
      "[6 3 1 6 1 3 3 3 1 3 6 1 1 3 3 1 6 1 1 6 6 1 6 6 3 6 1 3 1 1 3 1 1 3 3 6 3\n",
      " 6 3 6 3 3 3 1 3 3 3 1 3 3 3 3 3 3 3 3 3 3 3 3 6 3 2 6 3 3 3 6 3 3 3 3 3 6\n",
      " 6 6 3 3 6 3 3 3 3 3 3 3 2 3 3 3 3 1 6 6 1 6 6 6 1 3 3 3 6 6 6 1 1 3 3 1 2\n",
      " 3 3 6 3 3 3 3 3 3 3 3 3 6 3 3 3 3 3 5 3 3 5 3 3 3 3 3 3 3 3 3 3 3 3 6 3 3\n",
      " 3 3 3 3 3 3 3 3 3 5 3 3 3 3 3 3 2 3 3 3 3 3 3 3 3 3 5 3 3 3 6 3 3 3 5 3 3\n",
      " 3 7 3 3 6 3 3 3 3 3 3 3 3 3 3 3 3 3 3 3 3 2 3 3 3 3 6 3 3 3 3 3 3 3 3 3 3\n",
      " 6 3 3 3 3 3 3 3 3 3 3 3 3 3 3 3 3 3 3 3 3 3 3 6 3 3 3 3 1 3 3 3 3 3 3 3 3\n",
      " 3 3 3 2 3 6 3 3 6 3 3 3 3 3 3 5 3 3 3 3 3 3 3 3 3 3 3 3 5 3 1 5 3 3 3 3 3\n",
      " 3 3 3 3 3 3 5 3 3 3 3 5 3 3 3 3 3 3 3 3 3 3 3 3 3 2 3 3 3 3 3 3 3 3 5 3 3\n",
      " 6 3 3 3 3 3 3 6 6 6 6 2 6 6 3 1 6 1 3 3 3 3 3 6 6 3 2 3 3 3 3 6 6 3 6 6 6\n",
      " 6 3 3 6 6 6 6 6 6 6 6 3 3 3 3 3 6 1 1 3 1 3 3 6 2 1 3 6 6 3]\n",
      "les émotions contenus dans les prises de parole: ['Disgust', 'Sad', 'Calm', 'Disgust', 'Calm', 'Sad', 'Sad', 'Sad', 'Calm', 'Sad', 'Disgust', 'Calm', 'Calm', 'Sad', 'Sad', 'Calm', 'Disgust', 'Calm', 'Calm', 'Disgust', 'Disgust', 'Calm', 'Disgust', 'Disgust', 'Sad', 'Disgust', 'Calm', 'Sad', 'Calm', 'Calm', 'Sad', 'Calm', 'Calm', 'Sad', 'Sad', 'Disgust', 'Sad', 'Disgust', 'Sad', 'Disgust', 'Sad', 'Sad', 'Sad', 'Calm', 'Sad', 'Sad', 'Sad', 'Calm', 'Sad', 'Sad', 'Sad', 'Sad', 'Sad', 'Sad', 'Sad', 'Sad', 'Sad', 'Sad', 'Sad', 'Sad', 'Disgust', 'Sad', 'Happy', 'Disgust', 'Sad', 'Sad', 'Sad', 'Disgust', 'Sad', 'Sad', 'Sad', 'Sad', 'Sad', 'Disgust', 'Disgust', 'Disgust', 'Sad', 'Sad', 'Disgust', 'Sad', 'Sad', 'Sad', 'Sad', 'Sad', 'Sad', 'Sad', 'Happy', 'Sad', 'Sad', 'Sad', 'Sad', 'Calm', 'Disgust', 'Disgust', 'Calm', 'Disgust', 'Disgust', 'Disgust', 'Calm', 'Sad', 'Sad', 'Sad', 'Disgust', 'Disgust', 'Disgust', 'Calm', 'Calm', 'Sad', 'Sad', 'Calm', 'Happy', 'Sad', 'Sad', 'Disgust', 'Sad', 'Sad', 'Sad', 'Sad', 'Sad', 'Sad', 'Sad', 'Sad', 'Sad', 'Disgust', 'Sad', 'Sad', 'Sad', 'Sad', 'Sad', 'Fearful', 'Sad', 'Sad', 'Fearful', 'Sad', 'Sad', 'Sad', 'Sad', 'Sad', 'Sad', 'Sad', 'Sad', 'Sad', 'Sad', 'Sad', 'Sad', 'Disgust', 'Sad', 'Sad', 'Sad', 'Sad', 'Sad', 'Sad', 'Sad', 'Sad', 'Sad', 'Sad', 'Sad', 'Fearful', 'Sad', 'Sad', 'Sad', 'Sad', 'Sad', 'Sad', 'Happy', 'Sad', 'Sad', 'Sad', 'Sad', 'Sad', 'Sad', 'Sad', 'Sad', 'Sad', 'Fearful', 'Sad', 'Sad', 'Sad', 'Disgust', 'Sad', 'Sad', 'Sad', 'Fearful', 'Sad', 'Sad', 'Sad', 'Surpise', 'Sad', 'Sad', 'Disgust', 'Sad', 'Sad', 'Sad', 'Sad', 'Sad', 'Sad', 'Sad', 'Sad', 'Sad', 'Sad', 'Sad', 'Sad', 'Sad', 'Sad', 'Sad', 'Sad', 'Happy', 'Sad', 'Sad', 'Sad', 'Sad', 'Disgust', 'Sad', 'Sad', 'Sad', 'Sad', 'Sad', 'Sad', 'Sad', 'Sad', 'Sad', 'Sad', 'Disgust', 'Sad', 'Sad', 'Sad', 'Sad', 'Sad', 'Sad', 'Sad', 'Sad', 'Sad', 'Sad', 'Sad', 'Sad', 'Sad', 'Sad', 'Sad', 'Sad', 'Sad', 'Sad', 'Sad', 'Sad', 'Sad', 'Sad', 'Disgust', 'Sad', 'Sad', 'Sad', 'Sad', 'Calm', 'Sad', 'Sad', 'Sad', 'Sad', 'Sad', 'Sad', 'Sad', 'Sad', 'Sad', 'Sad', 'Sad', 'Happy', 'Sad', 'Disgust', 'Sad', 'Sad', 'Disgust', 'Sad', 'Sad', 'Sad', 'Sad', 'Sad', 'Sad', 'Fearful', 'Sad', 'Sad', 'Sad', 'Sad', 'Sad', 'Sad', 'Sad', 'Sad', 'Sad', 'Sad', 'Sad', 'Sad', 'Fearful', 'Sad', 'Calm', 'Fearful', 'Sad', 'Sad', 'Sad', 'Sad', 'Sad', 'Sad', 'Sad', 'Sad', 'Sad', 'Sad', 'Sad', 'Fearful', 'Sad', 'Sad', 'Sad', 'Sad', 'Fearful', 'Sad', 'Sad', 'Sad', 'Sad', 'Sad', 'Sad', 'Sad', 'Sad', 'Sad', 'Sad', 'Sad', 'Sad', 'Sad', 'Happy', 'Sad', 'Sad', 'Sad', 'Sad', 'Sad', 'Sad', 'Sad', 'Sad', 'Fearful', 'Sad', 'Sad', 'Disgust', 'Sad', 'Sad', 'Sad', 'Sad', 'Sad', 'Sad', 'Disgust', 'Disgust', 'Disgust', 'Disgust', 'Happy', 'Disgust', 'Disgust', 'Sad', 'Calm', 'Disgust', 'Calm', 'Sad', 'Sad', 'Sad', 'Sad', 'Sad', 'Disgust', 'Disgust', 'Sad', 'Happy', 'Sad', 'Sad', 'Sad', 'Sad', 'Disgust', 'Disgust', 'Sad', 'Disgust', 'Disgust', 'Disgust', 'Disgust', 'Sad', 'Sad', 'Disgust', 'Disgust', 'Disgust', 'Disgust', 'Disgust', 'Disgust', 'Disgust', 'Disgust', 'Sad', 'Sad', 'Sad', 'Sad', 'Sad', 'Disgust', 'Calm', 'Calm', 'Sad', 'Calm', 'Sad', 'Sad', 'Disgust', 'Happy', 'Calm', 'Sad', 'Disgust', 'Disgust', 'Sad']\n"
     ]
    }
   ],
   "source": [
    "##Testons voir\n",
    "##SpectrogramUtteranceFolder='./SpectrogrammeLocuteurX/'\n",
    "\n",
    "#SpectrogramUtteranceFolder=RavdessBySpectrogram_PATH+''\n",
    "SpectrogramUtteranceFolder=\"C:/Users/INSIDE BINARIES/Documents/LABO_PYTHON/DATASET/PredictionMFCC/\"\n",
    "PredictedEmotions_labels=EmotionsPredictionFormSpectrogrammee(SpectrogramUtteranceFolder)\n",
    "print('les émotions contenus dans les prises de parole:',[Emotions_Dictionary[ii] for ii in PredictedEmotions_labels])\n"
   ]
  },
  {
   "cell_type": "code",
   "execution_count": 34,
   "metadata": {},
   "outputs": [
    {
     "name": "stdout",
     "output_type": "stream",
     "text": [
      "16.25\n"
     ]
    }
   ],
   "source": [
    "print(list(PredictedEmotions_labels).count(6)*100 / len(list(PredictedEmotions_labels)))\n"
   ]
  },
  {
   "cell_type": "code",
   "execution_count": 36,
   "metadata": {},
   "outputs": [
    {
     "name": "stdout",
     "output_type": "stream",
     "text": [
      "Found 11 images belonging to 4 classes.\n",
      "[0 0 0 0 1 1 5 5 5 5 6]\n"
     ]
    }
   ],
   "source": [
    "\n",
    "#yhat = model.predict(train_generator)\n",
    "\n",
    "path_dir = './SpectrogrammeLocuteurX/'\n",
    "\n",
    "PrisesDeParole_datagen = ImageDataGenerator(\n",
    "                    rescale=1./255)\n",
    "PrisesDeParole_generator = datagen.flow_from_directory(\n",
    "    path_dir,\n",
    "    target_size=(350,350),\n",
    "    shuffle=False\n",
    ")\n",
    "\n",
    "\n",
    "pred = model.predict(PrisesDeParole_generator)\n",
    "y_pred = np.argmax(pred, axis=1)\n",
    "print(y_pred)\n"
   ]
  },
  {
   "cell_type": "code",
   "execution_count": null,
   "metadata": {},
   "outputs": [],
   "source": []
  },
  {
   "cell_type": "code",
   "execution_count": 53,
   "metadata": {},
   "outputs": [
    {
     "name": "stdout",
     "output_type": "stream",
     "text": [
      "1440\n",
      "181.625\n",
      "180.0\n"
     ]
    }
   ],
   "source": [
    "\n",
    "print(7*24*2*2*2+1*24*2*2)\n",
    "print((187+201+203+192+191+96+191+192)/8)\n",
    "print((7*192+96)/8)"
   ]
  },
  {
   "cell_type": "code",
   "execution_count": 51,
   "metadata": {},
   "outputs": [
    {
     "name": "stdout",
     "output_type": "stream",
     "text": [
      "96\n"
     ]
    }
   ],
   "source": [
    "print(1*24*1*2*2)"
   ]
  },
  {
   "cell_type": "code",
   "execution_count": 52,
   "metadata": {},
   "outputs": [
    {
     "name": "stdout",
     "output_type": "stream",
     "text": [
      "192\n"
     ]
    }
   ],
   "source": [
    "print(24*2*2*2)"
   ]
  },
  {
   "cell_type": "code",
   "execution_count": null,
   "metadata": {},
   "outputs": [],
   "source": []
  },
  {
   "cell_type": "code",
   "execution_count": null,
   "metadata": {},
   "outputs": [],
   "source": []
  },
  {
   "cell_type": "code",
   "execution_count": null,
   "metadata": {},
   "outputs": [],
   "source": []
  },
  {
   "cell_type": "code",
   "execution_count": null,
   "metadata": {},
   "outputs": [],
   "source": []
  },
  {
   "cell_type": "code",
   "execution_count": 15,
   "metadata": {},
   "outputs": [
    {
     "data": {
      "image/png": "[encoded data removed]",
      "text/plain": [
       "<Figure size 432x288 with 1 Axes>"
      ]
     },
     "metadata": {
      "needs_background": "light"
     },
     "output_type": "display_data"
    },
    {
     "data": {
      "image/png": "[encoded data removed]",
      "text/plain": [
       "<Figure size 432x288 with 1 Axes>"
      ]
     },
     "metadata": {
      "needs_background": "light"
     },
     "output_type": "display_data"
    },
    {
     "name": "stdout",
     "output_type": "stream",
     "text": [
      "14/14 [==============================] - 10s 687ms/step - loss: 16.9899 - acc: 0.1218\n",
      "n Test_Accuracy:- 0.12177986\n",
      "              precision    recall  f1-score   support\n",
      "\n",
      "           0       1.00      1.00      1.00         3\n",
      "           1       1.00      1.00      1.00        14\n",
      "           2       0.00      0.00      0.00         0\n",
      "           3       1.00      1.00      1.00        97\n",
      "           4       0.00      0.00      0.00         0\n",
      "           5       1.00      1.00      1.00         1\n",
      "           6       1.00      1.00      1.00       312\n",
      "           7       0.00      0.00      0.00         0\n",
      "\n",
      "   micro avg       1.00      1.00      1.00       427\n",
      "   macro avg       0.62      0.62      0.62       427\n",
      "weighted avg       1.00      1.00      1.00       427\n",
      "\n",
      "confusion matrix\n",
      "[[  3   0   0   0   0]\n",
      " [  0  14   0   0   0]\n",
      " [  0   0  97   0   0]\n",
      " [  0   0   0   1   0]\n",
      " [  0   0   0   0 312]]\n"
     ]
    },
    {
     "data": {
      "image/png": "[encoded data removed]",
      "text/plain": [
       "<Figure size 576x360 with 2 Axes>"
      ]
     },
     "metadata": {
      "needs_background": "light"
     },
     "output_type": "display_data"
    }
   ],
   "source": [
    "model.save('K_CNNmodelUsingRAVDESSDataSet.h5')\n",
    "yhat = model.predict(train_generator)\n",
    "\n",
    "\n",
    "import matplotlib.pyplot as plt\n",
    "\n",
    "loss_curve = history_cnn.history[\"loss\"]\n",
    "acc_curve = history_cnn.history[\"acc\"]\n",
    "\n",
    "#loss_val_curve = history.history[\"val_loss\"]\n",
    "#acc_val_curve = history.history[\"val_accuracy\"]\n",
    "\n",
    "plt.plot(loss_curve, label=\"cnn_loss\",  marker=11)\n",
    "\n",
    "plt.legend(loc=\"upper left\")\n",
    "plt.title(\"loss\")\n",
    "plt.savefig('acc_loss.png')\n",
    "plt.show()\n",
    "\n",
    "plt.plot(acc_curve, label=\"cnn_acc\",  marker=11)\n",
    "\n",
    "plt.legend(loc=\"upper left\")\n",
    "plt.title(\"Accuracy\")\n",
    "plt.savefig('acc_cnn.png')\n",
    "plt.show()\n",
    "\n",
    "accuracy = model.evaluate(validation_generator)\n",
    "print('n', 'Test_Accuracy:-', accuracy[1])\n",
    "pred = model.predict(validation_generator)\n",
    "y_pred = np.argmax(pred, axis=1)\n",
    "y_true = np.argmax(pred, axis=1)\n",
    "print(classification_report(y_true, y_pred, labels=[0,1, 2,3,4,5,6,7]))  #Car sur RAVDESS il ya 8 emotions\n",
    "print('confusion matrix')\n",
    "print(confusion_matrix(y_true, y_pred))\n",
    "    #confusion matrix\n",
    "f, ax = plt.subplots(figsize=(8,5))\n",
    "sns.heatmap(confusion_matrix(y_true, y_pred), annot=True, fmt=\".0f\", ax=ax)\n",
    "plt.xlabel(\"y_pred\")\n",
    "plt.ylabel(\"y_true\")\n",
    "plt.show()"
   ]
  },
  {
   "cell_type": "code",
   "execution_count": 25,
   "metadata": {},
   "outputs": [
    {
     "name": "stdout",
     "output_type": "stream",
     "text": [
      "32/32 [==============================] - 24s 740ms/step - loss: 3.7440 - acc: 0.2616\n",
      "n Test_Accuracy:- 0.2615992\n"
     ]
    }
   ],
   "source": [
    "datagen = ImageDataGenerator(\n",
    "                    rescale=1./255,\n",
    "                    validation_split = 0.3)\n",
    "train_generator = datagen.flow_from_directory(\n",
    "    path_dir,\n",
    "    target_size=(350,350),\n",
    "    shuffle=True,\n",
    "    subset='training'\n",
    ")\n",
    "validation_generator = datagen.flow_from_directory(\n",
    "    path_dir,\n",
    "    target_size=(350,350),\n",
    "    subset='validation'\n",
    ")\n"
   ]
  },
  {
   "cell_type": "code",
   "execution_count": 38,
   "metadata": {},
   "outputs": [
    {
     "name": "stdout",
     "output_type": "stream",
     "text": [
      "32/32 [==============================] - 12s 383ms/step - loss: 0.0026 - acc: 1.0000\n",
      "n Test_Accuracy:- 1.0\n"
     ]
    }
   ],
   "source": [
    "accuracy = model.evaluate(train_generator)\n",
    "print('n', 'Test_Accuracy:-', accuracy[1])\n"
   ]
  },
  {
   "cell_type": "code",
   "execution_count": 39,
   "metadata": {},
   "outputs": [
    {
     "name": "stdout",
     "output_type": "stream",
     "text": [
      "              precision    recall  f1-score   support\n",
      "\n",
      "           0       1.00      1.00      1.00        68\n",
      "           1       1.00      1.00      1.00       135\n",
      "           2       1.00      1.00      1.00       135\n",
      "           3       1.00      1.00      1.00       135\n",
      "           4       1.00      1.00      1.00       135\n",
      "           5       1.00      1.00      1.00       135\n",
      "           6       1.00      1.00      1.00       135\n",
      "           7       1.00      1.00      1.00       135\n",
      "\n",
      "    accuracy                           1.00      1013\n",
      "   macro avg       1.00      1.00      1.00      1013\n",
      "weighted avg       1.00      1.00      1.00      1013\n",
      "\n",
      "confusion matrix\n",
      "[[ 68   0   0   0   0   0   0   0]\n",
      " [  0 135   0   0   0   0   0   0]\n",
      " [  0   0 135   0   0   0   0   0]\n",
      " [  0   0   0 135   0   0   0   0]\n",
      " [  0   0   0   0 135   0   0   0]\n",
      " [  0   0   0   0   0 135   0   0]\n",
      " [  0   0   0   0   0   0 135   0]\n",
      " [  0   0   0   0   0   0   0 135]]\n"
     ]
    },
    {
     "data": {
      "image/png": "[encoded data removed]",
      "text/plain": [
       "<Figure size 576x360 with 2 Axes>"
      ]
     },
     "metadata": {
      "needs_background": "light"
     },
     "output_type": "display_data"
    }
   ],
   "source": [
    "pred = model.predict(train_generator)\n",
    "y_pred = np.argmax(pred, axis=1)\n",
    "y_true = np.argmax(pred, axis=1)\n",
    "print(classification_report(y_true, y_pred, labels=[0,1, 2,3,4,5,6,7]))  #Car sur RAVDESS il ya 8 emotions\n",
    "print('confusion matrix')\n",
    "print(confusion_matrix(y_true, y_pred))\n",
    "    #confusion matrix\n",
    "f, ax = plt.subplots(figsize=(8,5))\n",
    "sns.heatmap(confusion_matrix(y_true, y_pred), annot=True, fmt=\".0f\", ax=ax)\n",
    "plt.xlabel(\"y_pred\")\n",
    "plt.ylabel(\"y_true\")\n",
    "plt.show()"
   ]
  }
 ],
 "metadata": {
  "kernelspec": {
   "display_name": "Python 3",
   "language": "python",
   "name": "python3"
  },
  "language_info": {
   "codemirror_mode": {
    "name": "ipython",
    "version": 3
   },
   "file_extension": ".py",
   "mimetype": "text/x-python",
   "name": "python",
   "nbconvert_exporter": "python",
   "pygments_lexer": "ipython3",
   "version": "3.7.6"
  }
 },
 "nbformat": 4,
 "nbformat_minor": 5
}
