{
 "cells": [
  {
   "cell_type": "code",
   "execution_count": 2,
   "metadata": {
    "scrolled": true
   },
   "outputs": [
    {
     "name": "stdout",
     "output_type": "stream",
     "text": [
      "IUGET EMODB CNN ON MFCCgrams!\n",
      "Found 431 images belonging to 7 classes.\n",
      "Found 104 images belonging to 7 classes.\n",
      "Model: \"sequential_1\"\n",
      "_________________________________________________________________\n",
      "Layer (type)                 Output Shape              Param #   \n",
      "=================================================================\n",
      "conv2d_3 (Conv2D)            (None, 540, 108, 32)      896       \n",
      "_________________________________________________________________\n",
      "max_pooling2d_3 (MaxPooling2 (None, 270, 54, 32)       0         \n",
      "_________________________________________________________________\n",
      "conv2d_4 (Conv2D)            (None, 270, 54, 64)       18496     \n",
      "_________________________________________________________________\n",
      "max_pooling2d_4 (MaxPooling2 (None, 135, 27, 64)       0         \n",
      "_________________________________________________________________\n",
      "conv2d_5 (Conv2D)            (None, 135, 27, 128)      73856     \n",
      "_________________________________________________________________\n",
      "max_pooling2d_5 (MaxPooling2 (None, 67, 13, 128)       0         \n",
      "_________________________________________________________________\n",
      "flatten_1 (Flatten)          (None, 111488)            0         \n",
      "_________________________________________________________________\n",
      "dense_2 (Dense)              (None, 256)               28541184  \n",
      "_________________________________________________________________\n",
      "dropout_1 (Dropout)          (None, 256)               0         \n",
      "_________________________________________________________________\n",
      "dense_3 (Dense)              (None, 7)                 1799      \n",
      "=================================================================\n",
      "Total params: 28,636,231\n",
      "Trainable params: 28,636,231\n",
      "Non-trainable params: 0\n",
      "_________________________________________________________________\n",
      "Epoch 1/100\n",
      "14/14 [==============================] - 25s 2s/step - loss: 2.7437 - acc: 0.1972\n",
      "Epoch 2/100\n",
      "14/14 [==============================] - 22s 2s/step - loss: 1.8967 - acc: 0.2413\n",
      "Epoch 3/100\n",
      "14/14 [==============================] - 23s 2s/step - loss: 1.8438 - acc: 0.2529\n",
      "Epoch 4/100\n",
      "14/14 [==============================] - 23s 2s/step - loss: 1.7851 - acc: 0.3109\n",
      "Epoch 5/100\n",
      "14/14 [==============================] - 23s 2s/step - loss: 1.6933 - acc: 0.3248\n",
      "Epoch 6/100\n",
      "14/14 [==============================] - 24s 2s/step - loss: 1.6519 - acc: 0.3619\n",
      "Epoch 7/100\n",
      "14/14 [==============================] - 24s 2s/step - loss: 1.5822 - acc: 0.3782\n",
      "Epoch 8/100\n",
      "14/14 [==============================] - 23s 2s/step - loss: 1.4967 - acc: 0.4037\n",
      "Epoch 9/100\n",
      "14/14 [==============================] - 23s 2s/step - loss: 1.5914 - acc: 0.3944\n",
      "Epoch 10/100\n",
      "14/14 [==============================] - 23s 2s/step - loss: 1.4597 - acc: 0.4710\n",
      "Epoch 11/100\n",
      "14/14 [==============================] - 22s 2s/step - loss: 1.4082 - acc: 0.4385\n",
      "Epoch 12/100\n",
      "14/14 [==============================] - 22s 2s/step - loss: 1.3160 - acc: 0.4362\n",
      "Epoch 13/100\n",
      "14/14 [==============================] - 22s 2s/step - loss: 1.3007 - acc: 0.5012\n",
      "Epoch 14/100\n",
      "14/14 [==============================] - 22s 2s/step - loss: 1.2033 - acc: 0.5499\n",
      "Epoch 15/100\n",
      "14/14 [==============================] - 22s 2s/step - loss: 1.3240 - acc: 0.4710\n",
      "Epoch 16/100\n",
      "14/14 [==============================] - 22s 2s/step - loss: 1.2133 - acc: 0.5128\n",
      "Epoch 17/100\n",
      "14/14 [==============================] - 22s 2s/step - loss: 1.1051 - acc: 0.5754\n",
      "Epoch 18/100\n",
      "14/14 [==============================] - 22s 2s/step - loss: 1.0862 - acc: 0.5499\n",
      "Epoch 19/100\n",
      "14/14 [==============================] - 22s 2s/step - loss: 1.0083 - acc: 0.6032\n",
      "Epoch 20/100\n",
      "14/14 [==============================] - 23s 2s/step - loss: 0.9898 - acc: 0.6265\n",
      "Epoch 21/100\n",
      "14/14 [==============================] - 22s 2s/step - loss: 0.9769 - acc: 0.6125\n",
      "Epoch 22/100\n",
      "14/14 [==============================] - 23s 2s/step - loss: 0.9732 - acc: 0.6079\n",
      "Epoch 23/100\n",
      "14/14 [==============================] - 22s 2s/step - loss: 0.9461 - acc: 0.6079\n",
      "Epoch 24/100\n",
      "14/14 [==============================] - 22s 2s/step - loss: 0.9268 - acc: 0.6636\n",
      "Epoch 25/100\n",
      "14/14 [==============================] - 22s 2s/step - loss: 0.8688 - acc: 0.6543\n",
      "Epoch 26/100\n",
      "14/14 [==============================] - 22s 2s/step - loss: 0.8335 - acc: 0.6613\n",
      "Epoch 27/100\n",
      "14/14 [==============================] - 22s 2s/step - loss: 0.8525 - acc: 0.6589\n",
      "Epoch 28/100\n",
      "14/14 [==============================] - 22s 2s/step - loss: 0.8591 - acc: 0.6613\n",
      "Epoch 29/100\n",
      "14/14 [==============================] - 22s 2s/step - loss: 0.8273 - acc: 0.6543\n",
      "Epoch 30/100\n",
      "14/14 [==============================] - 23s 2s/step - loss: 0.8770 - acc: 0.6450\n",
      "Epoch 31/100\n",
      "14/14 [==============================] - 22s 2s/step - loss: 0.8848 - acc: 0.6473\n",
      "Epoch 32/100\n",
      "14/14 [==============================] - 22s 2s/step - loss: 0.8368 - acc: 0.6520\n",
      "Epoch 33/100\n",
      "14/14 [==============================] - 22s 2s/step - loss: 0.7723 - acc: 0.7007\n",
      "Epoch 34/100\n",
      "14/14 [==============================] - 22s 2s/step - loss: 0.7424 - acc: 0.6845\n",
      "Epoch 35/100\n",
      "14/14 [==============================] - 22s 2s/step - loss: 0.7212 - acc: 0.7100\n",
      "Epoch 36/100\n",
      "14/14 [==============================] - 22s 2s/step - loss: 0.7328 - acc: 0.7262\n",
      "Epoch 37/100\n",
      "14/14 [==============================] - 22s 2s/step - loss: 0.7233 - acc: 0.7123\n",
      "Epoch 38/100\n",
      "14/14 [==============================] - 22s 2s/step - loss: 0.6082 - acc: 0.7587\n",
      "Epoch 39/100\n",
      "14/14 [==============================] - 22s 2s/step - loss: 0.6674 - acc: 0.7401\n",
      "Epoch 40/100\n",
      "14/14 [==============================] - 22s 2s/step - loss: 0.7300 - acc: 0.7193\n",
      "Epoch 41/100\n",
      "14/14 [==============================] - 22s 2s/step - loss: 0.6698 - acc: 0.7425\n",
      "Epoch 42/100\n",
      "14/14 [==============================] - 22s 2s/step - loss: 0.5997 - acc: 0.7471\n",
      "Epoch 43/100\n",
      "14/14 [==============================] - 22s 2s/step - loss: 0.6081 - acc: 0.7494\n",
      "Epoch 44/100\n",
      "14/14 [==============================] - 22s 2s/step - loss: 0.5673 - acc: 0.7773\n",
      "Epoch 45/100\n",
      "14/14 [==============================] - 22s 2s/step - loss: 0.4900 - acc: 0.8051\n",
      "Epoch 46/100\n",
      "14/14 [==============================] - 22s 2s/step - loss: 0.5608 - acc: 0.7819\n",
      "Epoch 47/100\n",
      "14/14 [==============================] - 22s 2s/step - loss: 0.5565 - acc: 0.8051\n",
      "Epoch 48/100\n",
      "14/14 [==============================] - 22s 2s/step - loss: 0.5935 - acc: 0.7471\n",
      "Epoch 49/100\n",
      "14/14 [==============================] - 22s 2s/step - loss: 0.5705 - acc: 0.7889\n",
      "Epoch 50/100\n",
      "14/14 [==============================] - 22s 2s/step - loss: 0.7117 - acc: 0.6937\n",
      "Epoch 51/100\n",
      "14/14 [==============================] - 22s 2s/step - loss: 0.6770 - acc: 0.7355\n",
      "Epoch 52/100\n",
      "14/14 [==============================] - 22s 2s/step - loss: 0.6489 - acc: 0.7378\n",
      "Epoch 53/100\n",
      "14/14 [==============================] - 22s 2s/step - loss: 0.5037 - acc: 0.8051\n",
      "Epoch 54/100\n",
      "14/14 [==============================] - 22s 2s/step - loss: 0.5224 - acc: 0.7819\n",
      "Epoch 55/100\n",
      "14/14 [==============================] - 22s 2s/step - loss: 0.5695 - acc: 0.7865\n",
      "Epoch 56/100\n",
      "14/14 [==============================] - 22s 2s/step - loss: 0.5075 - acc: 0.8167\n",
      "Epoch 57/100\n",
      "14/14 [==============================] - 22s 2s/step - loss: 0.5166 - acc: 0.7958\n",
      "Epoch 58/100\n",
      "14/14 [==============================] - 22s 2s/step - loss: 0.5545 - acc: 0.7726\n",
      "Epoch 59/100\n",
      "14/14 [==============================] - 22s 2s/step - loss: 0.5393 - acc: 0.7796\n",
      "Epoch 60/100\n",
      "14/14 [==============================] - 22s 2s/step - loss: 0.5126 - acc: 0.7726\n",
      "Epoch 61/100\n",
      "14/14 [==============================] - 22s 2s/step - loss: 0.4616 - acc: 0.8399\n",
      "Epoch 62/100\n",
      "14/14 [==============================] - 22s 2s/step - loss: 0.3867 - acc: 0.8561\n",
      "Epoch 63/100\n",
      "14/14 [==============================] - 22s 2s/step - loss: 0.4250 - acc: 0.8213\n",
      "Epoch 64/100\n",
      "14/14 [==============================] - 22s 2s/step - loss: 0.4417 - acc: 0.8144\n",
      "Epoch 65/100\n",
      "14/14 [==============================] - 22s 2s/step - loss: 0.4608 - acc: 0.8237\n",
      "Epoch 66/100\n",
      "14/14 [==============================] - 22s 2s/step - loss: 0.3900 - acc: 0.8608\n",
      "Epoch 67/100\n",
      "14/14 [==============================] - 22s 2s/step - loss: 0.3823 - acc: 0.8538\n",
      "Epoch 68/100\n"
     ]
    },
    {
     "name": "stdout",
     "output_type": "stream",
     "text": [
      "14/14 [==============================] - 22s 2s/step - loss: 0.3912 - acc: 0.8469\n",
      "Epoch 69/100\n",
      "14/14 [==============================] - 22s 2s/step - loss: 0.3783 - acc: 0.8631\n",
      "Epoch 70/100\n",
      "14/14 [==============================] - 22s 2s/step - loss: 0.3736 - acc: 0.8445\n",
      "Epoch 71/100\n",
      "14/14 [==============================] - 22s 2s/step - loss: 0.5009 - acc: 0.8028\n",
      "Epoch 72/100\n",
      "14/14 [==============================] - 22s 2s/step - loss: 0.5026 - acc: 0.8237\n",
      "Epoch 73/100\n",
      "14/14 [==============================] - 22s 2s/step - loss: 0.4330 - acc: 0.8306\n",
      "Epoch 74/100\n",
      "14/14 [==============================] - 22s 2s/step - loss: 0.3870 - acc: 0.8260\n",
      "Epoch 75/100\n",
      "14/14 [==============================] - 22s 2s/step - loss: 0.4293 - acc: 0.8561\n",
      "Epoch 76/100\n",
      "14/14 [==============================] - 22s 2s/step - loss: 0.3827 - acc: 0.8469\n",
      "Epoch 77/100\n",
      "14/14 [==============================] - 22s 2s/step - loss: 0.3875 - acc: 0.8492\n",
      "Epoch 78/100\n",
      "14/14 [==============================] - 22s 2s/step - loss: 0.3552 - acc: 0.8353\n",
      "Epoch 79/100\n",
      "14/14 [==============================] - 22s 2s/step - loss: 0.3132 - acc: 0.8677\n",
      "Epoch 80/100\n",
      "14/14 [==============================] - 22s 2s/step - loss: 0.3924 - acc: 0.8445\n",
      "Epoch 81/100\n",
      "14/14 [==============================] - 22s 2s/step - loss: 0.4017 - acc: 0.8469\n",
      "Epoch 82/100\n",
      "14/14 [==============================] - 22s 2s/step - loss: 0.3353 - acc: 0.8585\n",
      "Epoch 83/100\n",
      "14/14 [==============================] - 22s 2s/step - loss: 0.3226 - acc: 0.8608\n",
      "Epoch 84/100\n",
      "14/14 [==============================] - 22s 2s/step - loss: 0.2955 - acc: 0.8910\n",
      "Epoch 85/100\n",
      "14/14 [==============================] - 22s 2s/step - loss: 0.3027 - acc: 0.8724\n",
      "Epoch 86/100\n",
      "14/14 [==============================] - 23s 2s/step - loss: 0.2623 - acc: 0.8979\n",
      "Epoch 87/100\n",
      "14/14 [==============================] - 23s 2s/step - loss: 0.3474 - acc: 0.8677\n",
      "Epoch 88/100\n",
      "14/14 [==============================] - 22s 2s/step - loss: 0.2826 - acc: 0.8863\n",
      "Epoch 89/100\n",
      "14/14 [==============================] - 22s 2s/step - loss: 0.3097 - acc: 0.8933\n",
      "Epoch 90/100\n",
      "14/14 [==============================] - 22s 2s/step - loss: 0.3110 - acc: 0.8701\n",
      "Epoch 91/100\n",
      "14/14 [==============================] - 23s 2s/step - loss: 0.2926 - acc: 0.8840\n",
      "Epoch 92/100\n",
      "14/14 [==============================] - 22s 2s/step - loss: 0.3159 - acc: 0.8561\n",
      "Epoch 93/100\n",
      "14/14 [==============================] - 22s 2s/step - loss: 0.2714 - acc: 0.8794\n",
      "Epoch 94/100\n",
      "14/14 [==============================] - 22s 2s/step - loss: 0.3052 - acc: 0.8747\n",
      "Epoch 95/100\n",
      "14/14 [==============================] - 22s 2s/step - loss: 0.2801 - acc: 0.8794\n",
      "Epoch 96/100\n",
      "14/14 [==============================] - 22s 2s/step - loss: 0.3071 - acc: 0.8631\n",
      "Epoch 97/100\n",
      "14/14 [==============================] - 22s 2s/step - loss: 0.2619 - acc: 0.8910\n",
      "Epoch 98/100\n",
      "14/14 [==============================] - 22s 2s/step - loss: 0.2394 - acc: 0.9142\n",
      "Epoch 99/100\n",
      "14/14 [==============================] - 23s 2s/step - loss: 0.2545 - acc: 0.8794\n",
      "Epoch 100/100\n",
      "14/14 [==============================] - 22s 2s/step - loss: 0.2324 - acc: 0.9165\n"
     ]
    },
    {
     "data": {
      "image/png": "[encoded data removed]",
      "text/plain": [
       "<Figure size 432x288 with 1 Axes>"
      ]
     },
     "metadata": {
      "needs_background": "light"
     },
     "output_type": "display_data"
    },
    {
     "data": {
      "image/png": "[encoded data removed]",
      "text/plain": [
       "<Figure size 432x288 with 1 Axes>"
      ]
     },
     "metadata": {
      "needs_background": "light"
     },
     "output_type": "display_data"
    },
    {
     "name": "stdout",
     "output_type": "stream",
     "text": [
      "4/4 [==============================] - 2s 463ms/step - loss: 1.6181 - acc: 0.6827\n",
      "n Test_Accuracy:- 0.6826923\n",
      "              precision    recall  f1-score   support\n",
      "\n",
      "           0       1.00      1.00      1.00        13\n",
      "           1       1.00      1.00      1.00        11\n",
      "           2       1.00      1.00      1.00        10\n",
      "           3       1.00      1.00      1.00        27\n",
      "           4       1.00      1.00      1.00         6\n",
      "           5       1.00      1.00      1.00        16\n",
      "           6       1.00      1.00      1.00        21\n",
      "\n",
      "    accuracy                           1.00       104\n",
      "   macro avg       1.00      1.00      1.00       104\n",
      "weighted avg       1.00      1.00      1.00       104\n",
      "\n",
      "confusion matrix\n",
      "[[13  0  0  0  0  0  0]\n",
      " [ 0 11  0  0  0  0  0]\n",
      " [ 0  0 10  0  0  0  0]\n",
      " [ 0  0  0 27  0  0  0]\n",
      " [ 0  0  0  0  6  0  0]\n",
      " [ 0  0  0  0  0 16  0]\n",
      " [ 0  0  0  0  0  0 21]]\n"
     ]
    },
    {
     "data": {
      "image/png": "[encoded data removed]",
      "text/plain": [
       "<Figure size 576x360 with 2 Axes>"
      ]
     },
     "metadata": {
      "needs_background": "light"
     },
     "output_type": "display_data"
    }
   ],
   "source": [
    "import numpy as np\n",
    "import matplotlib.pyplot as plt\n",
    "%matplotlib inline\n",
    "from tensorflow.keras.preprocessing.image import ImageDataGenerator\n",
    "import tensorflow as tf\n",
    "from sklearn.metrics import confusion_matrix\n",
    "import seaborn as sns\n",
    "from keras.preprocessing import image\n",
    "from tensorflow.keras.models import load_model\n",
    "from keras.layers import BatchNormalization\n",
    "from sklearn.metrics import classification_report\n",
    "import sklearn.metrics\n",
    "print('IUGET EMODB CNN ON MFCCgrams!')\n",
    "from tensorflow.keras.constraints import unit_norm\n",
    "from tensorflow.keras import layers\n",
    "from tensorflow.keras import regularizers\n",
    "\n",
    "#RavdessBySpectrogram_PATH=\"C:/Users/fijitsu/Documents/A-LABORATORY-PYTHON/DATABASEInThe_STATEofTheART/RAVDESS_by_Spectro/\"\n",
    "#path_dir = RavdessBySpectrogram_PATH\n",
    "RavdessByMFCCgram_PATH_IUGET=\"C:/Users/INSIDE BINARIES/Documents/LABO_PYTHON/DATASET/EmoDB_by_MFCC/\"\n",
    "path_dir = RavdessByMFCCgram_PATH_IUGET\n",
    "\n",
    "datagen = ImageDataGenerator(\n",
    "                    rescale=1./255,\n",
    "                    validation_split = 0.2)\n",
    "train_generator = datagen.flow_from_directory(\n",
    "    path_dir,\n",
    "    target_size=(1080,216),\n",
    "    shuffle=True,\n",
    "    subset='training'\n",
    ")\n",
    "validation_generator = datagen.flow_from_directory(\n",
    "    path_dir,\n",
    "    target_size=(1080,216),\n",
    "    subset='validation'\n",
    ")\n",
    "\n",
    "IMAGE_HEIGHT=216\n",
    "IMAGE_WIDTH=1080\n",
    "N_CHANNELS=3\n",
    "N_CLASSES=7\n",
    "# Create CNN model\n",
    "model = tf.keras.models.Sequential()\n",
    "model.add(tf.keras.layers.Input(shape=(IMAGE_WIDTH, IMAGE_HEIGHT, N_CHANNELS)))\n",
    "model.add(tf.keras.layers.Conv2D(32, 3, strides=2, padding='same', activation='relu'))\n",
    "#model.add(tf.keras.layers.BatchNormalization())\n",
    "model.add(tf.keras.layers.MaxPooling2D(pool_size=(2, 2)))\n",
    "#model.add(tf.keras.layers.BatchNormalization())\n",
    "model.add(tf.keras.layers.Conv2D(64, 3, padding='same', activation='relu'))\n",
    "#model.add(tf.keras.layers.BatchNormalization())\n",
    "model.add(tf.keras.layers.MaxPooling2D(pool_size=(2, 2)))\n",
    "#model.add(tf.keras.layers.BatchNormalization())\n",
    "model.add(tf.keras.layers.Conv2D(128, 3, padding='same', activation='relu'))\n",
    "#model.add(tf.keras.layers.BatchNormalization())\n",
    "model.add(tf.keras.layers.MaxPooling2D(pool_size=(2, 2)))\n",
    "#model.add(tf.keras.layers.BatchNormalization())\n",
    "model.add(tf.keras.layers.Flatten())\n",
    "model.add(tf.keras.layers.Dense(256, activation='relu'))\n",
    "#model.add(tf.keras.layers.BatchNormalization())\n",
    "model.add(tf.keras.layers.Dropout(0.5))\n",
    "model.add(tf.keras.layers.Dense(N_CLASSES, activation='softmax'))\n",
    "\n",
    "# Compile model\n",
    "#model.compile(\n",
    "#    loss='sparse_categorical_crossentropy',\n",
    "#   optimizer=tf.keras.optimizers.RMSprop(),\n",
    "#    metrics=['accuracy'],\n",
    "#)\n",
    "\n",
    "# Train model for 10 epochs, capture the history\n",
    "#history_cnn = model.fit(train_generator, epochs=10, validation_data=validation_generator)\n",
    "\n",
    "\n",
    "##FINISH MODIFICATION\n",
    "model.summary()\n",
    "model.compile(loss='categorical_crossentropy', optimizer='adam', metrics=['accuracy'])\n",
    "history_cnn = model.fit(train_generator,batch_size=32,epochs=100)\n",
    "model.save('80K_CNNmodelUsingEMODB_MFCC_IUGET.h5')\n",
    "yhat = model.predict(train_generator)\n",
    "\n",
    "\n",
    "import matplotlib.pyplot as plt\n",
    "\n",
    "loss_curve = history_cnn.history[\"loss\"]\n",
    "acc_curve = history_cnn.history[\"acc\"]\n",
    "\n",
    "#loss_val_curve = history.history[\"val_loss\"]\n",
    "#acc_val_curve = history.history[\"val_accuracy\"]\n",
    "\n",
    "plt.plot(loss_curve, label=\"cnn_loss\",  marker=11)\n",
    "\n",
    "plt.legend(loc=\"upper left\")\n",
    "plt.title(\"loss\")\n",
    "plt.savefig('acc_loss.png')\n",
    "plt.show()\n",
    "\n",
    "plt.plot(acc_curve, label=\"cnn_acc\",  marker=11)\n",
    "\n",
    "plt.legend(loc=\"upper left\")\n",
    "plt.title(\"Accuracy\")\n",
    "plt.savefig('acc_cnn.png')\n",
    "plt.show()\n",
    "\n",
    "accuracy = model.evaluate(validation_generator)\n",
    "print('n', 'Test_Accuracy:-', accuracy[1])\n",
    "pred = model.predict(validation_generator)\n",
    "y_pred = np.argmax(pred, axis=1)\n",
    "y_true = np.argmax(pred, axis=1)\n",
    "print(classification_report(y_true, y_pred, labels=[0,1, 2,3,4,5,6]))  #Car sur RAVDESS il ya 8 emotions\n",
    "print('confusion matrix')\n",
    "print(confusion_matrix(y_true, y_pred))\n",
    "    #confusion matrix\n",
    "f, ax = plt.subplots(figsize=(8,5))\n",
    "sns.heatmap(confusion_matrix(y_true, y_pred), annot=True, fmt=\".0f\", ax=ax)\n",
    "plt.xlabel(\"y_pred\")\n",
    "plt.ylabel(\"y_true\")\n",
    "plt.show()"
   ]
  },
  {
   "cell_type": "code",
   "execution_count": null,
   "metadata": {},
   "outputs": [],
   "source": []
  },
  {
   "cell_type": "code",
   "execution_count": null,
   "metadata": {},
   "outputs": [],
   "source": []
  },
  {
   "cell_type": "code",
   "execution_count": null,
   "metadata": {},
   "outputs": [],
   "source": [
    "#Fonction pour Encoder un fichier Audio en Spectrogramme"
   ]
  },
  {
   "cell_type": "code",
   "execution_count": null,
   "metadata": {},
   "outputs": [],
   "source": []
  },
  {
   "cell_type": "code",
   "execution_count": 25,
   "metadata": {},
   "outputs": [],
   "source": [
    "#Fonction qui prend en entrée un spectrogramme et donne en sortie une émotion\n",
    "import tensorflow as tf\n",
    "#Dictionnaires d'émotions\n",
    "Emotions_Dictionary={0:'Neutral',1:'Calm',2:'Happy',3:'Sad',4:'Angry',5:'Fearful',6:'Disgust',7:'Surpise'}\n",
    "def EmotionsPredictionFormSpectrogrammee(SpectrogramUtteranceFolder):\n",
    "    #Charger les SpectroGramme des prises de paroles (classés par ordre chrnologique_alphanumérique dans le repertoire)\n",
    "    path_dir = SpectrogramUtteranceFolder\n",
    "    PrisesDeParole_datagen = ImageDataGenerator(\n",
    "                    rescale=1./255)\n",
    "    PrisesDeParole_generator = PrisesDeParole_datagen.flow_from_directory(\n",
    "    path_dir,\n",
    "    target_size=(1080,216),\n",
    "    shuffle=False)\n",
    "    \n",
    "    #charger le model pré entrainé\n",
    "    #Pretrained_Model_PATH='C:/Users/fijitsu/Documents/A-LABORATORY-PYTHON/PretrainedCnnModel/model_4.h5'\n",
    "    #MyPretrained_Model = tf.keras.models.load_model('MyPretrainedModel')\n",
    "    MyPretrained_Model=model\n",
    "    \n",
    "    #Prediction des emotions\n",
    "    pred = MyPretrained_Model.predict(PrisesDeParole_generator)\n",
    "    y_pred = np.argmax(pred, axis=1)\n",
    "    #Display result\n",
    "    print(y_pred)\n",
    "    return y_pred\n",
    "\n",
    "    "
   ]
  },
  {
   "cell_type": "code",
   "execution_count": 29,
   "metadata": {},
   "outputs": [
    {
     "name": "stdout",
     "output_type": "stream",
     "text": [
      "Found 400 images belonging to 1 classes.\n",
      "[6 3 1 6 1 3 3 3 1 3 6 1 1 3 3 1 6 1 1 6 6 1 6 6 3 6 1 3 1 1 3 1 1 3 3 6 3\n",
      " 6 3 6 3 3 3 1 3 3 3 1 3 3 3 3 3 3 3 3 3 3 3 3 6 3 2 6 3 3 3 6 3 3 3 3 3 6\n",
      " 6 6 3 3 6 3 3 3 3 3 3 3 2 3 3 3 3 1 6 6 1 6 6 6 1 3 3 3 6 6 6 1 1 3 3 1 2\n",
      " 3 3 6 3 3 3 3 3 3 3 3 3 6 3 3 3 3 3 5 3 3 5 3 3 3 3 3 3 3 3 3 3 3 3 6 3 3\n",
      " 3 3 3 3 3 3 3 3 3 5 3 3 3 3 3 3 2 3 3 3 3 3 3 3 3 3 5 3 3 3 6 3 3 3 5 3 3\n",
      " 3 7 3 3 6 3 3 3 3 3 3 3 3 3 3 3 3 3 3 3 3 2 3 3 3 3 6 3 3 3 3 3 3 3 3 3 3\n",
      " 6 3 3 3 3 3 3 3 3 3 3 3 3 3 3 3 3 3 3 3 3 3 3 6 3 3 3 3 1 3 3 3 3 3 3 3 3\n",
      " 3 3 3 2 3 6 3 3 6 3 3 3 3 3 3 5 3 3 3 3 3 3 3 3 3 3 3 3 5 3 1 5 3 3 3 3 3\n",
      " 3 3 3 3 3 3 5 3 3 3 3 5 3 3 3 3 3 3 3 3 3 3 3 3 3 2 3 3 3 3 3 3 3 3 5 3 3\n",
      " 6 3 3 3 3 3 3 6 6 6 6 2 6 6 3 1 6 1 3 3 3 3 3 6 6 3 2 3 3 3 3 6 6 3 6 6 6\n",
      " 6 3 3 6 6 6 6 6 6 6 6 3 3 3 3 3 6 1 1 3 1 3 3 6 2 1 3 6 6 3]\n",
      "les émotions contenus dans les prises de parole: ['Disgust', 'Sad', 'Calm', 'Disgust', 'Calm', 'Sad', 'Sad', 'Sad', 'Calm', 'Sad', 'Disgust', 'Calm', 'Calm', 'Sad', 'Sad', 'Calm', 'Disgust', 'Calm', 'Calm', 'Disgust', 'Disgust', 'Calm', 'Disgust', 'Disgust', 'Sad', 'Disgust', 'Calm', 'Sad', 'Calm', 'Calm', 'Sad', 'Calm', 'Calm', 'Sad', 'Sad', 'Disgust', 'Sad', 'Disgust', 'Sad', 'Disgust', 'Sad', 'Sad', 'Sad', 'Calm', 'Sad', 'Sad', 'Sad', 'Calm', 'Sad', 'Sad', 'Sad', 'Sad', 'Sad', 'Sad', 'Sad', 'Sad', 'Sad', 'Sad', 'Sad', 'Sad', 'Disgust', 'Sad', 'Happy', 'Disgust', 'Sad', 'Sad', 'Sad', 'Disgust', 'Sad', 'Sad', 'Sad', 'Sad', 'Sad', 'Disgust', 'Disgust', 'Disgust', 'Sad', 'Sad', 'Disgust', 'Sad', 'Sad', 'Sad', 'Sad', 'Sad', 'Sad', 'Sad', 'Happy', 'Sad', 'Sad', 'Sad', 'Sad', 'Calm', 'Disgust', 'Disgust', 'Calm', 'Disgust', 'Disgust', 'Disgust', 'Calm', 'Sad', 'Sad', 'Sad', 'Disgust', 'Disgust', 'Disgust', 'Calm', 'Calm', 'Sad', 'Sad', 'Calm', 'Happy', 'Sad', 'Sad', 'Disgust', 'Sad', 'Sad', 'Sad', 'Sad', 'Sad', 'Sad', 'Sad', 'Sad', 'Sad', 'Disgust', 'Sad', 'Sad', 'Sad', 'Sad', 'Sad', 'Fearful', 'Sad', 'Sad', 'Fearful', 'Sad', 'Sad', 'Sad', 'Sad', 'Sad', 'Sad', 'Sad', 'Sad', 'Sad', 'Sad', 'Sad', 'Sad', 'Disgust', 'Sad', 'Sad', 'Sad', 'Sad', 'Sad', 'Sad', 'Sad', 'Sad', 'Sad', 'Sad', 'Sad', 'Fearful', 'Sad', 'Sad', 'Sad', 'Sad', 'Sad', 'Sad', 'Happy', 'Sad', 'Sad', 'Sad', 'Sad', 'Sad', 'Sad', 'Sad', 'Sad', 'Sad', 'Fearful', 'Sad', 'Sad', 'Sad', 'Disgust', 'Sad', 'Sad', 'Sad', 'Fearful', 'Sad', 'Sad', 'Sad', 'Surpise', 'Sad', 'Sad', 'Disgust', 'Sad', 'Sad', 'Sad', 'Sad', 'Sad', 'Sad', 'Sad', 'Sad', 'Sad', 'Sad', 'Sad', 'Sad', 'Sad', 'Sad', 'Sad', 'Sad', 'Happy', 'Sad', 'Sad', 'Sad', 'Sad', 'Disgust', 'Sad', 'Sad', 'Sad', 'Sad', 'Sad', 'Sad', 'Sad', 'Sad', 'Sad', 'Sad', 'Disgust', 'Sad', 'Sad', 'Sad', 'Sad', 'Sad', 'Sad', 'Sad', 'Sad', 'Sad', 'Sad', 'Sad', 'Sad', 'Sad', 'Sad', 'Sad', 'Sad', 'Sad', 'Sad', 'Sad', 'Sad', 'Sad', 'Sad', 'Disgust', 'Sad', 'Sad', 'Sad', 'Sad', 'Calm', 'Sad', 'Sad', 'Sad', 'Sad', 'Sad', 'Sad', 'Sad', 'Sad', 'Sad', 'Sad', 'Sad', 'Happy', 'Sad', 'Disgust', 'Sad', 'Sad', 'Disgust', 'Sad', 'Sad', 'Sad', 'Sad', 'Sad', 'Sad', 'Fearful', 'Sad', 'Sad', 'Sad', 'Sad', 'Sad', 'Sad', 'Sad', 'Sad', 'Sad', 'Sad', 'Sad', 'Sad', 'Fearful', 'Sad', 'Calm', 'Fearful', 'Sad', 'Sad', 'Sad', 'Sad', 'Sad', 'Sad', 'Sad', 'Sad', 'Sad', 'Sad', 'Sad', 'Fearful', 'Sad', 'Sad', 'Sad', 'Sad', 'Fearful', 'Sad', 'Sad', 'Sad', 'Sad', 'Sad', 'Sad', 'Sad', 'Sad', 'Sad', 'Sad', 'Sad', 'Sad', 'Sad', 'Happy', 'Sad', 'Sad', 'Sad', 'Sad', 'Sad', 'Sad', 'Sad', 'Sad', 'Fearful', 'Sad', 'Sad', 'Disgust', 'Sad', 'Sad', 'Sad', 'Sad', 'Sad', 'Sad', 'Disgust', 'Disgust', 'Disgust', 'Disgust', 'Happy', 'Disgust', 'Disgust', 'Sad', 'Calm', 'Disgust', 'Calm', 'Sad', 'Sad', 'Sad', 'Sad', 'Sad', 'Disgust', 'Disgust', 'Sad', 'Happy', 'Sad', 'Sad', 'Sad', 'Sad', 'Disgust', 'Disgust', 'Sad', 'Disgust', 'Disgust', 'Disgust', 'Disgust', 'Sad', 'Sad', 'Disgust', 'Disgust', 'Disgust', 'Disgust', 'Disgust', 'Disgust', 'Disgust', 'Disgust', 'Sad', 'Sad', 'Sad', 'Sad', 'Sad', 'Disgust', 'Calm', 'Calm', 'Sad', 'Calm', 'Sad', 'Sad', 'Disgust', 'Happy', 'Calm', 'Sad', 'Disgust', 'Disgust', 'Sad']\n"
     ]
    }
   ],
   "source": [
    "##Testons voir\n",
    "##SpectrogramUtteranceFolder='./SpectrogrammeLocuteurX/'\n",
    "\n",
    "#SpectrogramUtteranceFolder=RavdessBySpectrogram_PATH+''\n",
    "SpectrogramUtteranceFolder=\"C:/Users/INSIDE BINARIES/Documents/LABO_PYTHON/DATASET/PredictionMFCC/\"\n",
    "PredictedEmotions_labels=EmotionsPredictionFormSpectrogrammee(SpectrogramUtteranceFolder)\n",
    "print('les émotions contenus dans les prises de parole:',[Emotions_Dictionary[ii] for ii in PredictedEmotions_labels])\n"
   ]
  },
  {
   "cell_type": "code",
   "execution_count": 34,
   "metadata": {},
   "outputs": [
    {
     "name": "stdout",
     "output_type": "stream",
     "text": [
      "16.25\n"
     ]
    }
   ],
   "source": [
    "print(list(PredictedEmotions_labels).count(6)*100 / len(list(PredictedEmotions_labels)))\n"
   ]
  },
  {
   "cell_type": "code",
   "execution_count": 36,
   "metadata": {},
   "outputs": [
    {
     "name": "stdout",
     "output_type": "stream",
     "text": [
      "Found 11 images belonging to 4 classes.\n",
      "[0 0 0 0 1 1 5 5 5 5 6]\n"
     ]
    }
   ],
   "source": [
    "\n",
    "#yhat = model.predict(train_generator)\n",
    "\n",
    "path_dir = './SpectrogrammeLocuteurX/'\n",
    "\n",
    "PrisesDeParole_datagen = ImageDataGenerator(\n",
    "                    rescale=1./255)\n",
    "PrisesDeParole_generator = datagen.flow_from_directory(\n",
    "    path_dir,\n",
    "    target_size=(350,350),\n",
    "    shuffle=False\n",
    ")\n",
    "\n",
    "\n",
    "pred = model.predict(PrisesDeParole_generator)\n",
    "y_pred = np.argmax(pred, axis=1)\n",
    "print(y_pred)\n"
   ]
  },
  {
   "cell_type": "code",
   "execution_count": null,
   "metadata": {},
   "outputs": [],
   "source": []
  },
  {
   "cell_type": "code",
   "execution_count": 53,
   "metadata": {},
   "outputs": [
    {
     "name": "stdout",
     "output_type": "stream",
     "text": [
      "1440\n",
      "181.625\n",
      "180.0\n"
     ]
    }
   ],
   "source": [
    "\n",
    "print(7*24*2*2*2+1*24*2*2)\n",
    "print((187+201+203+192+191+96+191+192)/8)\n",
    "print((7*192+96)/8)"
   ]
  },
  {
   "cell_type": "code",
   "execution_count": 51,
   "metadata": {},
   "outputs": [
    {
     "name": "stdout",
     "output_type": "stream",
     "text": [
      "96\n"
     ]
    }
   ],
   "source": [
    "print(1*24*1*2*2)"
   ]
  },
  {
   "cell_type": "code",
   "execution_count": 52,
   "metadata": {},
   "outputs": [
    {
     "name": "stdout",
     "output_type": "stream",
     "text": [
      "192\n"
     ]
    }
   ],
   "source": [
    "print(24*2*2*2)"
   ]
  },
  {
   "cell_type": "code",
   "execution_count": null,
   "metadata": {},
   "outputs": [],
   "source": []
  },
  {
   "cell_type": "code",
   "execution_count": null,
   "metadata": {},
   "outputs": [],
   "source": []
  },
  {
   "cell_type": "code",
   "execution_count": null,
   "metadata": {},
   "outputs": [],
   "source": []
  },
  {
   "cell_type": "code",
   "execution_count": null,
   "metadata": {},
   "outputs": [],
   "source": []
  },
  {
   "cell_type": "code",
   "execution_count": 15,
   "metadata": {},
   "outputs": [
    {
     "data": {
      "image/png": "[encoded data removed]",
      "text/plain": [
       "<Figure size 432x288 with 1 Axes>"
      ]
     },
     "metadata": {
      "needs_background": "light"
     },
     "output_type": "display_data"
    },
    {
     "data": {
      "image/png": "[encoded data removed]",
      "text/plain": [
       "<Figure size 432x288 with 1 Axes>"
      ]
     },
     "metadata": {
      "needs_background": "light"
     },
     "output_type": "display_data"
    },
    {
     "name": "stdout",
     "output_type": "stream",
     "text": [
      "14/14 [==============================] - 10s 687ms/step - loss: 16.9899 - acc: 0.1218\n",
      "n Test_Accuracy:- 0.12177986\n",
      "              precision    recall  f1-score   support\n",
      "\n",
      "           0       1.00      1.00      1.00         3\n",
      "           1       1.00      1.00      1.00        14\n",
      "           2       0.00      0.00      0.00         0\n",
      "           3       1.00      1.00      1.00        97\n",
      "           4       0.00      0.00      0.00         0\n",
      "           5       1.00      1.00      1.00         1\n",
      "           6       1.00      1.00      1.00       312\n",
      "           7       0.00      0.00      0.00         0\n",
      "\n",
      "   micro avg       1.00      1.00      1.00       427\n",
      "   macro avg       0.62      0.62      0.62       427\n",
      "weighted avg       1.00      1.00      1.00       427\n",
      "\n",
      "confusion matrix\n",
      "[[  3   0   0   0   0]\n",
      " [  0  14   0   0   0]\n",
      " [  0   0  97   0   0]\n",
      " [  0   0   0   1   0]\n",
      " [  0   0   0   0 312]]\n"
     ]
    },
    {
     "data": {
      "image/png": "[encoded data removed]",
      "text/plain": [
       "<Figure size 576x360 with 2 Axes>"
      ]
     },
     "metadata": {
      "needs_background": "light"
     },
     "output_type": "display_data"
    }
   ],
   "source": [
    "model.save('K_CNNmodelUsingRAVDESSDataSet.h5')\n",
    "yhat = model.predict(train_generator)\n",
    "\n",
    "\n",
    "import matplotlib.pyplot as plt\n",
    "\n",
    "loss_curve = history_cnn.history[\"loss\"]\n",
    "acc_curve = history_cnn.history[\"acc\"]\n",
    "\n",
    "#loss_val_curve = history.history[\"val_loss\"]\n",
    "#acc_val_curve = history.history[\"val_accuracy\"]\n",
    "\n",
    "plt.plot(loss_curve, label=\"cnn_loss\",  marker=11)\n",
    "\n",
    "plt.legend(loc=\"upper left\")\n",
    "plt.title(\"loss\")\n",
    "plt.savefig('acc_loss.png')\n",
    "plt.show()\n",
    "\n",
    "plt.plot(acc_curve, label=\"cnn_acc\",  marker=11)\n",
    "\n",
    "plt.legend(loc=\"upper left\")\n",
    "plt.title(\"Accuracy\")\n",
    "plt.savefig('acc_cnn.png')\n",
    "plt.show()\n",
    "\n",
    "accuracy = model.evaluate(validation_generator)\n",
    "print('n', 'Test_Accuracy:-', accuracy[1])\n",
    "pred = model.predict(validation_generator)\n",
    "y_pred = np.argmax(pred, axis=1)\n",
    "y_true = np.argmax(pred, axis=1)\n",
    "print(classification_report(y_true, y_pred, labels=[0,1, 2,3,4,5,6,7]))  #Car sur RAVDESS il ya 8 emotions\n",
    "print('confusion matrix')\n",
    "print(confusion_matrix(y_true, y_pred))\n",
    "    #confusion matrix\n",
    "f, ax = plt.subplots(figsize=(8,5))\n",
    "sns.heatmap(confusion_matrix(y_true, y_pred), annot=True, fmt=\".0f\", ax=ax)\n",
    "plt.xlabel(\"y_pred\")\n",
    "plt.ylabel(\"y_true\")\n",
    "plt.show()"
   ]
  },
  {
   "cell_type": "code",
   "execution_count": 25,
   "metadata": {},
   "outputs": [
    {
     "name": "stdout",
     "output_type": "stream",
     "text": [
      "32/32 [==============================] - 24s 740ms/step - loss: 3.7440 - acc: 0.2616\n",
      "n Test_Accuracy:- 0.2615992\n"
     ]
    }
   ],
   "source": [
    "datagen = ImageDataGenerator(\n",
    "                    rescale=1./255,\n",
    "                    validation_split = 0.3)\n",
    "train_generator = datagen.flow_from_directory(\n",
    "    path_dir,\n",
    "    target_size=(350,350),\n",
    "    shuffle=True,\n",
    "    subset='training'\n",
    ")\n",
    "validation_generator = datagen.flow_from_directory(\n",
    "    path_dir,\n",
    "    target_size=(350,350),\n",
    "    subset='validation'\n",
    ")\n"
   ]
  },
  {
   "cell_type": "code",
   "execution_count": 38,
   "metadata": {},
   "outputs": [
    {
     "name": "stdout",
     "output_type": "stream",
     "text": [
      "32/32 [==============================] - 12s 383ms/step - loss: 0.0026 - acc: 1.0000\n",
      "n Test_Accuracy:- 1.0\n"
     ]
    }
   ],
   "source": [
    "accuracy = model.evaluate(train_generator)\n",
    "print('n', 'Test_Accuracy:-', accuracy[1])\n"
   ]
  },
  {
   "cell_type": "code",
   "execution_count": 39,
   "metadata": {},
   "outputs": [
    {
     "name": "stdout",
     "output_type": "stream",
     "text": [
      "              precision    recall  f1-score   support\n",
      "\n",
      "           0       1.00      1.00      1.00        68\n",
      "           1       1.00      1.00      1.00       135\n",
      "           2       1.00      1.00      1.00       135\n",
      "           3       1.00      1.00      1.00       135\n",
      "           4       1.00      1.00      1.00       135\n",
      "           5       1.00      1.00      1.00       135\n",
      "           6       1.00      1.00      1.00       135\n",
      "           7       1.00      1.00      1.00       135\n",
      "\n",
      "    accuracy                           1.00      1013\n",
      "   macro avg       1.00      1.00      1.00      1013\n",
      "weighted avg       1.00      1.00      1.00      1013\n",
      "\n",
      "confusion matrix\n",
      "[[ 68   0   0   0   0   0   0   0]\n",
      " [  0 135   0   0   0   0   0   0]\n",
      " [  0   0 135   0   0   0   0   0]\n",
      " [  0   0   0 135   0   0   0   0]\n",
      " [  0   0   0   0 135   0   0   0]\n",
      " [  0   0   0   0   0 135   0   0]\n",
      " [  0   0   0   0   0   0 135   0]\n",
      " [  0   0   0   0   0   0   0 135]]\n"
     ]
    },
    {
     "data": {
      "image/png": "[encoded data removed]",
      "text/plain": [
       "<Figure size 576x360 with 2 Axes>"
      ]
     },
     "metadata": {
      "needs_background": "light"
     },
     "output_type": "display_data"
    }
   ],
   "source": [
    "pred = model.predict(train_generator)\n",
    "y_pred = np.argmax(pred, axis=1)\n",
    "y_true = np.argmax(pred, axis=1)\n",
    "print(classification_report(y_true, y_pred, labels=[0,1, 2,3,4,5,6,7]))  #Car sur RAVDESS il ya 8 emotions\n",
    "print('confusion matrix')\n",
    "print(confusion_matrix(y_true, y_pred))\n",
    "    #confusion matrix\n",
    "f, ax = plt.subplots(figsize=(8,5))\n",
    "sns.heatmap(confusion_matrix(y_true, y_pred), annot=True, fmt=\".0f\", ax=ax)\n",
    "plt.xlabel(\"y_pred\")\n",
    "plt.ylabel(\"y_true\")\n",
    "plt.show()"
   ]
  }
 ],
 "metadata": {
  "kernelspec": {
   "display_name": "Python 3",
   "language": "python",
   "name": "python3"
  },
  "language_info": {
   "codemirror_mode": {
    "name": "ipython",
    "version": 3
   },
   "file_extension": ".py",
   "mimetype": "text/x-python",
   "name": "python",
   "nbconvert_exporter": "python",
   "pygments_lexer": "ipython3",
   "version": "3.7.6"
  }
 },
 "nbformat": 4,
 "nbformat_minor": 5
}
