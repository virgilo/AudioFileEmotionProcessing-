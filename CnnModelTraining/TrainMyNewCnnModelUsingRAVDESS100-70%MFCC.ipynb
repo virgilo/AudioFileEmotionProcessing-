{
 "cells": [
  {
   "cell_type": "code",
   "execution_count": 2,
   "metadata": {
    "scrolled": true
   },
   "outputs": [
    {
     "name": "stdout",
     "output_type": "stream",
     "text": [
      "IUGET RAVDESS CNN ON MFCCgrams!\n",
      "Found 1013 images belonging to 8 classes.\n",
      "Found 427 images belonging to 8 classes.\n",
      "Model: \"sequential_1\"\n",
      "_________________________________________________________________\n",
      "Layer (type)                 Output Shape              Param #   \n",
      "=================================================================\n",
      "conv2d_3 (Conv2D)            (None, 540, 108, 32)      896       \n",
      "_________________________________________________________________\n",
      "max_pooling2d_3 (MaxPooling2 (None, 270, 54, 32)       0         \n",
      "_________________________________________________________________\n",
      "conv2d_4 (Conv2D)            (None, 270, 54, 64)       18496     \n",
      "_________________________________________________________________\n",
      "max_pooling2d_4 (MaxPooling2 (None, 135, 27, 64)       0         \n",
      "_________________________________________________________________\n",
      "conv2d_5 (Conv2D)            (None, 135, 27, 128)      73856     \n",
      "_________________________________________________________________\n",
      "max_pooling2d_5 (MaxPooling2 (None, 67, 13, 128)       0         \n",
      "_________________________________________________________________\n",
      "flatten_1 (Flatten)          (None, 111488)            0         \n",
      "_________________________________________________________________\n",
      "dense_2 (Dense)              (None, 256)               28541184  \n",
      "_________________________________________________________________\n",
      "dropout_1 (Dropout)          (None, 256)               0         \n",
      "_________________________________________________________________\n",
      "dense_3 (Dense)              (None, 8)                 2056      \n",
      "=================================================================\n",
      "Total params: 28,636,488\n",
      "Trainable params: 28,636,488\n",
      "Non-trainable params: 0\n",
      "_________________________________________________________________\n",
      "Epoch 1/100\n",
      "32/32 [==============================] - 55s 2s/step - loss: 2.6553 - acc: 0.1303\n",
      "Epoch 2/100\n",
      "32/32 [==============================] - 52s 2s/step - loss: 2.0706 - acc: 0.1649\n",
      "Epoch 3/100\n",
      "32/32 [==============================] - 52s 2s/step - loss: 2.0707 - acc: 0.1343\n",
      "Epoch 4/100\n",
      "32/32 [==============================] - 54s 2s/step - loss: 2.0615 - acc: 0.1560\n",
      "Epoch 5/100\n",
      "32/32 [==============================] - 54s 2s/step - loss: 2.0477 - acc: 0.1540\n",
      "Epoch 6/100\n",
      "32/32 [==============================] - 54s 2s/step - loss: 2.0326 - acc: 0.1866\n",
      "Epoch 7/100\n",
      "32/32 [==============================] - 54s 2s/step - loss: 1.9648 - acc: 0.2458\n",
      "Epoch 8/100\n",
      "32/32 [==============================] - 53s 2s/step - loss: 1.9075 - acc: 0.2833\n",
      "Epoch 9/100\n",
      "32/32 [==============================] - 53s 2s/step - loss: 1.8965 - acc: 0.2616\n",
      "Epoch 10/100\n",
      "32/32 [==============================] - 54s 2s/step - loss: 1.8400 - acc: 0.2883\n",
      "Epoch 11/100\n",
      "32/32 [==============================] - 55s 2s/step - loss: 1.7839 - acc: 0.3169\n",
      "Epoch 12/100\n",
      "32/32 [==============================] - 52s 2s/step - loss: 1.7568 - acc: 0.3475\n",
      "Epoch 13/100\n",
      "32/32 [==============================] - 51s 2s/step - loss: 1.6779 - acc: 0.3485\n",
      "Epoch 14/100\n",
      "32/32 [==============================] - 51s 2s/step - loss: 1.6094 - acc: 0.3929\n",
      "Epoch 15/100\n",
      "32/32 [==============================] - 52s 2s/step - loss: 1.6039 - acc: 0.3741\n",
      "Epoch 16/100\n",
      "32/32 [==============================] - 52s 2s/step - loss: 1.5758 - acc: 0.4038\n",
      "Epoch 17/100\n",
      "32/32 [==============================] - 52s 2s/step - loss: 1.5102 - acc: 0.4186\n",
      "Epoch 18/100\n",
      "32/32 [==============================] - 51s 2s/step - loss: 1.5233 - acc: 0.4156\n",
      "Epoch 19/100\n",
      "32/32 [==============================] - 51s 2s/step - loss: 1.4584 - acc: 0.4255\n",
      "Epoch 20/100\n",
      "32/32 [==============================] - 51s 2s/step - loss: 1.4823 - acc: 0.4205\n",
      "Epoch 21/100\n",
      "32/32 [==============================] - 52s 2s/step - loss: 1.4667 - acc: 0.4265\n",
      "Epoch 22/100\n",
      "32/32 [==============================] - 52s 2s/step - loss: 1.4028 - acc: 0.4758\n",
      "Epoch 23/100\n",
      "32/32 [==============================] - 51s 2s/step - loss: 1.3802 - acc: 0.4758\n",
      "Epoch 24/100\n",
      "32/32 [==============================] - 55s 2s/step - loss: 1.5962 - acc: 0.3998\n",
      "Epoch 25/100\n",
      "32/32 [==============================] - 52s 2s/step - loss: 1.4423 - acc: 0.4521\n",
      "Epoch 26/100\n",
      "32/32 [==============================] - 52s 2s/step - loss: 1.3965 - acc: 0.4610\n",
      "Epoch 27/100\n",
      "32/32 [==============================] - 53s 2s/step - loss: 1.3509 - acc: 0.4808\n",
      "Epoch 28/100\n",
      "32/32 [==============================] - 54s 2s/step - loss: 1.2676 - acc: 0.5222\n",
      "Epoch 29/100\n",
      "32/32 [==============================] - 54s 2s/step - loss: 1.2237 - acc: 0.5380\n",
      "Epoch 30/100\n",
      "32/32 [==============================] - 52s 2s/step - loss: 1.1825 - acc: 0.5637\n",
      "Epoch 31/100\n",
      "32/32 [==============================] - 52s 2s/step - loss: 1.1285 - acc: 0.5548\n",
      "Epoch 32/100\n",
      "32/32 [==============================] - 51s 2s/step - loss: 1.0747 - acc: 0.6051\n",
      "Epoch 33/100\n",
      "32/32 [==============================] - 51s 2s/step - loss: 1.0361 - acc: 0.6081\n",
      "Epoch 34/100\n",
      "32/32 [==============================] - 52s 2s/step - loss: 1.0139 - acc: 0.6278\n",
      "Epoch 35/100\n",
      "32/32 [==============================] - 51s 2s/step - loss: 0.9909 - acc: 0.6071\n",
      "Epoch 36/100\n",
      "32/32 [==============================] - 51s 2s/step - loss: 0.9003 - acc: 0.6703\n",
      "Epoch 37/100\n",
      "32/32 [==============================] - 51s 2s/step - loss: 0.9113 - acc: 0.6594\n",
      "Epoch 38/100\n",
      "32/32 [==============================] - 51s 2s/step - loss: 0.8458 - acc: 0.6624\n",
      "Epoch 39/100\n",
      "32/32 [==============================] - 51s 2s/step - loss: 0.8052 - acc: 0.7038\n",
      "Epoch 40/100\n",
      "32/32 [==============================] - 51s 2s/step - loss: 0.8165 - acc: 0.6940\n",
      "Epoch 41/100\n",
      "32/32 [==============================] - 52s 2s/step - loss: 0.7912 - acc: 0.7216\n",
      "Epoch 42/100\n",
      "32/32 [==============================] - 51s 2s/step - loss: 0.7023 - acc: 0.7463\n",
      "Epoch 43/100\n",
      "32/32 [==============================] - 51s 2s/step - loss: 0.7134 - acc: 0.7335\n",
      "Epoch 44/100\n",
      "32/32 [==============================] - 51s 2s/step - loss: 0.6738 - acc: 0.7680\n",
      "Epoch 45/100\n",
      "32/32 [==============================] - 51s 2s/step - loss: 0.6822 - acc: 0.7473\n",
      "Epoch 46/100\n",
      "32/32 [==============================] - 51s 2s/step - loss: 0.6365 - acc: 0.7641\n",
      "Epoch 47/100\n",
      "32/32 [==============================] - 51s 2s/step - loss: 0.6100 - acc: 0.7651\n",
      "Epoch 48/100\n",
      "32/32 [==============================] - 51s 2s/step - loss: 0.5901 - acc: 0.7838\n",
      "Epoch 49/100\n",
      "32/32 [==============================] - 51s 2s/step - loss: 0.5633 - acc: 0.7986\n",
      "Epoch 50/100\n",
      "32/32 [==============================] - 51s 2s/step - loss: 0.5773 - acc: 0.7976\n",
      "Epoch 51/100\n",
      "32/32 [==============================] - 51s 2s/step - loss: 0.5335 - acc: 0.8105\n",
      "Epoch 52/100\n",
      "32/32 [==============================] - 51s 2s/step - loss: 0.5279 - acc: 0.7838\n",
      "Epoch 53/100\n",
      "32/32 [==============================] - 51s 2s/step - loss: 0.4962 - acc: 0.8253\n",
      "Epoch 54/100\n",
      "32/32 [==============================] - 51s 2s/step - loss: 0.4491 - acc: 0.8332\n",
      "Epoch 55/100\n",
      "32/32 [==============================] - 51s 2s/step - loss: 0.5180 - acc: 0.8055\n",
      "Epoch 56/100\n",
      "32/32 [==============================] - 51s 2s/step - loss: 0.4247 - acc: 0.8480\n",
      "Epoch 57/100\n",
      "32/32 [==============================] - 51s 2s/step - loss: 0.4883 - acc: 0.8115\n",
      "Epoch 58/100\n",
      "32/32 [==============================] - 51s 2s/step - loss: 0.4364 - acc: 0.8312\n",
      "Epoch 59/100\n",
      "32/32 [==============================] - 52s 2s/step - loss: 0.3873 - acc: 0.8509\n",
      "Epoch 60/100\n",
      "32/32 [==============================] - 51s 2s/step - loss: 0.4360 - acc: 0.8381\n",
      "Epoch 61/100\n",
      "32/32 [==============================] - 51s 2s/step - loss: 0.4109 - acc: 0.8391\n",
      "Epoch 62/100\n",
      "32/32 [==============================] - 51s 2s/step - loss: 0.3862 - acc: 0.8500\n",
      "Epoch 63/100\n",
      "32/32 [==============================] - 51s 2s/step - loss: 0.3756 - acc: 0.8667\n",
      "Epoch 64/100\n",
      "32/32 [==============================] - 51s 2s/step - loss: 0.3547 - acc: 0.8578\n",
      "Epoch 65/100\n",
      "32/32 [==============================] - 51s 2s/step - loss: 0.3203 - acc: 0.8885\n",
      "Epoch 66/100\n",
      "32/32 [==============================] - 51s 2s/step - loss: 0.3160 - acc: 0.8875\n",
      "Epoch 67/100\n",
      "32/32 [==============================] - 51s 2s/step - loss: 0.3564 - acc: 0.8648\n",
      "Epoch 68/100\n"
     ]
    },
    {
     "name": "stdout",
     "output_type": "stream",
     "text": [
      "32/32 [==============================] - 51s 2s/step - loss: 0.3197 - acc: 0.8855\n",
      "Epoch 69/100\n",
      "32/32 [==============================] - 51s 2s/step - loss: 0.2686 - acc: 0.9023\n",
      "Epoch 70/100\n",
      "32/32 [==============================] - 51s 2s/step - loss: 0.2648 - acc: 0.8983\n",
      "Epoch 71/100\n",
      "32/32 [==============================] - 51s 2s/step - loss: 0.3529 - acc: 0.8648\n",
      "Epoch 72/100\n",
      "32/32 [==============================] - 51s 2s/step - loss: 0.3116 - acc: 0.8815\n",
      "Epoch 73/100\n",
      "32/32 [==============================] - 51s 2s/step - loss: 0.2846 - acc: 0.8983\n",
      "Epoch 74/100\n",
      "32/32 [==============================] - 51s 2s/step - loss: 0.2570 - acc: 0.9052\n",
      "Epoch 75/100\n",
      "32/32 [==============================] - 51s 2s/step - loss: 0.2513 - acc: 0.9072\n",
      "Epoch 76/100\n",
      "32/32 [==============================] - 51s 2s/step - loss: 0.2371 - acc: 0.9082\n",
      "Epoch 77/100\n",
      "32/32 [==============================] - 51s 2s/step - loss: 0.2940 - acc: 0.8944\n",
      "Epoch 78/100\n",
      "32/32 [==============================] - 51s 2s/step - loss: 0.2475 - acc: 0.9102\n",
      "Epoch 79/100\n",
      "32/32 [==============================] - 51s 2s/step - loss: 0.3480 - acc: 0.8756\n",
      "Epoch 80/100\n",
      "32/32 [==============================] - 51s 2s/step - loss: 0.2640 - acc: 0.9102\n",
      "Epoch 81/100\n",
      "32/32 [==============================] - 51s 2s/step - loss: 0.2634 - acc: 0.9042\n",
      "Epoch 82/100\n",
      "32/32 [==============================] - 51s 2s/step - loss: 0.2829 - acc: 0.8954\n",
      "Epoch 83/100\n",
      "32/32 [==============================] - 51s 2s/step - loss: 0.2512 - acc: 0.9003\n",
      "Epoch 84/100\n",
      "32/32 [==============================] - 51s 2s/step - loss: 0.2159 - acc: 0.9250\n",
      "Epoch 85/100\n",
      "32/32 [==============================] - 51s 2s/step - loss: 0.2262 - acc: 0.9181\n",
      "Epoch 86/100\n",
      "32/32 [==============================] - 51s 2s/step - loss: 0.2322 - acc: 0.9161\n",
      "Epoch 87/100\n",
      "32/32 [==============================] - 51s 2s/step - loss: 0.2405 - acc: 0.9042\n",
      "Epoch 88/100\n",
      "32/32 [==============================] - 51s 2s/step - loss: 0.2263 - acc: 0.9151\n",
      "Epoch 89/100\n",
      "32/32 [==============================] - 51s 2s/step - loss: 0.2339 - acc: 0.9151\n",
      "Epoch 90/100\n",
      "32/32 [==============================] - 51s 2s/step - loss: 0.2034 - acc: 0.9250\n",
      "Epoch 91/100\n",
      "32/32 [==============================] - 51s 2s/step - loss: 0.2370 - acc: 0.9171\n",
      "Epoch 92/100\n",
      "32/32 [==============================] - 51s 2s/step - loss: 0.2316 - acc: 0.9161\n",
      "Epoch 93/100\n",
      "32/32 [==============================] - 51s 2s/step - loss: 0.2390 - acc: 0.9141\n",
      "Epoch 94/100\n",
      "32/32 [==============================] - 51s 2s/step - loss: 0.1848 - acc: 0.9299\n",
      "Epoch 95/100\n",
      "32/32 [==============================] - 51s 2s/step - loss: 0.2096 - acc: 0.9269\n",
      "Epoch 96/100\n",
      "32/32 [==============================] - 51s 2s/step - loss: 0.1746 - acc: 0.9299\n",
      "Epoch 97/100\n",
      "32/32 [==============================] - 51s 2s/step - loss: 0.2078 - acc: 0.9191\n",
      "Epoch 98/100\n",
      "32/32 [==============================] - 51s 2s/step - loss: 0.1975 - acc: 0.9279\n",
      "Epoch 99/100\n",
      "32/32 [==============================] - 52s 2s/step - loss: 0.1930 - acc: 0.9269\n",
      "Epoch 100/100\n",
      "32/32 [==============================] - 51s 2s/step - loss: 0.1811 - acc: 0.9309\n"
     ]
    },
    {
     "data": {
      "image/png": "[encoded data removed]",
      "text/plain": [
       "<Figure size 432x288 with 1 Axes>"
      ]
     },
     "metadata": {
      "needs_background": "light"
     },
     "output_type": "display_data"
    },
    {
     "data": {
      "image/png": "[encoded data removed]",
      "text/plain": [
       "<Figure size 432x288 with 1 Axes>"
      ]
     },
     "metadata": {
      "needs_background": "light"
     },
     "output_type": "display_data"
    },
    {
     "name": "stdout",
     "output_type": "stream",
     "text": [
      "14/14 [==============================] - 7s 489ms/step - loss: 2.0383 - acc: 0.6581\n",
      "n Test_Accuracy:- 0.6580796\n",
      "              precision    recall  f1-score   support\n",
      "\n",
      "           0       1.00      1.00      1.00        20\n",
      "           1       1.00      1.00      1.00        54\n",
      "           2       1.00      1.00      1.00        57\n",
      "           3       1.00      1.00      1.00        52\n",
      "           4       1.00      1.00      1.00        83\n",
      "           5       1.00      1.00      1.00        53\n",
      "           6       1.00      1.00      1.00        59\n",
      "           7       1.00      1.00      1.00        49\n",
      "\n",
      "    accuracy                           1.00       427\n",
      "   macro avg       1.00      1.00      1.00       427\n",
      "weighted avg       1.00      1.00      1.00       427\n",
      "\n",
      "confusion matrix\n",
      "[[20  0  0  0  0  0  0  0]\n",
      " [ 0 54  0  0  0  0  0  0]\n",
      " [ 0  0 57  0  0  0  0  0]\n",
      " [ 0  0  0 52  0  0  0  0]\n",
      " [ 0  0  0  0 83  0  0  0]\n",
      " [ 0  0  0  0  0 53  0  0]\n",
      " [ 0  0  0  0  0  0 59  0]\n",
      " [ 0  0  0  0  0  0  0 49]]\n"
     ]
    },
    {
     "data": {
      "image/png": "[encoded data removed]",
      "text/plain": [
       "<Figure size 576x360 with 2 Axes>"
      ]
     },
     "metadata": {
      "needs_background": "light"
     },
     "output_type": "display_data"
    }
   ],
   "source": [
    "import numpy as np\n",
    "import matplotlib.pyplot as plt\n",
    "%matplotlib inline\n",
    "from tensorflow.keras.preprocessing.image import ImageDataGenerator\n",
    "import tensorflow as tf\n",
    "from sklearn.metrics import confusion_matrix\n",
    "import seaborn as sns\n",
    "from keras.preprocessing import image\n",
    "from tensorflow.keras.models import load_model\n",
    "from keras.layers import BatchNormalization\n",
    "from sklearn.metrics import classification_report\n",
    "import sklearn.metrics\n",
    "print('IUGET RAVDESS CNN ON MFCCgrams!')\n",
    "from tensorflow.keras.constraints import unit_norm\n",
    "from tensorflow.keras import layers\n",
    "from tensorflow.keras import regularizers\n",
    "\n",
    "#RavdessBySpectrogram_PATH=\"C:/Users/fijitsu/Documents/A-LABORATORY-PYTHON/DATABASEInThe_STATEofTheART/RAVDESS_by_Spectro/\"\n",
    "#path_dir = RavdessBySpectrogram_PATH\n",
    "RavdessByMFCCgram_PATH_IUGET=\"C:/Users/INSIDE BINARIES/Documents/LABO_PYTHON/DATASET/RAVDESS_by_MFCC/\"\n",
    "path_dir = RavdessByMFCCgram_PATH_IUGET\n",
    "\n",
    "datagen = ImageDataGenerator(\n",
    "                    rescale=1./255,\n",
    "                    validation_split = 0.3)\n",
    "train_generator = datagen.flow_from_directory(\n",
    "    path_dir,\n",
    "    target_size=(1080,216),\n",
    "    shuffle=True,\n",
    "    subset='training'\n",
    ")\n",
    "validation_generator = datagen.flow_from_directory(\n",
    "    path_dir,\n",
    "    target_size=(1080,216),\n",
    "    subset='validation'\n",
    ")\n",
    "\n",
    "IMAGE_HEIGHT=216\n",
    "IMAGE_WIDTH=1080\n",
    "N_CHANNELS=3\n",
    "N_CLASSES=8\n",
    "# Create CNN model\n",
    "model = tf.keras.models.Sequential()\n",
    "model.add(tf.keras.layers.Input(shape=(IMAGE_WIDTH, IMAGE_HEIGHT, N_CHANNELS)))\n",
    "model.add(tf.keras.layers.Conv2D(32, 3, strides=2, padding='same', activation='relu'))\n",
    "#model.add(tf.keras.layers.BatchNormalization())\n",
    "model.add(tf.keras.layers.MaxPooling2D(pool_size=(2, 2)))\n",
    "#model.add(tf.keras.layers.BatchNormalization())\n",
    "model.add(tf.keras.layers.Conv2D(64, 3, padding='same', activation='relu'))\n",
    "#model.add(tf.keras.layers.BatchNormalization())\n",
    "model.add(tf.keras.layers.MaxPooling2D(pool_size=(2, 2)))\n",
    "#model.add(tf.keras.layers.BatchNormalization())\n",
    "model.add(tf.keras.layers.Conv2D(128, 3, padding='same', activation='relu'))\n",
    "#model.add(tf.keras.layers.BatchNormalization())\n",
    "model.add(tf.keras.layers.MaxPooling2D(pool_size=(2, 2)))\n",
    "#model.add(tf.keras.layers.BatchNormalization())\n",
    "model.add(tf.keras.layers.Flatten())\n",
    "model.add(tf.keras.layers.Dense(256, activation='relu'))\n",
    "#model.add(tf.keras.layers.BatchNormalization())\n",
    "model.add(tf.keras.layers.Dropout(0.5))\n",
    "model.add(tf.keras.layers.Dense(N_CLASSES, activation='softmax'))\n",
    "\n",
    "# Compile model\n",
    "#model.compile(\n",
    "#    loss='sparse_categorical_crossentropy',\n",
    "#   optimizer=tf.keras.optimizers.RMSprop(),\n",
    "#    metrics=['accuracy'],\n",
    "#)\n",
    "\n",
    "# Train model for 10 epochs, capture the history\n",
    "#history_cnn = model.fit(train_generator, epochs=10, validation_data=validation_generator)\n",
    "\n",
    "\n",
    "##FINISH MODIFICATION\n",
    "model.summary()\n",
    "model.compile(loss='categorical_crossentropy', optimizer='adam', metrics=['accuracy'])\n",
    "history_cnn = model.fit(train_generator,batch_size=32,epochs=100)\n",
    "model.save('K_CNNmodelUsingRAVDESSDataSet_MFCC_IUGET.h5')\n",
    "yhat = model.predict(train_generator)\n",
    "\n",
    "\n",
    "import matplotlib.pyplot as plt\n",
    "\n",
    "loss_curve = history_cnn.history[\"loss\"]\n",
    "acc_curve = history_cnn.history[\"acc\"]\n",
    "\n",
    "#loss_val_curve = history.history[\"val_loss\"]\n",
    "#acc_val_curve = history.history[\"val_accuracy\"]\n",
    "\n",
    "plt.plot(loss_curve, label=\"cnn_loss\",  marker=11)\n",
    "\n",
    "plt.legend(loc=\"upper left\")\n",
    "plt.title(\"loss\")\n",
    "plt.savefig('acc_loss.png')\n",
    "plt.show()\n",
    "\n",
    "plt.plot(acc_curve, label=\"cnn_acc\",  marker=11)\n",
    "\n",
    "plt.legend(loc=\"upper left\")\n",
    "plt.title(\"Accuracy\")\n",
    "plt.savefig('acc_cnn.png')\n",
    "plt.show()\n",
    "\n",
    "accuracy = model.evaluate(validation_generator)\n",
    "print('n', 'Test_Accuracy:-', accuracy[1])\n",
    "pred = model.predict(validation_generator)\n",
    "y_pred = np.argmax(pred, axis=1)\n",
    "y_true = np.argmax(pred, axis=1)\n",
    "print(classification_report(y_true, y_pred, labels=[0,1, 2,3,4,5,6,7]))  #Car sur RAVDESS il ya 8 emotions\n",
    "print('confusion matrix')\n",
    "print(confusion_matrix(y_true, y_pred))\n",
    "    #confusion matrix\n",
    "f, ax = plt.subplots(figsize=(8,5))\n",
    "sns.heatmap(confusion_matrix(y_true, y_pred), annot=True, fmt=\".0f\", ax=ax)\n",
    "plt.xlabel(\"y_pred\")\n",
    "plt.ylabel(\"y_true\")\n",
    "plt.show()"
   ]
  },
  {
   "cell_type": "code",
   "execution_count": null,
   "metadata": {},
   "outputs": [],
   "source": []
  },
  {
   "cell_type": "code",
   "execution_count": null,
   "metadata": {},
   "outputs": [],
   "source": []
  },
  {
   "cell_type": "code",
   "execution_count": null,
   "metadata": {},
   "outputs": [],
   "source": [
    "#Fonction pour Encoder un fichier Audio en Spectrogramme"
   ]
  },
  {
   "cell_type": "code",
   "execution_count": null,
   "metadata": {},
   "outputs": [],
   "source": []
  },
  {
   "cell_type": "code",
   "execution_count": 25,
   "metadata": {},
   "outputs": [],
   "source": [
    "#Fonction qui prend en entrée un spectrogramme et donne en sortie une émotion\n",
    "import tensorflow as tf\n",
    "#Dictionnaires d'émotions\n",
    "Emotions_Dictionary={0:'Neutral',1:'Calm',2:'Happy',3:'Sad',4:'Angry',5:'Fearful',6:'Disgust',7:'Surpise'}\n",
    "def EmotionsPredictionFormSpectrogrammee(SpectrogramUtteranceFolder):\n",
    "    #Charger les SpectroGramme des prises de paroles (classés par ordre chrnologique_alphanumérique dans le repertoire)\n",
    "    path_dir = SpectrogramUtteranceFolder\n",
    "    PrisesDeParole_datagen = ImageDataGenerator(\n",
    "                    rescale=1./255)\n",
    "    PrisesDeParole_generator = PrisesDeParole_datagen.flow_from_directory(\n",
    "    path_dir,\n",
    "    target_size=(1080,216),\n",
    "    shuffle=False)\n",
    "    \n",
    "    #charger le model pré entrainé\n",
    "    #Pretrained_Model_PATH='C:/Users/fijitsu/Documents/A-LABORATORY-PYTHON/PretrainedCnnModel/model_4.h5'\n",
    "    #MyPretrained_Model = tf.keras.models.load_model('MyPretrainedModel')\n",
    "    MyPretrained_Model=model\n",
    "    \n",
    "    #Prediction des emotions\n",
    "    pred = MyPretrained_Model.predict(PrisesDeParole_generator)\n",
    "    y_pred = np.argmax(pred, axis=1)\n",
    "    #Display result\n",
    "    print(y_pred)\n",
    "    return y_pred\n",
    "\n",
    "    "
   ]
  },
  {
   "cell_type": "code",
   "execution_count": 29,
   "metadata": {},
   "outputs": [
    {
     "name": "stdout",
     "output_type": "stream",
     "text": [
      "Found 400 images belonging to 1 classes.\n",
      "[6 3 1 6 1 3 3 3 1 3 6 1 1 3 3 1 6 1 1 6 6 1 6 6 3 6 1 3 1 1 3 1 1 3 3 6 3\n",
      " 6 3 6 3 3 3 1 3 3 3 1 3 3 3 3 3 3 3 3 3 3 3 3 6 3 2 6 3 3 3 6 3 3 3 3 3 6\n",
      " 6 6 3 3 6 3 3 3 3 3 3 3 2 3 3 3 3 1 6 6 1 6 6 6 1 3 3 3 6 6 6 1 1 3 3 1 2\n",
      " 3 3 6 3 3 3 3 3 3 3 3 3 6 3 3 3 3 3 5 3 3 5 3 3 3 3 3 3 3 3 3 3 3 3 6 3 3\n",
      " 3 3 3 3 3 3 3 3 3 5 3 3 3 3 3 3 2 3 3 3 3 3 3 3 3 3 5 3 3 3 6 3 3 3 5 3 3\n",
      " 3 7 3 3 6 3 3 3 3 3 3 3 3 3 3 3 3 3 3 3 3 2 3 3 3 3 6 3 3 3 3 3 3 3 3 3 3\n",
      " 6 3 3 3 3 3 3 3 3 3 3 3 3 3 3 3 3 3 3 3 3 3 3 6 3 3 3 3 1 3 3 3 3 3 3 3 3\n",
      " 3 3 3 2 3 6 3 3 6 3 3 3 3 3 3 5 3 3 3 3 3 3 3 3 3 3 3 3 5 3 1 5 3 3 3 3 3\n",
      " 3 3 3 3 3 3 5 3 3 3 3 5 3 3 3 3 3 3 3 3 3 3 3 3 3 2 3 3 3 3 3 3 3 3 5 3 3\n",
      " 6 3 3 3 3 3 3 6 6 6 6 2 6 6 3 1 6 1 3 3 3 3 3 6 6 3 2 3 3 3 3 6 6 3 6 6 6\n",
      " 6 3 3 6 6 6 6 6 6 6 6 3 3 3 3 3 6 1 1 3 1 3 3 6 2 1 3 6 6 3]\n",
      "les émotions contenus dans les prises de parole: ['Disgust', 'Sad', 'Calm', 'Disgust', 'Calm', 'Sad', 'Sad', 'Sad', 'Calm', 'Sad', 'Disgust', 'Calm', 'Calm', 'Sad', 'Sad', 'Calm', 'Disgust', 'Calm', 'Calm', 'Disgust', 'Disgust', 'Calm', 'Disgust', 'Disgust', 'Sad', 'Disgust', 'Calm', 'Sad', 'Calm', 'Calm', 'Sad', 'Calm', 'Calm', 'Sad', 'Sad', 'Disgust', 'Sad', 'Disgust', 'Sad', 'Disgust', 'Sad', 'Sad', 'Sad', 'Calm', 'Sad', 'Sad', 'Sad', 'Calm', 'Sad', 'Sad', 'Sad', 'Sad', 'Sad', 'Sad', 'Sad', 'Sad', 'Sad', 'Sad', 'Sad', 'Sad', 'Disgust', 'Sad', 'Happy', 'Disgust', 'Sad', 'Sad', 'Sad', 'Disgust', 'Sad', 'Sad', 'Sad', 'Sad', 'Sad', 'Disgust', 'Disgust', 'Disgust', 'Sad', 'Sad', 'Disgust', 'Sad', 'Sad', 'Sad', 'Sad', 'Sad', 'Sad', 'Sad', 'Happy', 'Sad', 'Sad', 'Sad', 'Sad', 'Calm', 'Disgust', 'Disgust', 'Calm', 'Disgust', 'Disgust', 'Disgust', 'Calm', 'Sad', 'Sad', 'Sad', 'Disgust', 'Disgust', 'Disgust', 'Calm', 'Calm', 'Sad', 'Sad', 'Calm', 'Happy', 'Sad', 'Sad', 'Disgust', 'Sad', 'Sad', 'Sad', 'Sad', 'Sad', 'Sad', 'Sad', 'Sad', 'Sad', 'Disgust', 'Sad', 'Sad', 'Sad', 'Sad', 'Sad', 'Fearful', 'Sad', 'Sad', 'Fearful', 'Sad', 'Sad', 'Sad', 'Sad', 'Sad', 'Sad', 'Sad', 'Sad', 'Sad', 'Sad', 'Sad', 'Sad', 'Disgust', 'Sad', 'Sad', 'Sad', 'Sad', 'Sad', 'Sad', 'Sad', 'Sad', 'Sad', 'Sad', 'Sad', 'Fearful', 'Sad', 'Sad', 'Sad', 'Sad', 'Sad', 'Sad', 'Happy', 'Sad', 'Sad', 'Sad', 'Sad', 'Sad', 'Sad', 'Sad', 'Sad', 'Sad', 'Fearful', 'Sad', 'Sad', 'Sad', 'Disgust', 'Sad', 'Sad', 'Sad', 'Fearful', 'Sad', 'Sad', 'Sad', 'Surpise', 'Sad', 'Sad', 'Disgust', 'Sad', 'Sad', 'Sad', 'Sad', 'Sad', 'Sad', 'Sad', 'Sad', 'Sad', 'Sad', 'Sad', 'Sad', 'Sad', 'Sad', 'Sad', 'Sad', 'Happy', 'Sad', 'Sad', 'Sad', 'Sad', 'Disgust', 'Sad', 'Sad', 'Sad', 'Sad', 'Sad', 'Sad', 'Sad', 'Sad', 'Sad', 'Sad', 'Disgust', 'Sad', 'Sad', 'Sad', 'Sad', 'Sad', 'Sad', 'Sad', 'Sad', 'Sad', 'Sad', 'Sad', 'Sad', 'Sad', 'Sad', 'Sad', 'Sad', 'Sad', 'Sad', 'Sad', 'Sad', 'Sad', 'Sad', 'Disgust', 'Sad', 'Sad', 'Sad', 'Sad', 'Calm', 'Sad', 'Sad', 'Sad', 'Sad', 'Sad', 'Sad', 'Sad', 'Sad', 'Sad', 'Sad', 'Sad', 'Happy', 'Sad', 'Disgust', 'Sad', 'Sad', 'Disgust', 'Sad', 'Sad', 'Sad', 'Sad', 'Sad', 'Sad', 'Fearful', 'Sad', 'Sad', 'Sad', 'Sad', 'Sad', 'Sad', 'Sad', 'Sad', 'Sad', 'Sad', 'Sad', 'Sad', 'Fearful', 'Sad', 'Calm', 'Fearful', 'Sad', 'Sad', 'Sad', 'Sad', 'Sad', 'Sad', 'Sad', 'Sad', 'Sad', 'Sad', 'Sad', 'Fearful', 'Sad', 'Sad', 'Sad', 'Sad', 'Fearful', 'Sad', 'Sad', 'Sad', 'Sad', 'Sad', 'Sad', 'Sad', 'Sad', 'Sad', 'Sad', 'Sad', 'Sad', 'Sad', 'Happy', 'Sad', 'Sad', 'Sad', 'Sad', 'Sad', 'Sad', 'Sad', 'Sad', 'Fearful', 'Sad', 'Sad', 'Disgust', 'Sad', 'Sad', 'Sad', 'Sad', 'Sad', 'Sad', 'Disgust', 'Disgust', 'Disgust', 'Disgust', 'Happy', 'Disgust', 'Disgust', 'Sad', 'Calm', 'Disgust', 'Calm', 'Sad', 'Sad', 'Sad', 'Sad', 'Sad', 'Disgust', 'Disgust', 'Sad', 'Happy', 'Sad', 'Sad', 'Sad', 'Sad', 'Disgust', 'Disgust', 'Sad', 'Disgust', 'Disgust', 'Disgust', 'Disgust', 'Sad', 'Sad', 'Disgust', 'Disgust', 'Disgust', 'Disgust', 'Disgust', 'Disgust', 'Disgust', 'Disgust', 'Sad', 'Sad', 'Sad', 'Sad', 'Sad', 'Disgust', 'Calm', 'Calm', 'Sad', 'Calm', 'Sad', 'Sad', 'Disgust', 'Happy', 'Calm', 'Sad', 'Disgust', 'Disgust', 'Sad']\n"
     ]
    }
   ],
   "source": [
    "##Testons voir\n",
    "##SpectrogramUtteranceFolder='./SpectrogrammeLocuteurX/'\n",
    "\n",
    "#SpectrogramUtteranceFolder=RavdessBySpectrogram_PATH+''\n",
    "SpectrogramUtteranceFolder=\"C:/Users/INSIDE BINARIES/Documents/LABO_PYTHON/DATASET/PredictionMFCC/\"\n",
    "PredictedEmotions_labels=EmotionsPredictionFormSpectrogrammee(SpectrogramUtteranceFolder)\n",
    "print('les émotions contenus dans les prises de parole:',[Emotions_Dictionary[ii] for ii in PredictedEmotions_labels])\n"
   ]
  },
  {
   "cell_type": "code",
   "execution_count": 34,
   "metadata": {},
   "outputs": [
    {
     "name": "stdout",
     "output_type": "stream",
     "text": [
      "16.25\n"
     ]
    }
   ],
   "source": [
    "print(list(PredictedEmotions_labels).count(6)*100 / len(list(PredictedEmotions_labels)))\n"
   ]
  },
  {
   "cell_type": "code",
   "execution_count": 36,
   "metadata": {},
   "outputs": [
    {
     "name": "stdout",
     "output_type": "stream",
     "text": [
      "Found 11 images belonging to 4 classes.\n",
      "[0 0 0 0 1 1 5 5 5 5 6]\n"
     ]
    }
   ],
   "source": [
    "\n",
    "#yhat = model.predict(train_generator)\n",
    "\n",
    "path_dir = './SpectrogrammeLocuteurX/'\n",
    "\n",
    "PrisesDeParole_datagen = ImageDataGenerator(\n",
    "                    rescale=1./255)\n",
    "PrisesDeParole_generator = datagen.flow_from_directory(\n",
    "    path_dir,\n",
    "    target_size=(350,350),\n",
    "    shuffle=False\n",
    ")\n",
    "\n",
    "\n",
    "pred = model.predict(PrisesDeParole_generator)\n",
    "y_pred = np.argmax(pred, axis=1)\n",
    "print(y_pred)\n"
   ]
  },
  {
   "cell_type": "code",
   "execution_count": null,
   "metadata": {},
   "outputs": [],
   "source": []
  },
  {
   "cell_type": "code",
   "execution_count": 53,
   "metadata": {},
   "outputs": [
    {
     "name": "stdout",
     "output_type": "stream",
     "text": [
      "1440\n",
      "181.625\n",
      "180.0\n"
     ]
    }
   ],
   "source": [
    "\n",
    "print(7*24*2*2*2+1*24*2*2)\n",
    "print((187+201+203+192+191+96+191+192)/8)\n",
    "print((7*192+96)/8)"
   ]
  },
  {
   "cell_type": "code",
   "execution_count": 51,
   "metadata": {},
   "outputs": [
    {
     "name": "stdout",
     "output_type": "stream",
     "text": [
      "96\n"
     ]
    }
   ],
   "source": [
    "print(1*24*1*2*2)"
   ]
  },
  {
   "cell_type": "code",
   "execution_count": 52,
   "metadata": {},
   "outputs": [
    {
     "name": "stdout",
     "output_type": "stream",
     "text": [
      "192\n"
     ]
    }
   ],
   "source": [
    "print(24*2*2*2)"
   ]
  },
  {
   "cell_type": "code",
   "execution_count": null,
   "metadata": {},
   "outputs": [],
   "source": []
  },
  {
   "cell_type": "code",
   "execution_count": null,
   "metadata": {},
   "outputs": [],
   "source": []
  },
  {
   "cell_type": "code",
   "execution_count": null,
   "metadata": {},
   "outputs": [],
   "source": []
  },
  {
   "cell_type": "code",
   "execution_count": null,
   "metadata": {},
   "outputs": [],
   "source": []
  },
  {
   "cell_type": "code",
   "execution_count": 15,
   "metadata": {},
   "outputs": [
    {
     "data": {
      "image/png": "[encoded data removed]",
      "text/plain": [
       "<Figure size 432x288 with 1 Axes>"
      ]
     },
     "metadata": {
      "needs_background": "light"
     },
     "output_type": "display_data"
    },
    {
     "data": {
      "image/png": "[encoded data removed]",
      "text/plain": [
       "<Figure size 432x288 with 1 Axes>"
      ]
     },
     "metadata": {
      "needs_background": "light"
     },
     "output_type": "display_data"
    },
    {
     "name": "stdout",
     "output_type": "stream",
     "text": [
      "14/14 [==============================] - 10s 687ms/step - loss: 16.9899 - acc: 0.1218\n",
      "n Test_Accuracy:- 0.12177986\n",
      "              precision    recall  f1-score   support\n",
      "\n",
      "           0       1.00      1.00      1.00         3\n",
      "           1       1.00      1.00      1.00        14\n",
      "           2       0.00      0.00      0.00         0\n",
      "           3       1.00      1.00      1.00        97\n",
      "           4       0.00      0.00      0.00         0\n",
      "           5       1.00      1.00      1.00         1\n",
      "           6       1.00      1.00      1.00       312\n",
      "           7       0.00      0.00      0.00         0\n",
      "\n",
      "   micro avg       1.00      1.00      1.00       427\n",
      "   macro avg       0.62      0.62      0.62       427\n",
      "weighted avg       1.00      1.00      1.00       427\n",
      "\n",
      "confusion matrix\n",
      "[[  3   0   0   0   0]\n",
      " [  0  14   0   0   0]\n",
      " [  0   0  97   0   0]\n",
      " [  0   0   0   1   0]\n",
      " [  0   0   0   0 312]]\n"
     ]
    },
    {
     "data": {
      "image/png": "[encoded data removed]",
      "text/plain": [
       "<Figure size 576x360 with 2 Axes>"
      ]
     },
     "metadata": {
      "needs_background": "light"
     },
     "output_type": "display_data"
    }
   ],
   "source": [
    "model.save('K_CNNmodelUsingRAVDESSDataSet.h5')\n",
    "yhat = model.predict(train_generator)\n",
    "\n",
    "\n",
    "import matplotlib.pyplot as plt\n",
    "\n",
    "loss_curve = history_cnn.history[\"loss\"]\n",
    "acc_curve = history_cnn.history[\"acc\"]\n",
    "\n",
    "#loss_val_curve = history.history[\"val_loss\"]\n",
    "#acc_val_curve = history.history[\"val_accuracy\"]\n",
    "\n",
    "plt.plot(loss_curve, label=\"cnn_loss\",  marker=11)\n",
    "\n",
    "plt.legend(loc=\"upper left\")\n",
    "plt.title(\"loss\")\n",
    "plt.savefig('acc_loss.png')\n",
    "plt.show()\n",
    "\n",
    "plt.plot(acc_curve, label=\"cnn_acc\",  marker=11)\n",
    "\n",
    "plt.legend(loc=\"upper left\")\n",
    "plt.title(\"Accuracy\")\n",
    "plt.savefig('acc_cnn.png')\n",
    "plt.show()\n",
    "\n",
    "accuracy = model.evaluate(validation_generator)\n",
    "print('n', 'Test_Accuracy:-', accuracy[1])\n",
    "pred = model.predict(validation_generator)\n",
    "y_pred = np.argmax(pred, axis=1)\n",
    "y_true = np.argmax(pred, axis=1)\n",
    "print(classification_report(y_true, y_pred, labels=[0,1, 2,3,4,5,6,7]))  #Car sur RAVDESS il ya 8 emotions\n",
    "print('confusion matrix')\n",
    "print(confusion_matrix(y_true, y_pred))\n",
    "    #confusion matrix\n",
    "f, ax = plt.subplots(figsize=(8,5))\n",
    "sns.heatmap(confusion_matrix(y_true, y_pred), annot=True, fmt=\".0f\", ax=ax)\n",
    "plt.xlabel(\"y_pred\")\n",
    "plt.ylabel(\"y_true\")\n",
    "plt.show()"
   ]
  },
  {
   "cell_type": "code",
   "execution_count": 25,
   "metadata": {},
   "outputs": [
    {
     "name": "stdout",
     "output_type": "stream",
     "text": [
      "32/32 [==============================] - 24s 740ms/step - loss: 3.7440 - acc: 0.2616\n",
      "n Test_Accuracy:- 0.2615992\n"
     ]
    }
   ],
   "source": [
    "datagen = ImageDataGenerator(\n",
    "                    rescale=1./255,\n",
    "                    validation_split = 0.3)\n",
    "train_generator = datagen.flow_from_directory(\n",
    "    path_dir,\n",
    "    target_size=(350,350),\n",
    "    shuffle=True,\n",
    "    subset='training'\n",
    ")\n",
    "validation_generator = datagen.flow_from_directory(\n",
    "    path_dir,\n",
    "    target_size=(350,350),\n",
    "    subset='validation'\n",
    ")\n"
   ]
  },
  {
   "cell_type": "code",
   "execution_count": 38,
   "metadata": {},
   "outputs": [
    {
     "name": "stdout",
     "output_type": "stream",
     "text": [
      "32/32 [==============================] - 12s 383ms/step - loss: 0.0026 - acc: 1.0000\n",
      "n Test_Accuracy:- 1.0\n"
     ]
    }
   ],
   "source": [
    "accuracy = model.evaluate(train_generator)\n",
    "print('n', 'Test_Accuracy:-', accuracy[1])\n"
   ]
  },
  {
   "cell_type": "code",
   "execution_count": 39,
   "metadata": {},
   "outputs": [
    {
     "name": "stdout",
     "output_type": "stream",
     "text": [
      "              precision    recall  f1-score   support\n",
      "\n",
      "           0       1.00      1.00      1.00        68\n",
      "           1       1.00      1.00      1.00       135\n",
      "           2       1.00      1.00      1.00       135\n",
      "           3       1.00      1.00      1.00       135\n",
      "           4       1.00      1.00      1.00       135\n",
      "           5       1.00      1.00      1.00       135\n",
      "           6       1.00      1.00      1.00       135\n",
      "           7       1.00      1.00      1.00       135\n",
      "\n",
      "    accuracy                           1.00      1013\n",
      "   macro avg       1.00      1.00      1.00      1013\n",
      "weighted avg       1.00      1.00      1.00      1013\n",
      "\n",
      "confusion matrix\n",
      "[[ 68   0   0   0   0   0   0   0]\n",
      " [  0 135   0   0   0   0   0   0]\n",
      " [  0   0 135   0   0   0   0   0]\n",
      " [  0   0   0 135   0   0   0   0]\n",
      " [  0   0   0   0 135   0   0   0]\n",
      " [  0   0   0   0   0 135   0   0]\n",
      " [  0   0   0   0   0   0 135   0]\n",
      " [  0   0   0   0   0   0   0 135]]\n"
     ]
    },
    {
     "data": {
      "image/png": "[encoded data removed]",
      "text/plain": [
       "<Figure size 576x360 with 2 Axes>"
      ]
     },
     "metadata": {
      "needs_background": "light"
     },
     "output_type": "display_data"
    }
   ],
   "source": [
    "pred = model.predict(train_generator)\n",
    "y_pred = np.argmax(pred, axis=1)\n",
    "y_true = np.argmax(pred, axis=1)\n",
    "print(classification_report(y_true, y_pred, labels=[0,1, 2,3,4,5,6,7]))  #Car sur RAVDESS il ya 8 emotions\n",
    "print('confusion matrix')\n",
    "print(confusion_matrix(y_true, y_pred))\n",
    "    #confusion matrix\n",
    "f, ax = plt.subplots(figsize=(8,5))\n",
    "sns.heatmap(confusion_matrix(y_true, y_pred), annot=True, fmt=\".0f\", ax=ax)\n",
    "plt.xlabel(\"y_pred\")\n",
    "plt.ylabel(\"y_true\")\n",
    "plt.show()"
   ]
  }
 ],
 "metadata": {
  "kernelspec": {
   "display_name": "Python 3",
   "language": "python",
   "name": "python3"
  },
  "language_info": {
   "codemirror_mode": {
    "name": "ipython",
    "version": 3
   },
   "file_extension": ".py",
   "mimetype": "text/x-python",
   "name": "python",
   "nbconvert_exporter": "python",
   "pygments_lexer": "ipython3",
   "version": "3.7.6"
  }
 },
 "nbformat": 4,
 "nbformat_minor": 5
}
