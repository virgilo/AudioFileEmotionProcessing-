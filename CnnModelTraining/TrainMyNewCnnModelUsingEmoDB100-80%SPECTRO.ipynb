{
 "cells": [
  {
   "cell_type": "code",
   "execution_count": 1,
   "metadata": {
    "scrolled": true
   },
   "outputs": [
    {
     "name": "stderr",
     "output_type": "stream",
     "text": [
      "F:\\PROG_INSTALLED\\anaconda\\lib\\site-packages\\tensorflow\\python\\framework\\dtypes.py:516: FutureWarning: Passing (type, 1) or '1type' as a synonym of type is deprecated; in a future version of numpy, it will be understood as (type, (1,)) / '(1,)type'.\n",
      "  _np_qint8 = np.dtype([(\"qint8\", np.int8, 1)])\n",
      "F:\\PROG_INSTALLED\\anaconda\\lib\\site-packages\\tensorflow\\python\\framework\\dtypes.py:517: FutureWarning: Passing (type, 1) or '1type' as a synonym of type is deprecated; in a future version of numpy, it will be understood as (type, (1,)) / '(1,)type'.\n",
      "  _np_quint8 = np.dtype([(\"quint8\", np.uint8, 1)])\n",
      "F:\\PROG_INSTALLED\\anaconda\\lib\\site-packages\\tensorflow\\python\\framework\\dtypes.py:518: FutureWarning: Passing (type, 1) or '1type' as a synonym of type is deprecated; in a future version of numpy, it will be understood as (type, (1,)) / '(1,)type'.\n",
      "  _np_qint16 = np.dtype([(\"qint16\", np.int16, 1)])\n",
      "F:\\PROG_INSTALLED\\anaconda\\lib\\site-packages\\tensorflow\\python\\framework\\dtypes.py:519: FutureWarning: Passing (type, 1) or '1type' as a synonym of type is deprecated; in a future version of numpy, it will be understood as (type, (1,)) / '(1,)type'.\n",
      "  _np_quint16 = np.dtype([(\"quint16\", np.uint16, 1)])\n",
      "F:\\PROG_INSTALLED\\anaconda\\lib\\site-packages\\tensorflow\\python\\framework\\dtypes.py:520: FutureWarning: Passing (type, 1) or '1type' as a synonym of type is deprecated; in a future version of numpy, it will be understood as (type, (1,)) / '(1,)type'.\n",
      "  _np_qint32 = np.dtype([(\"qint32\", np.int32, 1)])\n",
      "F:\\PROG_INSTALLED\\anaconda\\lib\\site-packages\\tensorflow\\python\\framework\\dtypes.py:525: FutureWarning: Passing (type, 1) or '1type' as a synonym of type is deprecated; in a future version of numpy, it will be understood as (type, (1,)) / '(1,)type'.\n",
      "  np_resource = np.dtype([(\"resource\", np.ubyte, 1)])\n",
      "F:\\PROG_INSTALLED\\anaconda\\lib\\site-packages\\tensorboard\\compat\\tensorflow_stub\\dtypes.py:541: FutureWarning: Passing (type, 1) or '1type' as a synonym of type is deprecated; in a future version of numpy, it will be understood as (type, (1,)) / '(1,)type'.\n",
      "  _np_qint8 = np.dtype([(\"qint8\", np.int8, 1)])\n",
      "F:\\PROG_INSTALLED\\anaconda\\lib\\site-packages\\tensorboard\\compat\\tensorflow_stub\\dtypes.py:542: FutureWarning: Passing (type, 1) or '1type' as a synonym of type is deprecated; in a future version of numpy, it will be understood as (type, (1,)) / '(1,)type'.\n",
      "  _np_quint8 = np.dtype([(\"quint8\", np.uint8, 1)])\n",
      "F:\\PROG_INSTALLED\\anaconda\\lib\\site-packages\\tensorboard\\compat\\tensorflow_stub\\dtypes.py:543: FutureWarning: Passing (type, 1) or '1type' as a synonym of type is deprecated; in a future version of numpy, it will be understood as (type, (1,)) / '(1,)type'.\n",
      "  _np_qint16 = np.dtype([(\"qint16\", np.int16, 1)])\n",
      "F:\\PROG_INSTALLED\\anaconda\\lib\\site-packages\\tensorboard\\compat\\tensorflow_stub\\dtypes.py:544: FutureWarning: Passing (type, 1) or '1type' as a synonym of type is deprecated; in a future version of numpy, it will be understood as (type, (1,)) / '(1,)type'.\n",
      "  _np_quint16 = np.dtype([(\"quint16\", np.uint16, 1)])\n",
      "F:\\PROG_INSTALLED\\anaconda\\lib\\site-packages\\tensorboard\\compat\\tensorflow_stub\\dtypes.py:545: FutureWarning: Passing (type, 1) or '1type' as a synonym of type is deprecated; in a future version of numpy, it will be understood as (type, (1,)) / '(1,)type'.\n",
      "  _np_qint32 = np.dtype([(\"qint32\", np.int32, 1)])\n",
      "F:\\PROG_INSTALLED\\anaconda\\lib\\site-packages\\tensorboard\\compat\\tensorflow_stub\\dtypes.py:550: FutureWarning: Passing (type, 1) or '1type' as a synonym of type is deprecated; in a future version of numpy, it will be understood as (type, (1,)) / '(1,)type'.\n",
      "  np_resource = np.dtype([(\"resource\", np.ubyte, 1)])\n",
      "Using TensorFlow backend.\n"
     ]
    },
    {
     "name": "stdout",
     "output_type": "stream",
     "text": [
      "IUGET EMODB CNN ON MFCCgrams!\n",
      "Found 431 images belonging to 7 classes.\n",
      "Found 104 images belonging to 7 classes.\n",
      "WARNING:tensorflow:From F:\\PROG_INSTALLED\\anaconda\\lib\\site-packages\\tensorflow\\python\\ops\\init_ops.py:1251: calling VarianceScaling.__init__ (from tensorflow.python.ops.init_ops) with dtype is deprecated and will be removed in a future version.\n",
      "Instructions for updating:\n",
      "Call initializer instance with the dtype argument instead of passing it to the constructor\n",
      "Model: \"sequential\"\n",
      "_________________________________________________________________\n",
      "Layer (type)                 Output Shape              Param #   \n",
      "=================================================================\n",
      "conv2d (Conv2D)              (None, 540, 108, 32)      896       \n",
      "_________________________________________________________________\n",
      "max_pooling2d (MaxPooling2D) (None, 270, 54, 32)       0         \n",
      "_________________________________________________________________\n",
      "conv2d_1 (Conv2D)            (None, 270, 54, 64)       18496     \n",
      "_________________________________________________________________\n",
      "max_pooling2d_1 (MaxPooling2 (None, 135, 27, 64)       0         \n",
      "_________________________________________________________________\n",
      "conv2d_2 (Conv2D)            (None, 135, 27, 128)      73856     \n",
      "_________________________________________________________________\n",
      "max_pooling2d_2 (MaxPooling2 (None, 67, 13, 128)       0         \n",
      "_________________________________________________________________\n",
      "flatten (Flatten)            (None, 111488)            0         \n",
      "_________________________________________________________________\n",
      "dense (Dense)                (None, 256)               28541184  \n",
      "_________________________________________________________________\n",
      "dropout (Dropout)            (None, 256)               0         \n",
      "_________________________________________________________________\n",
      "dense_1 (Dense)              (None, 7)                 1799      \n",
      "=================================================================\n",
      "Total params: 28,636,231\n",
      "Trainable params: 28,636,231\n",
      "Non-trainable params: 0\n",
      "_________________________________________________________________\n",
      "Epoch 1/100\n",
      "14/14 [==============================] - 26s 2s/step - loss: 3.6970 - acc: 0.2088\n",
      "Epoch 2/100\n",
      "14/14 [==============================] - 22s 2s/step - loss: 1.9102 - acc: 0.2367\n",
      "Epoch 3/100\n",
      "14/14 [==============================] - 22s 2s/step - loss: 1.8902 - acc: 0.2715\n",
      "Epoch 4/100\n",
      "14/14 [==============================] - 22s 2s/step - loss: 1.7931 - acc: 0.3364\n",
      "Epoch 5/100\n",
      "14/14 [==============================] - 22s 2s/step - loss: 1.5048 - acc: 0.4153\n",
      "Epoch 6/100\n",
      "14/14 [==============================] - 23s 2s/step - loss: 1.3598 - acc: 0.4478\n",
      "Epoch 7/100\n",
      "14/14 [==============================] - 23s 2s/step - loss: 1.1552 - acc: 0.5522\n",
      "Epoch 8/100\n",
      "14/14 [==============================] - 24s 2s/step - loss: 1.0564 - acc: 0.5708\n",
      "Epoch 9/100\n",
      "14/14 [==============================] - 23s 2s/step - loss: 0.9438 - acc: 0.6241\n",
      "Epoch 10/100\n",
      "14/14 [==============================] - 23s 2s/step - loss: 0.8654 - acc: 0.6450\n",
      "Epoch 11/100\n",
      "14/14 [==============================] - 24s 2s/step - loss: 0.8164 - acc: 0.6636\n",
      "Epoch 12/100\n",
      "14/14 [==============================] - 23s 2s/step - loss: 0.8784 - acc: 0.6636\n",
      "Epoch 13/100\n",
      "14/14 [==============================] - 24s 2s/step - loss: 0.6890 - acc: 0.7425\n",
      "Epoch 14/100\n",
      "14/14 [==============================] - 24s 2s/step - loss: 0.5853 - acc: 0.7680\n",
      "Epoch 15/100\n",
      "14/14 [==============================] - 23s 2s/step - loss: 0.5381 - acc: 0.8074\n",
      "Epoch 16/100\n",
      "14/14 [==============================] - 22s 2s/step - loss: 0.5231 - acc: 0.7958\n",
      "Epoch 17/100\n",
      "14/14 [==============================] - 22s 2s/step - loss: 0.4634 - acc: 0.8051\n",
      "Epoch 18/100\n",
      "14/14 [==============================] - 22s 2s/step - loss: 0.3993 - acc: 0.8376\n",
      "Epoch 19/100\n",
      "14/14 [==============================] - 22s 2s/step - loss: 0.3034 - acc: 0.8770\n",
      "Epoch 20/100\n",
      "14/14 [==============================] - 22s 2s/step - loss: 0.3010 - acc: 0.8817\n",
      "Epoch 21/100\n",
      "14/14 [==============================] - 23s 2s/step - loss: 0.2975 - acc: 0.8794\n",
      "Epoch 22/100\n",
      "14/14 [==============================] - 25s 2s/step - loss: 0.2596 - acc: 0.8886\n",
      "Epoch 23/100\n",
      "14/14 [==============================] - 23s 2s/step - loss: 0.2650 - acc: 0.8956\n",
      "Epoch 24/100\n",
      "14/14 [==============================] - 22s 2s/step - loss: 0.2668 - acc: 0.9118\n",
      "Epoch 25/100\n",
      "14/14 [==============================] - 22s 2s/step - loss: 0.1983 - acc: 0.9188\n",
      "Epoch 26/100\n",
      "14/14 [==============================] - 24s 2s/step - loss: 0.1923 - acc: 0.9304\n",
      "Epoch 27/100\n",
      "14/14 [==============================] - 29s 2s/step - loss: 0.2449 - acc: 0.9118\n",
      "Epoch 28/100\n",
      "14/14 [==============================] - 24s 2s/step - loss: 0.1972 - acc: 0.9350\n",
      "Epoch 29/100\n",
      "14/14 [==============================] - 26s 2s/step - loss: 0.1765 - acc: 0.9490\n",
      "Epoch 30/100\n",
      "14/14 [==============================] - 26s 2s/step - loss: 0.1328 - acc: 0.9536\n",
      "Epoch 31/100\n",
      "14/14 [==============================] - 26s 2s/step - loss: 0.1203 - acc: 0.9559\n",
      "Epoch 32/100\n",
      "14/14 [==============================] - 26s 2s/step - loss: 0.0940 - acc: 0.9629\n",
      "Epoch 33/100\n",
      "14/14 [==============================] - 24s 2s/step - loss: 0.0995 - acc: 0.9675\n",
      "Epoch 34/100\n",
      "14/14 [==============================] - 24s 2s/step - loss: 0.0963 - acc: 0.9768\n",
      "Epoch 35/100\n",
      "14/14 [==============================] - 26s 2s/step - loss: 0.0957 - acc: 0.9698\n",
      "Epoch 36/100\n",
      "14/14 [==============================] - 25s 2s/step - loss: 0.0845 - acc: 0.9698\n",
      "Epoch 37/100\n",
      "14/14 [==============================] - 26s 2s/step - loss: 0.0942 - acc: 0.9745\n",
      "Epoch 38/100\n",
      "14/14 [==============================] - 26s 2s/step - loss: 0.0541 - acc: 0.9814\n",
      "Epoch 39/100\n",
      "14/14 [==============================] - 26s 2s/step - loss: 0.0810 - acc: 0.9768\n",
      "Epoch 40/100\n",
      "14/14 [==============================] - 26s 2s/step - loss: 0.1064 - acc: 0.9652\n",
      "Epoch 41/100\n",
      "14/14 [==============================] - 23s 2s/step - loss: 0.1223 - acc: 0.9606\n",
      "Epoch 42/100\n",
      "14/14 [==============================] - 25s 2s/step - loss: 0.1083 - acc: 0.9652\n",
      "Epoch 43/100\n",
      "14/14 [==============================] - 25s 2s/step - loss: 0.0813 - acc: 0.9698\n",
      "Epoch 44/100\n",
      "14/14 [==============================] - 23s 2s/step - loss: 0.0498 - acc: 0.9884\n",
      "Epoch 45/100\n",
      "14/14 [==============================] - 23s 2s/step - loss: 0.0663 - acc: 0.9722\n",
      "Epoch 46/100\n",
      "14/14 [==============================] - 24s 2s/step - loss: 0.0641 - acc: 0.9768\n",
      "Epoch 47/100\n",
      "14/14 [==============================] - 24s 2s/step - loss: 0.0760 - acc: 0.9722\n",
      "Epoch 48/100\n",
      "14/14 [==============================] - 25s 2s/step - loss: 0.0533 - acc: 0.9791\n",
      "Epoch 49/100\n",
      "14/14 [==============================] - 24s 2s/step - loss: 0.0957 - acc: 0.9745\n",
      "Epoch 50/100\n",
      "14/14 [==============================] - 23s 2s/step - loss: 0.0706 - acc: 0.9722\n",
      "Epoch 51/100\n",
      "14/14 [==============================] - 24s 2s/step - loss: 0.1509 - acc: 0.9559\n",
      "Epoch 52/100\n",
      "14/14 [==============================] - 26s 2s/step - loss: 0.0836 - acc: 0.9698\n",
      "Epoch 53/100\n",
      "14/14 [==============================] - 24s 2s/step - loss: 0.0691 - acc: 0.9768\n",
      "Epoch 54/100\n",
      "14/14 [==============================] - 24s 2s/step - loss: 0.0580 - acc: 0.9814\n",
      "Epoch 55/100\n",
      "14/14 [==============================] - 25s 2s/step - loss: 0.0557 - acc: 0.9722\n",
      "Epoch 56/100\n",
      "14/14 [==============================] - 28s 2s/step - loss: 0.0781 - acc: 0.9652\n",
      "Epoch 57/100\n",
      "14/14 [==============================] - 25s 2s/step - loss: 0.0640 - acc: 0.9768\n",
      "Epoch 58/100\n",
      "14/14 [==============================] - 25s 2s/step - loss: 0.0623 - acc: 0.9791\n",
      "Epoch 59/100\n",
      "14/14 [==============================] - 25s 2s/step - loss: 0.0448 - acc: 0.9838\n",
      "Epoch 60/100\n",
      "14/14 [==============================] - 25s 2s/step - loss: 0.0543 - acc: 0.9884\n",
      "Epoch 61/100\n",
      "14/14 [==============================] - 24s 2s/step - loss: 0.0317 - acc: 0.9884\n",
      "Epoch 62/100\n",
      "14/14 [==============================] - 24s 2s/step - loss: 0.0316 - acc: 0.9861\n",
      "Epoch 63/100\n",
      "14/14 [==============================] - 24s 2s/step - loss: 0.0630 - acc: 0.9722\n",
      "Epoch 64/100\n"
     ]
    },
    {
     "name": "stdout",
     "output_type": "stream",
     "text": [
      "14/14 [==============================] - 23s 2s/step - loss: 0.0508 - acc: 0.9814\n",
      "Epoch 65/100\n",
      "14/14 [==============================] - 23s 2s/step - loss: 0.0833 - acc: 0.9606\n",
      "Epoch 66/100\n",
      "14/14 [==============================] - 23s 2s/step - loss: 0.0312 - acc: 0.9930\n",
      "Epoch 67/100\n",
      "14/14 [==============================] - 23s 2s/step - loss: 0.0708 - acc: 0.9768\n",
      "Epoch 68/100\n",
      "14/14 [==============================] - 23s 2s/step - loss: 0.0360 - acc: 0.9907\n",
      "Epoch 69/100\n",
      "14/14 [==============================] - 23s 2s/step - loss: 0.0322 - acc: 0.9907\n",
      "Epoch 70/100\n",
      "14/14 [==============================] - 23s 2s/step - loss: 0.0664 - acc: 0.9814\n",
      "Epoch 71/100\n",
      "14/14 [==============================] - 24s 2s/step - loss: 0.0410 - acc: 0.9838\n",
      "Epoch 72/100\n",
      "14/14 [==============================] - 25s 2s/step - loss: 0.0967 - acc: 0.9722\n",
      "Epoch 73/100\n",
      "14/14 [==============================] - 25s 2s/step - loss: 0.1067 - acc: 0.9675\n",
      "Epoch 74/100\n",
      "14/14 [==============================] - 25s 2s/step - loss: 0.1156 - acc: 0.9675\n",
      "Epoch 75/100\n",
      "14/14 [==============================] - 25s 2s/step - loss: 0.0542 - acc: 0.9814\n",
      "Epoch 78/100\n",
      "14/14 [==============================] - 25s 2s/step - loss: 0.0586 - acc: 0.9791\n",
      "Epoch 79/100\n",
      "14/14 [==============================] - 25s 2s/step - loss: 0.0599 - acc: 0.9791\n",
      "Epoch 80/100\n",
      "14/14 [==============================] - 23s 2s/step - loss: 0.0397 - acc: 0.9861\n",
      "Epoch 81/100\n",
      "14/14 [==============================] - 23s 2s/step - loss: 0.0179 - acc: 0.9954\n",
      "Epoch 82/100\n",
      "14/14 [==============================] - 23s 2s/step - loss: 0.0335 - acc: 0.9838\n",
      "Epoch 83/100\n",
      "14/14 [==============================] - 23s 2s/step - loss: 0.0292 - acc: 0.9884\n",
      "Epoch 84/100\n",
      "14/14 [==============================] - 23s 2s/step - loss: 0.0172 - acc: 0.9954\n",
      "Epoch 85/100\n",
      "14/14 [==============================] - 23s 2s/step - loss: 0.0322 - acc: 0.9907\n",
      "Epoch 86/100\n",
      "14/14 [==============================] - 23s 2s/step - loss: 0.0244 - acc: 0.9930\n",
      "Epoch 87/100\n",
      "14/14 [==============================] - 23s 2s/step - loss: 0.0184 - acc: 0.9954\n",
      "Epoch 88/100\n",
      "14/14 [==============================] - 23s 2s/step - loss: 0.0265 - acc: 0.9930\n",
      "Epoch 89/100\n",
      "14/14 [==============================] - 23s 2s/step - loss: 0.0211 - acc: 0.9930\n",
      "Epoch 90/100\n",
      "14/14 [==============================] - 23s 2s/step - loss: 0.0339 - acc: 0.9907\n",
      "Epoch 91/100\n",
      "14/14 [==============================] - 23s 2s/step - loss: 0.0282 - acc: 0.9930\n",
      "Epoch 92/100\n",
      "14/14 [==============================] - 23s 2s/step - loss: 0.0246 - acc: 0.9907\n",
      "Epoch 93/100\n",
      "14/14 [==============================] - 23s 2s/step - loss: 0.0375 - acc: 0.9930\n",
      "Epoch 94/100\n",
      "14/14 [==============================] - 23s 2s/step - loss: 0.0396 - acc: 0.9861\n",
      "Epoch 95/100\n",
      "14/14 [==============================] - 23s 2s/step - loss: 0.0443 - acc: 0.9884\n",
      "Epoch 96/100\n",
      "14/14 [==============================] - 23s 2s/step - loss: 0.0264 - acc: 0.9907\n",
      "Epoch 97/100\n",
      "14/14 [==============================] - 23s 2s/step - loss: 0.0180 - acc: 0.9977\n",
      "Epoch 98/100\n",
      "14/14 [==============================] - 23s 2s/step - loss: 0.0295 - acc: 0.9907\n",
      "Epoch 99/100\n",
      "14/14 [==============================] - 23s 2s/step - loss: 0.0147 - acc: 0.9977\n",
      "Epoch 100/100\n",
      "14/14 [==============================] - 23s 2s/step - loss: 0.0130 - acc: 0.9930\n"
     ]
    },
    {
     "data": {
      "image/png": "[encoded data removed]",
      "text/plain": [
       "<Figure size 432x288 with 1 Axes>"
      ]
     },
     "metadata": {
      "needs_background": "light"
     },
     "output_type": "display_data"
    },
    {
     "data": {
      "image/png": "[encoded data removed]",
      "text/plain": [
       "<Figure size 432x288 with 1 Axes>"
      ]
     },
     "metadata": {
      "needs_background": "light"
     },
     "output_type": "display_data"
    },
    {
     "name": "stdout",
     "output_type": "stream",
     "text": [
      "4/4 [==============================] - 2s 494ms/step - loss: 2.2961 - acc: 0.6731\n",
      "n Test_Accuracy:- 0.6730769\n",
      "              precision    recall  f1-score   support\n",
      "\n",
      "           0       1.00      1.00      1.00        16\n",
      "           1       1.00      1.00      1.00         8\n",
      "           2       1.00      1.00      1.00         8\n",
      "           3       1.00      1.00      1.00        30\n",
      "           4       1.00      1.00      1.00         8\n",
      "           5       1.00      1.00      1.00        17\n",
      "           6       1.00      1.00      1.00        17\n",
      "\n",
      "    accuracy                           1.00       104\n",
      "   macro avg       1.00      1.00      1.00       104\n",
      "weighted avg       1.00      1.00      1.00       104\n",
      "\n",
      "confusion matrix\n",
      "[[16  0  0  0  0  0  0]\n",
      " [ 0  8  0  0  0  0  0]\n",
      " [ 0  0  8  0  0  0  0]\n",
      " [ 0  0  0 30  0  0  0]\n",
      " [ 0  0  0  0  8  0  0]\n",
      " [ 0  0  0  0  0 17  0]\n",
      " [ 0  0  0  0  0  0 17]]\n"
     ]
    },
    {
     "data": {
      "image/png": "[encoded data removed]",
      "text/plain": [
       "<Figure size 576x360 with 2 Axes>"
      ]
     },
     "metadata": {
      "needs_background": "light"
     },
     "output_type": "display_data"
    }
   ],
   "source": [
    "import numpy as np\n",
    "import matplotlib.pyplot as plt\n",
    "%matplotlib inline\n",
    "from tensorflow.keras.preprocessing.image import ImageDataGenerator\n",
    "import tensorflow as tf\n",
    "from sklearn.metrics import confusion_matrix\n",
    "import seaborn as sns\n",
    "from keras.preprocessing import image\n",
    "from tensorflow.keras.models import load_model\n",
    "from keras.layers import BatchNormalization\n",
    "from sklearn.metrics import classification_report\n",
    "import sklearn.metrics\n",
    "print('IUGET EMODB CNN ON MFCCgrams!')\n",
    "from tensorflow.keras.constraints import unit_norm\n",
    "from tensorflow.keras import layers\n",
    "from tensorflow.keras import regularizers\n",
    "\n",
    "#RavdessBySpectrogram_PATH=\"C:/Users/fijitsu/Documents/A-LABORATORY-PYTHON/DATABASEInThe_STATEofTheART/RAVDESS_by_Spectro/\"\n",
    "#path_dir = RavdessBySpectrogram_PATH\n",
    "RavdessByMFCCgram_PATH_IUGET=\"C:/Users/INSIDE BINARIES/Documents/LABO_PYTHON/DATASET/EmoDB_By_Spectro/\"\n",
    "path_dir = RavdessByMFCCgram_PATH_IUGET\n",
    "\n",
    "datagen = ImageDataGenerator(\n",
    "                    rescale=1./255,\n",
    "                    validation_split = 0.2)\n",
    "train_generator = datagen.flow_from_directory(\n",
    "    path_dir,\n",
    "    target_size=(1080,216),\n",
    "    shuffle=True,\n",
    "    subset='training'\n",
    ")\n",
    "validation_generator = datagen.flow_from_directory(\n",
    "    path_dir,\n",
    "    target_size=(1080,216),\n",
    "    subset='validation'\n",
    ")\n",
    "\n",
    "IMAGE_HEIGHT=216\n",
    "IMAGE_WIDTH=1080\n",
    "N_CHANNELS=3\n",
    "N_CLASSES=7\n",
    "# Create CNN model\n",
    "model = tf.keras.models.Sequential()\n",
    "model.add(tf.keras.layers.Input(shape=(IMAGE_WIDTH, IMAGE_HEIGHT, N_CHANNELS)))\n",
    "model.add(tf.keras.layers.Conv2D(32, 3, strides=2, padding='same', activation='relu'))\n",
    "#model.add(tf.keras.layers.BatchNormalization())\n",
    "model.add(tf.keras.layers.MaxPooling2D(pool_size=(2, 2)))\n",
    "#model.add(tf.keras.layers.BatchNormalization())\n",
    "model.add(tf.keras.layers.Conv2D(64, 3, padding='same', activation='relu'))\n",
    "#model.add(tf.keras.layers.BatchNormalization())\n",
    "model.add(tf.keras.layers.MaxPooling2D(pool_size=(2, 2)))\n",
    "#model.add(tf.keras.layers.BatchNormalization())\n",
    "model.add(tf.keras.layers.Conv2D(128, 3, padding='same', activation='relu'))\n",
    "#model.add(tf.keras.layers.BatchNormalization())\n",
    "model.add(tf.keras.layers.MaxPooling2D(pool_size=(2, 2)))\n",
    "#model.add(tf.keras.layers.BatchNormalization())\n",
    "model.add(tf.keras.layers.Flatten())\n",
    "model.add(tf.keras.layers.Dense(256, activation='relu'))\n",
    "#model.add(tf.keras.layers.BatchNormalization())\n",
    "model.add(tf.keras.layers.Dropout(0.5))\n",
    "model.add(tf.keras.layers.Dense(N_CLASSES, activation='softmax'))\n",
    "\n",
    "# Compile model\n",
    "#model.compile(\n",
    "#    loss='sparse_categorical_crossentropy',\n",
    "#   optimizer=tf.keras.optimizers.RMSprop(),\n",
    "#    metrics=['accuracy'],\n",
    "#)\n",
    "\n",
    "# Train model for 10 epochs, capture the history\n",
    "#history_cnn = model.fit(train_generator, epochs=10, validation_data=validation_generator)\n",
    "\n",
    "\n",
    "##FINISH MODIFICATION\n",
    "model.summary()\n",
    "model.compile(loss='categorical_crossentropy', optimizer='adam', metrics=['accuracy'])\n",
    "history_cnn = model.fit(train_generator,batch_size=32,epochs=100)\n",
    "model.save('80K_CNNmodelUsingEMODB_SPECTRO_IUGET.h5')\n",
    "yhat = model.predict(train_generator)\n",
    "\n",
    "\n",
    "import matplotlib.pyplot as plt\n",
    "\n",
    "loss_curve = history_cnn.history[\"loss\"]\n",
    "acc_curve = history_cnn.history[\"acc\"]\n",
    "\n",
    "#loss_val_curve = history.history[\"val_loss\"]\n",
    "#acc_val_curve = history.history[\"val_accuracy\"]\n",
    "\n",
    "plt.plot(loss_curve, label=\"cnn_loss\",  marker=11)\n",
    "\n",
    "plt.legend(loc=\"upper left\")\n",
    "plt.title(\"loss\")\n",
    "plt.savefig('acc_loss.png')\n",
    "plt.show()\n",
    "\n",
    "plt.plot(acc_curve, label=\"cnn_acc\",  marker=11)\n",
    "\n",
    "plt.legend(loc=\"upper left\")\n",
    "plt.title(\"Accuracy\")\n",
    "plt.savefig('acc_cnn.png')\n",
    "plt.show()\n",
    "\n",
    "accuracy = model.evaluate(validation_generator)\n",
    "print('n', 'Test_Accuracy:-', accuracy[1])\n",
    "pred = model.predict(validation_generator)\n",
    "y_pred = np.argmax(pred, axis=1)\n",
    "y_true = np.argmax(pred, axis=1)\n",
    "print(classification_report(y_true, y_pred, labels=[0,1, 2,3,4,5,6]))  #Car sur RAVDESS il ya 8 emotions\n",
    "print('confusion matrix')\n",
    "print(confusion_matrix(y_true, y_pred))\n",
    "    #confusion matrix\n",
    "f, ax = plt.subplots(figsize=(8,5))\n",
    "sns.heatmap(confusion_matrix(y_true, y_pred), annot=True, fmt=\".0f\", ax=ax)\n",
    "plt.xlabel(\"y_pred\")\n",
    "plt.ylabel(\"y_true\")\n",
    "plt.show()"
   ]
  },
  {
   "cell_type": "code",
   "execution_count": null,
   "metadata": {},
   "outputs": [],
   "source": []
  },
  {
   "cell_type": "code",
   "execution_count": null,
   "metadata": {},
   "outputs": [],
   "source": []
  },
  {
   "cell_type": "code",
   "execution_count": null,
   "metadata": {},
   "outputs": [],
   "source": [
    "#Fonction pour Encoder un fichier Audio en Spectrogramme"
   ]
  },
  {
   "cell_type": "code",
   "execution_count": null,
   "metadata": {},
   "outputs": [],
   "source": []
  },
  {
   "cell_type": "code",
   "execution_count": 25,
   "metadata": {},
   "outputs": [],
   "source": [
    "#Fonction qui prend en entrée un spectrogramme et donne en sortie une émotion\n",
    "import tensorflow as tf\n",
    "#Dictionnaires d'émotions\n",
    "Emotions_Dictionary={0:'Neutral',1:'Calm',2:'Happy',3:'Sad',4:'Angry',5:'Fearful',6:'Disgust',7:'Surpise'}\n",
    "def EmotionsPredictionFormSpectrogrammee(SpectrogramUtteranceFolder):\n",
    "    #Charger les SpectroGramme des prises de paroles (classés par ordre chrnologique_alphanumérique dans le repertoire)\n",
    "    path_dir = SpectrogramUtteranceFolder\n",
    "    PrisesDeParole_datagen = ImageDataGenerator(\n",
    "                    rescale=1./255)\n",
    "    PrisesDeParole_generator = PrisesDeParole_datagen.flow_from_directory(\n",
    "    path_dir,\n",
    "    target_size=(1080,216),\n",
    "    shuffle=False)\n",
    "    \n",
    "    #charger le model pré entrainé\n",
    "    #Pretrained_Model_PATH='C:/Users/fijitsu/Documents/A-LABORATORY-PYTHON/PretrainedCnnModel/model_4.h5'\n",
    "    #MyPretrained_Model = tf.keras.models.load_model('MyPretrainedModel')\n",
    "    MyPretrained_Model=model\n",
    "    \n",
    "    #Prediction des emotions\n",
    "    pred = MyPretrained_Model.predict(PrisesDeParole_generator)\n",
    "    y_pred = np.argmax(pred, axis=1)\n",
    "    #Display result\n",
    "    print(y_pred)\n",
    "    return y_pred\n",
    "\n",
    "    "
   ]
  },
  {
   "cell_type": "code",
   "execution_count": 29,
   "metadata": {},
   "outputs": [
    {
     "name": "stdout",
     "output_type": "stream",
     "text": [
      "Found 400 images belonging to 1 classes.\n",
      "[6 3 1 6 1 3 3 3 1 3 6 1 1 3 3 1 6 1 1 6 6 1 6 6 3 6 1 3 1 1 3 1 1 3 3 6 3\n",
      " 6 3 6 3 3 3 1 3 3 3 1 3 3 3 3 3 3 3 3 3 3 3 3 6 3 2 6 3 3 3 6 3 3 3 3 3 6\n",
      " 6 6 3 3 6 3 3 3 3 3 3 3 2 3 3 3 3 1 6 6 1 6 6 6 1 3 3 3 6 6 6 1 1 3 3 1 2\n",
      " 3 3 6 3 3 3 3 3 3 3 3 3 6 3 3 3 3 3 5 3 3 5 3 3 3 3 3 3 3 3 3 3 3 3 6 3 3\n",
      " 3 3 3 3 3 3 3 3 3 5 3 3 3 3 3 3 2 3 3 3 3 3 3 3 3 3 5 3 3 3 6 3 3 3 5 3 3\n",
      " 3 7 3 3 6 3 3 3 3 3 3 3 3 3 3 3 3 3 3 3 3 2 3 3 3 3 6 3 3 3 3 3 3 3 3 3 3\n",
      " 6 3 3 3 3 3 3 3 3 3 3 3 3 3 3 3 3 3 3 3 3 3 3 6 3 3 3 3 1 3 3 3 3 3 3 3 3\n",
      " 3 3 3 2 3 6 3 3 6 3 3 3 3 3 3 5 3 3 3 3 3 3 3 3 3 3 3 3 5 3 1 5 3 3 3 3 3\n",
      " 3 3 3 3 3 3 5 3 3 3 3 5 3 3 3 3 3 3 3 3 3 3 3 3 3 2 3 3 3 3 3 3 3 3 5 3 3\n",
      " 6 3 3 3 3 3 3 6 6 6 6 2 6 6 3 1 6 1 3 3 3 3 3 6 6 3 2 3 3 3 3 6 6 3 6 6 6\n",
      " 6 3 3 6 6 6 6 6 6 6 6 3 3 3 3 3 6 1 1 3 1 3 3 6 2 1 3 6 6 3]\n",
      "les émotions contenus dans les prises de parole: ['Disgust', 'Sad', 'Calm', 'Disgust', 'Calm', 'Sad', 'Sad', 'Sad', 'Calm', 'Sad', 'Disgust', 'Calm', 'Calm', 'Sad', 'Sad', 'Calm', 'Disgust', 'Calm', 'Calm', 'Disgust', 'Disgust', 'Calm', 'Disgust', 'Disgust', 'Sad', 'Disgust', 'Calm', 'Sad', 'Calm', 'Calm', 'Sad', 'Calm', 'Calm', 'Sad', 'Sad', 'Disgust', 'Sad', 'Disgust', 'Sad', 'Disgust', 'Sad', 'Sad', 'Sad', 'Calm', 'Sad', 'Sad', 'Sad', 'Calm', 'Sad', 'Sad', 'Sad', 'Sad', 'Sad', 'Sad', 'Sad', 'Sad', 'Sad', 'Sad', 'Sad', 'Sad', 'Disgust', 'Sad', 'Happy', 'Disgust', 'Sad', 'Sad', 'Sad', 'Disgust', 'Sad', 'Sad', 'Sad', 'Sad', 'Sad', 'Disgust', 'Disgust', 'Disgust', 'Sad', 'Sad', 'Disgust', 'Sad', 'Sad', 'Sad', 'Sad', 'Sad', 'Sad', 'Sad', 'Happy', 'Sad', 'Sad', 'Sad', 'Sad', 'Calm', 'Disgust', 'Disgust', 'Calm', 'Disgust', 'Disgust', 'Disgust', 'Calm', 'Sad', 'Sad', 'Sad', 'Disgust', 'Disgust', 'Disgust', 'Calm', 'Calm', 'Sad', 'Sad', 'Calm', 'Happy', 'Sad', 'Sad', 'Disgust', 'Sad', 'Sad', 'Sad', 'Sad', 'Sad', 'Sad', 'Sad', 'Sad', 'Sad', 'Disgust', 'Sad', 'Sad', 'Sad', 'Sad', 'Sad', 'Fearful', 'Sad', 'Sad', 'Fearful', 'Sad', 'Sad', 'Sad', 'Sad', 'Sad', 'Sad', 'Sad', 'Sad', 'Sad', 'Sad', 'Sad', 'Sad', 'Disgust', 'Sad', 'Sad', 'Sad', 'Sad', 'Sad', 'Sad', 'Sad', 'Sad', 'Sad', 'Sad', 'Sad', 'Fearful', 'Sad', 'Sad', 'Sad', 'Sad', 'Sad', 'Sad', 'Happy', 'Sad', 'Sad', 'Sad', 'Sad', 'Sad', 'Sad', 'Sad', 'Sad', 'Sad', 'Fearful', 'Sad', 'Sad', 'Sad', 'Disgust', 'Sad', 'Sad', 'Sad', 'Fearful', 'Sad', 'Sad', 'Sad', 'Surpise', 'Sad', 'Sad', 'Disgust', 'Sad', 'Sad', 'Sad', 'Sad', 'Sad', 'Sad', 'Sad', 'Sad', 'Sad', 'Sad', 'Sad', 'Sad', 'Sad', 'Sad', 'Sad', 'Sad', 'Happy', 'Sad', 'Sad', 'Sad', 'Sad', 'Disgust', 'Sad', 'Sad', 'Sad', 'Sad', 'Sad', 'Sad', 'Sad', 'Sad', 'Sad', 'Sad', 'Disgust', 'Sad', 'Sad', 'Sad', 'Sad', 'Sad', 'Sad', 'Sad', 'Sad', 'Sad', 'Sad', 'Sad', 'Sad', 'Sad', 'Sad', 'Sad', 'Sad', 'Sad', 'Sad', 'Sad', 'Sad', 'Sad', 'Sad', 'Disgust', 'Sad', 'Sad', 'Sad', 'Sad', 'Calm', 'Sad', 'Sad', 'Sad', 'Sad', 'Sad', 'Sad', 'Sad', 'Sad', 'Sad', 'Sad', 'Sad', 'Happy', 'Sad', 'Disgust', 'Sad', 'Sad', 'Disgust', 'Sad', 'Sad', 'Sad', 'Sad', 'Sad', 'Sad', 'Fearful', 'Sad', 'Sad', 'Sad', 'Sad', 'Sad', 'Sad', 'Sad', 'Sad', 'Sad', 'Sad', 'Sad', 'Sad', 'Fearful', 'Sad', 'Calm', 'Fearful', 'Sad', 'Sad', 'Sad', 'Sad', 'Sad', 'Sad', 'Sad', 'Sad', 'Sad', 'Sad', 'Sad', 'Fearful', 'Sad', 'Sad', 'Sad', 'Sad', 'Fearful', 'Sad', 'Sad', 'Sad', 'Sad', 'Sad', 'Sad', 'Sad', 'Sad', 'Sad', 'Sad', 'Sad', 'Sad', 'Sad', 'Happy', 'Sad', 'Sad', 'Sad', 'Sad', 'Sad', 'Sad', 'Sad', 'Sad', 'Fearful', 'Sad', 'Sad', 'Disgust', 'Sad', 'Sad', 'Sad', 'Sad', 'Sad', 'Sad', 'Disgust', 'Disgust', 'Disgust', 'Disgust', 'Happy', 'Disgust', 'Disgust', 'Sad', 'Calm', 'Disgust', 'Calm', 'Sad', 'Sad', 'Sad', 'Sad', 'Sad', 'Disgust', 'Disgust', 'Sad', 'Happy', 'Sad', 'Sad', 'Sad', 'Sad', 'Disgust', 'Disgust', 'Sad', 'Disgust', 'Disgust', 'Disgust', 'Disgust', 'Sad', 'Sad', 'Disgust', 'Disgust', 'Disgust', 'Disgust', 'Disgust', 'Disgust', 'Disgust', 'Disgust', 'Sad', 'Sad', 'Sad', 'Sad', 'Sad', 'Disgust', 'Calm', 'Calm', 'Sad', 'Calm', 'Sad', 'Sad', 'Disgust', 'Happy', 'Calm', 'Sad', 'Disgust', 'Disgust', 'Sad']\n"
     ]
    }
   ],
   "source": [
    "##Testons voir\n",
    "##SpectrogramUtteranceFolder='./SpectrogrammeLocuteurX/'\n",
    "\n",
    "#SpectrogramUtteranceFolder=RavdessBySpectrogram_PATH+''\n",
    "SpectrogramUtteranceFolder=\"C:/Users/INSIDE BINARIES/Documents/LABO_PYTHON/DATASET/PredictionMFCC/\"\n",
    "PredictedEmotions_labels=EmotionsPredictionFormSpectrogrammee(SpectrogramUtteranceFolder)\n",
    "print('les émotions contenus dans les prises de parole:',[Emotions_Dictionary[ii] for ii in PredictedEmotions_labels])\n"
   ]
  },
  {
   "cell_type": "code",
   "execution_count": 34,
   "metadata": {},
   "outputs": [
    {
     "name": "stdout",
     "output_type": "stream",
     "text": [
      "16.25\n"
     ]
    }
   ],
   "source": [
    "print(list(PredictedEmotions_labels).count(6)*100 / len(list(PredictedEmotions_labels)))\n"
   ]
  },
  {
   "cell_type": "code",
   "execution_count": 36,
   "metadata": {},
   "outputs": [
    {
     "name": "stdout",
     "output_type": "stream",
     "text": [
      "Found 11 images belonging to 4 classes.\n",
      "[0 0 0 0 1 1 5 5 5 5 6]\n"
     ]
    }
   ],
   "source": [
    "\n",
    "#yhat = model.predict(train_generator)\n",
    "\n",
    "path_dir = './SpectrogrammeLocuteurX/'\n",
    "\n",
    "PrisesDeParole_datagen = ImageDataGenerator(\n",
    "                    rescale=1./255)\n",
    "PrisesDeParole_generator = datagen.flow_from_directory(\n",
    "    path_dir,\n",
    "    target_size=(350,350),\n",
    "    shuffle=False\n",
    ")\n",
    "\n",
    "\n",
    "pred = model.predict(PrisesDeParole_generator)\n",
    "y_pred = np.argmax(pred, axis=1)\n",
    "print(y_pred)\n"
   ]
  },
  {
   "cell_type": "code",
   "execution_count": null,
   "metadata": {},
   "outputs": [],
   "source": []
  },
  {
   "cell_type": "code",
   "execution_count": 53,
   "metadata": {},
   "outputs": [
    {
     "name": "stdout",
     "output_type": "stream",
     "text": [
      "1440\n",
      "181.625\n",
      "180.0\n"
     ]
    }
   ],
   "source": [
    "\n",
    "print(7*24*2*2*2+1*24*2*2)\n",
    "print((187+201+203+192+191+96+191+192)/8)\n",
    "print((7*192+96)/8)"
   ]
  },
  {
   "cell_type": "code",
   "execution_count": 51,
   "metadata": {},
   "outputs": [
    {
     "name": "stdout",
     "output_type": "stream",
     "text": [
      "96\n"
     ]
    }
   ],
   "source": [
    "print(1*24*1*2*2)"
   ]
  },
  {
   "cell_type": "code",
   "execution_count": 52,
   "metadata": {},
   "outputs": [
    {
     "name": "stdout",
     "output_type": "stream",
     "text": [
      "192\n"
     ]
    }
   ],
   "source": [
    "print(24*2*2*2)"
   ]
  },
  {
   "cell_type": "code",
   "execution_count": null,
   "metadata": {},
   "outputs": [],
   "source": []
  },
  {
   "cell_type": "code",
   "execution_count": null,
   "metadata": {},
   "outputs": [],
   "source": []
  },
  {
   "cell_type": "code",
   "execution_count": null,
   "metadata": {},
   "outputs": [],
   "source": []
  },
  {
   "cell_type": "code",
   "execution_count": null,
   "metadata": {},
   "outputs": [],
   "source": []
  },
  {
   "cell_type": "code",
   "execution_count": 15,
   "metadata": {},
   "outputs": [
    {
     "data": {
      "image/png": "[encoded data removed]",
      "text/plain": [
       "<Figure size 432x288 with 1 Axes>"
      ]
     },
     "metadata": {
      "needs_background": "light"
     },
     "output_type": "display_data"
    },
    {
     "data": {
      "image/png": "[encoded data removed]",
      "text/plain": [
       "<Figure size 432x288 with 1 Axes>"
      ]
     },
     "metadata": {
      "needs_background": "light"
     },
     "output_type": "display_data"
    },
    {
     "name": "stdout",
     "output_type": "stream",
     "text": [
      "14/14 [==============================] - 10s 687ms/step - loss: 16.9899 - acc: 0.1218\n",
      "n Test_Accuracy:- 0.12177986\n",
      "              precision    recall  f1-score   support\n",
      "\n",
      "           0       1.00      1.00      1.00         3\n",
      "           1       1.00      1.00      1.00        14\n",
      "           2       0.00      0.00      0.00         0\n",
      "           3       1.00      1.00      1.00        97\n",
      "           4       0.00      0.00      0.00         0\n",
      "           5       1.00      1.00      1.00         1\n",
      "           6       1.00      1.00      1.00       312\n",
      "           7       0.00      0.00      0.00         0\n",
      "\n",
      "   micro avg       1.00      1.00      1.00       427\n",
      "   macro avg       0.62      0.62      0.62       427\n",
      "weighted avg       1.00      1.00      1.00       427\n",
      "\n",
      "confusion matrix\n",
      "[[  3   0   0   0   0]\n",
      " [  0  14   0   0   0]\n",
      " [  0   0  97   0   0]\n",
      " [  0   0   0   1   0]\n",
      " [  0   0   0   0 312]]\n"
     ]
    },
    {
     "data": {
      "image/png": "[encoded data removed]",
      "text/plain": [
       "<Figure size 576x360 with 2 Axes>"
      ]
     },
     "metadata": {
      "needs_background": "light"
     },
     "output_type": "display_data"
    }
   ],
   "source": [
    "model.save('K_CNNmodelUsingRAVDESSDataSet.h5')\n",
    "yhat = model.predict(train_generator)\n",
    "\n",
    "\n",
    "import matplotlib.pyplot as plt\n",
    "\n",
    "loss_curve = history_cnn.history[\"loss\"]\n",
    "acc_curve = history_cnn.history[\"acc\"]\n",
    "\n",
    "#loss_val_curve = history.history[\"val_loss\"]\n",
    "#acc_val_curve = history.history[\"val_accuracy\"]\n",
    "\n",
    "plt.plot(loss_curve, label=\"cnn_loss\",  marker=11)\n",
    "\n",
    "plt.legend(loc=\"upper left\")\n",
    "plt.title(\"loss\")\n",
    "plt.savefig('acc_loss.png')\n",
    "plt.show()\n",
    "\n",
    "plt.plot(acc_curve, label=\"cnn_acc\",  marker=11)\n",
    "\n",
    "plt.legend(loc=\"upper left\")\n",
    "plt.title(\"Accuracy\")\n",
    "plt.savefig('acc_cnn.png')\n",
    "plt.show()\n",
    "\n",
    "accuracy = model.evaluate(validation_generator)\n",
    "print('n', 'Test_Accuracy:-', accuracy[1])\n",
    "pred = model.predict(validation_generator)\n",
    "y_pred = np.argmax(pred, axis=1)\n",
    "y_true = np.argmax(pred, axis=1)\n",
    "print(classification_report(y_true, y_pred, labels=[0,1, 2,3,4,5,6,7]))  #Car sur RAVDESS il ya 8 emotions\n",
    "print('confusion matrix')\n",
    "print(confusion_matrix(y_true, y_pred))\n",
    "    #confusion matrix\n",
    "f, ax = plt.subplots(figsize=(8,5))\n",
    "sns.heatmap(confusion_matrix(y_true, y_pred), annot=True, fmt=\".0f\", ax=ax)\n",
    "plt.xlabel(\"y_pred\")\n",
    "plt.ylabel(\"y_true\")\n",
    "plt.show()"
   ]
  },
  {
   "cell_type": "code",
   "execution_count": 25,
   "metadata": {},
   "outputs": [
    {
     "name": "stdout",
     "output_type": "stream",
     "text": [
      "32/32 [==============================] - 24s 740ms/step - loss: 3.7440 - acc: 0.2616\n",
      "n Test_Accuracy:- 0.2615992\n"
     ]
    }
   ],
   "source": [
    "datagen = ImageDataGenerator(\n",
    "                    rescale=1./255,\n",
    "                    validation_split = 0.3)\n",
    "train_generator = datagen.flow_from_directory(\n",
    "    path_dir,\n",
    "    target_size=(350,350),\n",
    "    shuffle=True,\n",
    "    subset='training'\n",
    ")\n",
    "validation_generator = datagen.flow_from_directory(\n",
    "    path_dir,\n",
    "    target_size=(350,350),\n",
    "    subset='validation'\n",
    ")\n"
   ]
  },
  {
   "cell_type": "code",
   "execution_count": 38,
   "metadata": {},
   "outputs": [
    {
     "name": "stdout",
     "output_type": "stream",
     "text": [
      "32/32 [==============================] - 12s 383ms/step - loss: 0.0026 - acc: 1.0000\n",
      "n Test_Accuracy:- 1.0\n"
     ]
    }
   ],
   "source": [
    "accuracy = model.evaluate(train_generator)\n",
    "print('n', 'Test_Accuracy:-', accuracy[1])\n"
   ]
  },
  {
   "cell_type": "code",
   "execution_count": 39,
   "metadata": {},
   "outputs": [
    {
     "name": "stdout",
     "output_type": "stream",
     "text": [
      "              precision    recall  f1-score   support\n",
      "\n",
      "           0       1.00      1.00      1.00        68\n",
      "           1       1.00      1.00      1.00       135\n",
      "           2       1.00      1.00      1.00       135\n",
      "           3       1.00      1.00      1.00       135\n",
      "           4       1.00      1.00      1.00       135\n",
      "           5       1.00      1.00      1.00       135\n",
      "           6       1.00      1.00      1.00       135\n",
      "           7       1.00      1.00      1.00       135\n",
      "\n",
      "    accuracy                           1.00      1013\n",
      "   macro avg       1.00      1.00      1.00      1013\n",
      "weighted avg       1.00      1.00      1.00      1013\n",
      "\n",
      "confusion matrix\n",
      "[[ 68   0   0   0   0   0   0   0]\n",
      " [  0 135   0   0   0   0   0   0]\n",
      " [  0   0 135   0   0   0   0   0]\n",
      " [  0   0   0 135   0   0   0   0]\n",
      " [  0   0   0   0 135   0   0   0]\n",
      " [  0   0   0   0   0 135   0   0]\n",
      " [  0   0   0   0   0   0 135   0]\n",
      " [  0   0   0   0   0   0   0 135]]\n"
     ]
    },
    {
     "data": {
      "image/png": "[encoded data removed]",
      "text/plain": [
       "<Figure size 576x360 with 2 Axes>"
      ]
     },
     "metadata": {
      "needs_background": "light"
     },
     "output_type": "display_data"
    }
   ],
   "source": [
    "pred = model.predict(train_generator)\n",
    "y_pred = np.argmax(pred, axis=1)\n",
    "y_true = np.argmax(pred, axis=1)\n",
    "print(classification_report(y_true, y_pred, labels=[0,1, 2,3,4,5,6,7]))  #Car sur RAVDESS il ya 8 emotions\n",
    "print('confusion matrix')\n",
    "print(confusion_matrix(y_true, y_pred))\n",
    "    #confusion matrix\n",
    "f, ax = plt.subplots(figsize=(8,5))\n",
    "sns.heatmap(confusion_matrix(y_true, y_pred), annot=True, fmt=\".0f\", ax=ax)\n",
    "plt.xlabel(\"y_pred\")\n",
    "plt.ylabel(\"y_true\")\n",
    "plt.show()"
   ]
  }
 ],
 "metadata": {
  "kernelspec": {
   "display_name": "Python 3",
   "language": "python",
   "name": "python3"
  },
  "language_info": {
   "codemirror_mode": {
    "name": "ipython",
    "version": 3
   },
   "file_extension": ".py",
   "mimetype": "text/x-python",
   "name": "python",
   "nbconvert_exporter": "python",
   "pygments_lexer": "ipython3",
   "version": "3.7.6"
  }
 },
 "nbformat": 4,
 "nbformat_minor": 5
}
